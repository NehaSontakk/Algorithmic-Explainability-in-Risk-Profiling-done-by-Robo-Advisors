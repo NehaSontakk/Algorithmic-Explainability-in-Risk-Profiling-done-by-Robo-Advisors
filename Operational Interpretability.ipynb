{
 "cells": [
  {
   "cell_type": "markdown",
   "metadata": {},
   "source": [
    "# Operational Interpretability\n",
    "\n",
    "Operational details of algorithmic decision making systems such as description of the process with thorough documentation about the algorithm used, assumptions made while using the dataset and constructing the model. This section should also include performance metrics of the algorithm on the dataset."
   ]
  },
  {
   "cell_type": "code",
   "execution_count": 2,
   "metadata": {},
   "outputs": [],
   "source": [
    "import pandas as pd\n",
    "import numpy as np\n",
    "from sklearn.model_selection import train_test_split\n",
    "from sklearn import metrics"
   ]
  },
  {
   "cell_type": "code",
   "execution_count": 3,
   "metadata": {},
   "outputs": [],
   "source": [
    "df_stratified = pd.read_csv(\"risk_stratified_sample_14oct2019.csv\")"
   ]
  },
  {
   "cell_type": "code",
   "execution_count": 4,
   "metadata": {},
   "outputs": [
    {
     "data": {
      "text/html": [
       "<div>\n",
       "<style scoped>\n",
       "    .dataframe tbody tr th:only-of-type {\n",
       "        vertical-align: middle;\n",
       "    }\n",
       "\n",
       "    .dataframe tbody tr th {\n",
       "        vertical-align: top;\n",
       "    }\n",
       "\n",
       "    .dataframe thead th {\n",
       "        text-align: right;\n",
       "    }\n",
       "</style>\n",
       "<table border=\"1\" class=\"dataframe\">\n",
       "  <thead>\n",
       "    <tr style=\"text-align: right;\">\n",
       "      <th></th>\n",
       "      <th>x_11</th>\n",
       "      <th>x_21</th>\n",
       "      <th>x_22</th>\n",
       "      <th>x_31</th>\n",
       "      <th>x_32</th>\n",
       "      <th>x_41</th>\n",
       "      <th>x_51</th>\n",
       "      <th>x_52</th>\n",
       "      <th>x_61</th>\n",
       "      <th>x_62</th>\n",
       "      <th>output</th>\n",
       "      <th>categories</th>\n",
       "    </tr>\n",
       "  </thead>\n",
       "  <tbody>\n",
       "    <tr>\n",
       "      <td>0</td>\n",
       "      <td>0.2</td>\n",
       "      <td>1.0</td>\n",
       "      <td>1.0</td>\n",
       "      <td>0.4</td>\n",
       "      <td>0.3</td>\n",
       "      <td>0.4</td>\n",
       "      <td>0.65</td>\n",
       "      <td>0.50</td>\n",
       "      <td>0.9</td>\n",
       "      <td>0.2</td>\n",
       "      <td>1.696900</td>\n",
       "      <td>2.0</td>\n",
       "    </tr>\n",
       "    <tr>\n",
       "      <td>1</td>\n",
       "      <td>1.0</td>\n",
       "      <td>0.8</td>\n",
       "      <td>1.0</td>\n",
       "      <td>0.6</td>\n",
       "      <td>1.0</td>\n",
       "      <td>0.4</td>\n",
       "      <td>0.65</td>\n",
       "      <td>0.80</td>\n",
       "      <td>0.9</td>\n",
       "      <td>0.3</td>\n",
       "      <td>4.830400</td>\n",
       "      <td>5.0</td>\n",
       "    </tr>\n",
       "    <tr>\n",
       "      <td>2</td>\n",
       "      <td>0.5</td>\n",
       "      <td>1.0</td>\n",
       "      <td>1.0</td>\n",
       "      <td>0.4</td>\n",
       "      <td>0.3</td>\n",
       "      <td>0.4</td>\n",
       "      <td>0.60</td>\n",
       "      <td>0.60</td>\n",
       "      <td>1.0</td>\n",
       "      <td>0.9</td>\n",
       "      <td>2.840650</td>\n",
       "      <td>3.0</td>\n",
       "    </tr>\n",
       "    <tr>\n",
       "      <td>3</td>\n",
       "      <td>1.0</td>\n",
       "      <td>0.8</td>\n",
       "      <td>0.4</td>\n",
       "      <td>0.8</td>\n",
       "      <td>0.1</td>\n",
       "      <td>0.8</td>\n",
       "      <td>1.00</td>\n",
       "      <td>0.65</td>\n",
       "      <td>1.0</td>\n",
       "      <td>0.9</td>\n",
       "      <td>4.123420</td>\n",
       "      <td>4.0</td>\n",
       "    </tr>\n",
       "    <tr>\n",
       "      <td>4</td>\n",
       "      <td>0.5</td>\n",
       "      <td>1.0</td>\n",
       "      <td>0.6</td>\n",
       "      <td>1.0</td>\n",
       "      <td>0.3</td>\n",
       "      <td>0.4</td>\n",
       "      <td>1.00</td>\n",
       "      <td>0.50</td>\n",
       "      <td>0.2</td>\n",
       "      <td>0.9</td>\n",
       "      <td>2.682875</td>\n",
       "      <td>3.0</td>\n",
       "    </tr>\n",
       "  </tbody>\n",
       "</table>\n",
       "</div>"
      ],
      "text/plain": [
       "   x_11  x_21  x_22  x_31  x_32  x_41  x_51  x_52  x_61  x_62    output  \\\n",
       "0   0.2   1.0   1.0   0.4   0.3   0.4  0.65  0.50   0.9   0.2  1.696900   \n",
       "1   1.0   0.8   1.0   0.6   1.0   0.4  0.65  0.80   0.9   0.3  4.830400   \n",
       "2   0.5   1.0   1.0   0.4   0.3   0.4  0.60  0.60   1.0   0.9  2.840650   \n",
       "3   1.0   0.8   0.4   0.8   0.1   0.8  1.00  0.65   1.0   0.9  4.123420   \n",
       "4   0.5   1.0   0.6   1.0   0.3   0.4  1.00  0.50   0.2   0.9  2.682875   \n",
       "\n",
       "   categories  \n",
       "0         2.0  \n",
       "1         5.0  \n",
       "2         3.0  \n",
       "3         4.0  \n",
       "4         3.0  "
      ]
     },
     "execution_count": 4,
     "metadata": {},
     "output_type": "execute_result"
    }
   ],
   "source": [
    "df_stratified.drop(df_stratified.columns[df_stratified.columns.str.contains('unnamed',case=False)],axis=1,inplace=True)\n",
    "df_stratified.head()"
   ]
  },
  {
   "cell_type": "code",
   "execution_count": 5,
   "metadata": {},
   "outputs": [],
   "source": [
    "df_stratified.drop(columns=['output'],inplace=True)\n",
    "X = df_stratified.drop(columns=['categories'])\n",
    "Y = df_stratified['categories']\n",
    "X_train , X_test, Y_train, Y_test = train_test_split(X,Y,test_size=0.4,random_state=42,stratify=Y)"
   ]
  },
  {
   "cell_type": "code",
   "execution_count": 6,
   "metadata": {},
   "outputs": [
    {
     "name": "stdout",
     "output_type": "stream",
     "text": [
      "Train data shape : (566230, 10) and Test data shape : (377488, 10)\n"
     ]
    }
   ],
   "source": [
    "print(\"Train data shape : {} and Test data shape : {}\".format(X_train.shape,X_test.shape))"
   ]
  },
  {
   "cell_type": "markdown",
   "metadata": {},
   "source": [
    "## LOGISTIC REGRESSION CLASSIFIER\n",
    "\n",
    "\n",
    "Logistic Regression is a commonly used statistical method for analysing and predicting data with one or more independent variables and one binary dependent variable; for example spam or not spam email classifiers, benign or malignant tumor detection. \n",
    "\n",
    "A logistic regression classifier tries to fit data according to a linear hypothesis function such as:\n",
    "__Y= W(i)x(i) + B__ (Similar to a line equation) \n",
    "\n",
    "Where Y is the dependent variable, X represents independent variables from 1 to n, B gives an error bias (negligible) and W is the weight assigned to each variable. W is an important value as it tells us the individual contributions of variables in determining Y, our target. "
   ]
  },
  {
   "cell_type": "code",
   "execution_count": 6,
   "metadata": {},
   "outputs": [],
   "source": [
    "from sklearn.linear_model import LogisticRegression"
   ]
  },
  {
   "cell_type": "markdown",
   "metadata": {},
   "source": [
    "Regression is always accompanied by regularization, primarily to reduce overfitting. Here we use ridge regularization which is a more stable form."
   ]
  },
  {
   "cell_type": "code",
   "execution_count": 7,
   "metadata": {},
   "outputs": [
    {
     "name": "stderr",
     "output_type": "stream",
     "text": [
      "/home/ubuntu/.local/lib/python3.6/site-packages/sklearn/linear_model/logistic.py:469: FutureWarning: Default multi_class will be changed to 'auto' in 0.22. Specify the multi_class option to silence this warning.\n",
      "  \"this warning.\", FutureWarning)\n"
     ]
    },
    {
     "name": "stdout",
     "output_type": "stream",
     "text": [
      "Misclassified samples: 96031\n",
      "Accuracy: 0.75\n"
     ]
    }
   ],
   "source": [
    "model = LogisticRegression(penalty='l2',solver = 'lbfgs')\n",
    "model.fit(X_train, Y_train)\n",
    "y_pred = model.predict(X_test)\n",
    "count_misclassified = (Y_test != y_pred).sum()\n",
    "print('Misclassified samples: {}'.format(count_misclassified))\n",
    "accuracy = metrics.accuracy_score(Y_test, y_pred)\n",
    "print('Accuracy: {:.2f}'.format(accuracy))"
   ]
  },
  {
   "cell_type": "markdown",
   "metadata": {},
   "source": [
    "The interpretation of weights in logistic regression is dependent on the probability of class classification, the weighted sum is transformed by the logistic function to a probability. Therefore the interpretation equation is:\n",
    "\n",
    "The log function calculates the odds of an event occurring.\n",
    "*************add image\n",
    "***********************************************\n",
    "\n",
    "************\n",
    "\n",
    "Logistic regression is used over linear regression as completely linear model does not output probabilities, but it treats the classes as numbers (0 and 1) and fits the best hyperplane (for a single feature, it is a line) that minimizes the distances between the points and the hyperplane. So it simply interpolates between the points, and you cannot interpret it as probabilities. A linear model also extrapolates and gives you values below zero and above one. Logistic regression is also widely used, interpretable and fits our use case relatively well.\n"
   ]
  },
  {
   "cell_type": "code",
   "execution_count": 8,
   "metadata": {},
   "outputs": [
    {
     "name": "stdout",
     "output_type": "stream",
     "text": [
      "              precision    recall  f1-score   support\n",
      "\n",
      "     no risk       0.97      0.96      0.97     60932\n",
      "    low risk       0.68      0.92      0.78    137559\n",
      "    moderate       0.56      0.28      0.37     94906\n",
      "  likes risk       0.77      0.78      0.78     56511\n",
      "   high risk       0.97      0.92      0.94     27580\n",
      "\n",
      "    accuracy                           0.75    377488\n",
      "   macro avg       0.79      0.77      0.77    377488\n",
      "weighted avg       0.73      0.75      0.72    377488\n",
      "\n"
     ]
    }
   ],
   "source": [
    "print(metrics.classification_report(Y_test,y_pred,target_names=['no risk','low risk','moderate','likes risk','high risk']))"
   ]
  },
  {
   "cell_type": "markdown",
   "metadata": {},
   "source": [
    "#### The equation added as sgd_equation is the represantative equation for the whole dataset generated using stochastic gradient descent. Refer the Linear SGD equation file for deets, values found after a 1000 iterations."
   ]
  },
  {
   "cell_type": "code",
   "execution_count": 9,
   "metadata": {},
   "outputs": [],
   "source": [
    "LR_coeff_df = pd.DataFrame(model.coef_,columns=['x_11','x_21','x_22','x_31','x_32','x_41','x_51','x_52','x_61','x_62'])\n",
    "LR_coeff_df['Class'] = ['no risk','low risk','moderate','likes risk','high risk']\n",
    "sgd_row = {\"Class\":\"SGD equation\",\"x_11\":2.663673,\"x_21\":1.420705,\"x_22\":0.336652,\n",
    "\"x_31\"    :0.048391,\n",
    "\"x_32\"   : 0.618651,\n",
    "\"x_41\"  : -0.583775,\n",
    "\"x_51\":    0.013008,\n",
    "\"x_52\":   -0.470474,\n",
    "\"x_61\" :   0.188667,\n",
    "\"x_62\":   -0.057476}\n",
    "LR_coeff_df = LR_coeff_df.append(sgd_row,ignore_index=True)"
   ]
  },
  {
   "cell_type": "code",
   "execution_count": 10,
   "metadata": {},
   "outputs": [
    {
     "data": {
      "text/html": [
       "<div>\n",
       "<style scoped>\n",
       "    .dataframe tbody tr th:only-of-type {\n",
       "        vertical-align: middle;\n",
       "    }\n",
       "\n",
       "    .dataframe tbody tr th {\n",
       "        vertical-align: top;\n",
       "    }\n",
       "\n",
       "    .dataframe thead th {\n",
       "        text-align: right;\n",
       "    }\n",
       "</style>\n",
       "<table border=\"1\" class=\"dataframe\">\n",
       "  <thead>\n",
       "    <tr style=\"text-align: right;\">\n",
       "      <th></th>\n",
       "      <th>Class</th>\n",
       "      <th>x_11</th>\n",
       "      <th>x_21</th>\n",
       "      <th>x_22</th>\n",
       "      <th>x_31</th>\n",
       "      <th>x_32</th>\n",
       "      <th>x_41</th>\n",
       "      <th>x_51</th>\n",
       "      <th>x_52</th>\n",
       "      <th>x_61</th>\n",
       "      <th>x_62</th>\n",
       "    </tr>\n",
       "  </thead>\n",
       "  <tbody>\n",
       "    <tr>\n",
       "      <td>0</td>\n",
       "      <td>no risk</td>\n",
       "      <td>-74.900631</td>\n",
       "      <td>-42.756345</td>\n",
       "      <td>-6.806257</td>\n",
       "      <td>-4.020138</td>\n",
       "      <td>-22.932878</td>\n",
       "      <td>-1.871084</td>\n",
       "      <td>-5.928420</td>\n",
       "      <td>-6.294438</td>\n",
       "      <td>-4.033414</td>\n",
       "      <td>-0.692863</td>\n",
       "    </tr>\n",
       "    <tr>\n",
       "      <td>1</td>\n",
       "      <td>low risk</td>\n",
       "      <td>-3.549860</td>\n",
       "      <td>0.404575</td>\n",
       "      <td>-0.352370</td>\n",
       "      <td>-0.218315</td>\n",
       "      <td>-0.018350</td>\n",
       "      <td>-0.086049</td>\n",
       "      <td>-0.325397</td>\n",
       "      <td>-0.375934</td>\n",
       "      <td>-0.254416</td>\n",
       "      <td>-0.077527</td>\n",
       "    </tr>\n",
       "    <tr>\n",
       "      <td>2</td>\n",
       "      <td>moderate</td>\n",
       "      <td>1.515754</td>\n",
       "      <td>0.143127</td>\n",
       "      <td>0.176856</td>\n",
       "      <td>0.163927</td>\n",
       "      <td>0.964164</td>\n",
       "      <td>0.037354</td>\n",
       "      <td>0.191780</td>\n",
       "      <td>0.178652</td>\n",
       "      <td>0.157874</td>\n",
       "      <td>0.019491</td>\n",
       "    </tr>\n",
       "    <tr>\n",
       "      <td>3</td>\n",
       "      <td>likes risk</td>\n",
       "      <td>9.495009</td>\n",
       "      <td>4.380873</td>\n",
       "      <td>-0.063696</td>\n",
       "      <td>-0.273479</td>\n",
       "      <td>-0.365843</td>\n",
       "      <td>-0.145721</td>\n",
       "      <td>-0.701024</td>\n",
       "      <td>-0.851686</td>\n",
       "      <td>-0.393691</td>\n",
       "      <td>-0.264489</td>\n",
       "    </tr>\n",
       "    <tr>\n",
       "      <td>4</td>\n",
       "      <td>high risk</td>\n",
       "      <td>48.097769</td>\n",
       "      <td>43.891817</td>\n",
       "      <td>13.275078</td>\n",
       "      <td>9.599984</td>\n",
       "      <td>14.138681</td>\n",
       "      <td>4.809087</td>\n",
       "      <td>15.661030</td>\n",
       "      <td>18.875388</td>\n",
       "      <td>10.446535</td>\n",
       "      <td>4.264161</td>\n",
       "    </tr>\n",
       "    <tr>\n",
       "      <td>5</td>\n",
       "      <td>SGD equation</td>\n",
       "      <td>2.663673</td>\n",
       "      <td>1.420705</td>\n",
       "      <td>0.336652</td>\n",
       "      <td>0.048391</td>\n",
       "      <td>0.618651</td>\n",
       "      <td>-0.583775</td>\n",
       "      <td>0.013008</td>\n",
       "      <td>-0.470474</td>\n",
       "      <td>0.188667</td>\n",
       "      <td>-0.057476</td>\n",
       "    </tr>\n",
       "  </tbody>\n",
       "</table>\n",
       "</div>"
      ],
      "text/plain": [
       "          Class       x_11       x_21       x_22      x_31       x_32  \\\n",
       "0       no risk -74.900631 -42.756345  -6.806257 -4.020138 -22.932878   \n",
       "1      low risk  -3.549860   0.404575  -0.352370 -0.218315  -0.018350   \n",
       "2      moderate   1.515754   0.143127   0.176856  0.163927   0.964164   \n",
       "3    likes risk   9.495009   4.380873  -0.063696 -0.273479  -0.365843   \n",
       "4     high risk  48.097769  43.891817  13.275078  9.599984  14.138681   \n",
       "5  SGD equation   2.663673   1.420705   0.336652  0.048391   0.618651   \n",
       "\n",
       "       x_41       x_51       x_52       x_61      x_62  \n",
       "0 -1.871084  -5.928420  -6.294438  -4.033414 -0.692863  \n",
       "1 -0.086049  -0.325397  -0.375934  -0.254416 -0.077527  \n",
       "2  0.037354   0.191780   0.178652   0.157874  0.019491  \n",
       "3 -0.145721  -0.701024  -0.851686  -0.393691 -0.264489  \n",
       "4  4.809087  15.661030  18.875388  10.446535  4.264161  \n",
       "5 -0.583775   0.013008  -0.470474   0.188667 -0.057476  "
      ]
     },
     "execution_count": 10,
     "metadata": {},
     "output_type": "execute_result"
    }
   ],
   "source": [
    "LR_coeff_df[['Class','x_11','x_21','x_22','x_31','x_32','x_41','x_51','x_52','x_61','x_62']]"
   ]
  },
  {
   "cell_type": "markdown",
   "metadata": {},
   "source": [
    "## Gaussian NAIVE BAYES CLASSIFIER\n",
    "\n",
    "\n",
    "Naive bayes classifiers are a family of classifiers that work on predicting future outcomes using conditional probability, given a history of behaviour; for example given say a year long history of weather forecasts with features such as humidity, rainfall, temperature a classifier from the naive bayes family can be trained and used to predict future weather conditions. \n",
    "\n",
    "The bayes algorithm works under a “naive” assumption that all the features are independent in nature, in our case that means the naive bayes classifier is going to assume that our variables such as age, income are uncorrelated so finding probabilities can be thought of as a simple counting calculation. This implies that the classifier won’t be a right fit for our case as we know that the data was generated using many correlations (such as age will affect an individual's income, behaviour etc..). Due to its simplicity it has found a place in many real world systems such as credit scoring systems, weather prediction and many others so for the sake of representing and explaining all classifiers we will try this one out as well.\n"
   ]
  },
  {
   "cell_type": "markdown",
   "metadata": {},
   "source": [
    "If the naive bayes classifier wants to calculate the probability of observing features f1 to fn, given a class c (In our case c here,represents the risk class and f values represent all our question-answer scores), then\n",
    "\n",
    "This means that when Naive Bayes is used to classify a new example, the posterior probability is much simpler to work with:\n",
    "\n",
    "But we have left p(fn | c) undefined i.e. the occurrence of a certain feature given a class which means we haven’t taken the distribution of the features into account yet. Therefore for our case we have used a gaussian naive bayes classifier that simply assumes p (fn | c) is a gaussian normal distribution, this works well for our data which is a normal distribution.\n",
    "Then the formula for our low risk class used by the classifier will be something like:\n",
    "P ( low-risk / Age, Income, Dependents ..) = P( low-risk / Age-category) * P(low-risk / Income-category)  etc/ P(Age) * P(income) etc \n",
    "This will be calculated for all risk categories and the class with the highest probability is given as the final prediction.\n"
   ]
  },
  {
   "cell_type": "code",
   "execution_count": 11,
   "metadata": {},
   "outputs": [],
   "source": [
    "from sklearn.naive_bayes import GaussianNB \n",
    "gnb = GaussianNB().fit(X_train, Y_train) \n",
    "gnb_predictions = gnb.predict(X_test) "
   ]
  },
  {
   "cell_type": "code",
   "execution_count": 12,
   "metadata": {},
   "outputs": [
    {
     "name": "stdout",
     "output_type": "stream",
     "text": [
      "Misclassified samples: 153761\n",
      "Accuracy: 0.59\n"
     ]
    }
   ],
   "source": [
    "count_misclassified_gnb = (Y_test != gnb_predictions).sum()\n",
    "print('Misclassified samples: {}'.format(count_misclassified_gnb))\n",
    "accuracy_gnb = metrics.accuracy_score(Y_test, gnb_predictions)\n",
    "print('Accuracy: {:.2f}'.format(accuracy_gnb))"
   ]
  },
  {
   "cell_type": "code",
   "execution_count": 13,
   "metadata": {},
   "outputs": [
    {
     "name": "stderr",
     "output_type": "stream",
     "text": [
      "/home/ubuntu/.local/lib/python3.6/site-packages/sklearn/metrics/classification.py:1437: UndefinedMetricWarning: Precision and F-score are ill-defined and being set to 0.0 in labels with no predicted samples.\n",
      "  'precision', 'predicted', average, warn_for)\n"
     ]
    },
    {
     "name": "stdout",
     "output_type": "stream",
     "text": [
      "              precision    recall  f1-score   support\n",
      "\n",
      "     no risk       1.00      0.69      0.82     60932\n",
      "    low risk       0.62      0.94      0.75    137559\n",
      "    moderate       0.74      0.26      0.38     94906\n",
      "  likes risk       0.00      0.00      0.00     56511\n",
      "   high risk       0.29      1.00      0.45     27580\n",
      "\n",
      "    accuracy                           0.59    377488\n",
      "   macro avg       0.53      0.58      0.48    377488\n",
      "weighted avg       0.59      0.59      0.53    377488\n",
      "\n"
     ]
    }
   ],
   "source": [
    "print(metrics.classification_report(Y_test,gnb_predictions,target_names=['no risk','low risk','moderate','likes risk','high risk']))"
   ]
  },
  {
   "cell_type": "markdown",
   "metadata": {},
   "source": [
    "Classes in the model"
   ]
  },
  {
   "cell_type": "code",
   "execution_count": 14,
   "metadata": {},
   "outputs": [
    {
     "data": {
      "text/plain": [
       "array([1., 2., 3., 4., 5.])"
      ]
     },
     "execution_count": 14,
     "metadata": {},
     "output_type": "execute_result"
    }
   ],
   "source": [
    "gnb.classes_"
   ]
  },
  {
   "cell_type": "markdown",
   "metadata": {},
   "source": [
    "__Probabilities of each class.__"
   ]
  },
  {
   "cell_type": "code",
   "execution_count": 15,
   "metadata": {},
   "outputs": [
    {
     "data": {
      "text/plain": [
       "array([0.16141497, 0.36440669, 0.25141374, 0.14970242, 0.07306218])"
      ]
     },
     "execution_count": 15,
     "metadata": {},
     "output_type": "execute_result"
    }
   ],
   "source": [
    "gnb.class_prior_"
   ]
  },
  {
   "cell_type": "markdown",
   "metadata": {},
   "source": [
    "Counts of each class."
   ]
  },
  {
   "cell_type": "code",
   "execution_count": 16,
   "metadata": {},
   "outputs": [
    {
     "data": {
      "text/plain": [
       "array([ 91398., 206338., 142358.,  84766.,  41370.])"
      ]
     },
     "execution_count": 16,
     "metadata": {},
     "output_type": "execute_result"
    }
   ],
   "source": [
    "gnb.class_count_"
   ]
  },
  {
   "cell_type": "markdown",
   "metadata": {},
   "source": [
    "__Variance of each feature per class__"
   ]
  },
  {
   "cell_type": "code",
   "execution_count": 17,
   "metadata": {},
   "outputs": [
    {
     "data": {
      "text/plain": [
       "array([[9.42398079e-03, 4.68723770e-02, 5.56722717e-02, 8.10443174e-02,\n",
       "        1.06371063e-01, 2.20399470e-02, 3.79039784e-02, 1.00226347e-02,\n",
       "        1.28340602e-01, 1.01230882e-01],\n",
       "       [4.33987700e-02, 5.22082510e-02, 7.45763051e-02, 8.04481980e-02,\n",
       "        1.12595308e-01, 2.22822306e-02, 4.04349485e-02, 9.97388384e-03,\n",
       "        1.29791124e-01, 1.01376384e-01],\n",
       "       [5.85416619e-02, 5.62066827e-02, 7.35366576e-02, 8.03623549e-02,\n",
       "        1.05850499e-01, 2.25140756e-02, 4.25974688e-02, 9.98453481e-03,\n",
       "        1.30751003e-01, 1.01348794e-01],\n",
       "       [5.43297567e-03, 1.24480296e-02, 7.61094953e-02, 7.89359830e-02,\n",
       "        1.13821570e-01, 2.21745690e-02, 3.84970605e-02, 9.95139439e-03,\n",
       "        1.27005485e-01, 1.00681888e-01],\n",
       "       [1.30387606e-10, 6.99186079e-03, 6.74146306e-02, 7.41051653e-02,\n",
       "        7.46135399e-02, 2.37036014e-02, 5.04110707e-02, 9.52353542e-03,\n",
       "        1.09863049e-01, 1.01488765e-01]])"
      ]
     },
     "execution_count": 17,
     "metadata": {},
     "output_type": "execute_result"
    }
   ],
   "source": [
    "gnb.sigma_"
   ]
  },
  {
   "cell_type": "markdown",
   "metadata": {},
   "source": [
    "Absolute additive value to variances"
   ]
  },
  {
   "cell_type": "code",
   "execution_count": 18,
   "metadata": {},
   "outputs": [
    {
     "data": {
      "text/plain": [
       "1.3038760591984656e-10"
      ]
     },
     "execution_count": 18,
     "metadata": {},
     "output_type": "execute_result"
    }
   ],
   "source": [
    "gnb.epsilon_"
   ]
  },
  {
   "cell_type": "code",
   "execution_count": 19,
   "metadata": {},
   "outputs": [],
   "source": [
    "NB_coeff_df = pd.DataFrame(gnb.sigma_,columns=['x_11','x_21','x_22','x_31','x_32','x_41','x_51','x_52','x_61','x_62'])"
   ]
  },
  {
   "cell_type": "code",
   "execution_count": 20,
   "metadata": {},
   "outputs": [],
   "source": [
    "NB_coeff_df['Counts'] = gnb.class_count_\n",
    "NB_coeff_df['Prior Probabilities'] = gnb.class_prior_\n",
    "NB_coeff_df['Class'] = ['no risk','low risk','moderate','likes risk','high risk']"
   ]
  },
  {
   "cell_type": "code",
   "execution_count": 21,
   "metadata": {},
   "outputs": [
    {
     "data": {
      "text/html": [
       "<div>\n",
       "<style scoped>\n",
       "    .dataframe tbody tr th:only-of-type {\n",
       "        vertical-align: middle;\n",
       "    }\n",
       "\n",
       "    .dataframe tbody tr th {\n",
       "        vertical-align: top;\n",
       "    }\n",
       "\n",
       "    .dataframe thead th {\n",
       "        text-align: right;\n",
       "    }\n",
       "</style>\n",
       "<table border=\"1\" class=\"dataframe\">\n",
       "  <thead>\n",
       "    <tr style=\"text-align: right;\">\n",
       "      <th></th>\n",
       "      <th>Class</th>\n",
       "      <th>Prior Probabilities</th>\n",
       "      <th>Counts</th>\n",
       "      <th>x_11</th>\n",
       "      <th>x_21</th>\n",
       "      <th>x_22</th>\n",
       "      <th>x_31</th>\n",
       "      <th>x_32</th>\n",
       "      <th>x_41</th>\n",
       "      <th>x_51</th>\n",
       "      <th>x_52</th>\n",
       "      <th>x_61</th>\n",
       "      <th>x_62</th>\n",
       "    </tr>\n",
       "  </thead>\n",
       "  <tbody>\n",
       "    <tr>\n",
       "      <td>0</td>\n",
       "      <td>no risk</td>\n",
       "      <td>0.161415</td>\n",
       "      <td>91398.0</td>\n",
       "      <td>9.423981e-03</td>\n",
       "      <td>0.046872</td>\n",
       "      <td>0.055672</td>\n",
       "      <td>0.081044</td>\n",
       "      <td>0.106371</td>\n",
       "      <td>0.022040</td>\n",
       "      <td>0.037904</td>\n",
       "      <td>0.010023</td>\n",
       "      <td>0.128341</td>\n",
       "      <td>0.101231</td>\n",
       "    </tr>\n",
       "    <tr>\n",
       "      <td>1</td>\n",
       "      <td>low risk</td>\n",
       "      <td>0.364407</td>\n",
       "      <td>206338.0</td>\n",
       "      <td>4.339877e-02</td>\n",
       "      <td>0.052208</td>\n",
       "      <td>0.074576</td>\n",
       "      <td>0.080448</td>\n",
       "      <td>0.112595</td>\n",
       "      <td>0.022282</td>\n",
       "      <td>0.040435</td>\n",
       "      <td>0.009974</td>\n",
       "      <td>0.129791</td>\n",
       "      <td>0.101376</td>\n",
       "    </tr>\n",
       "    <tr>\n",
       "      <td>2</td>\n",
       "      <td>moderate</td>\n",
       "      <td>0.251414</td>\n",
       "      <td>142358.0</td>\n",
       "      <td>5.854166e-02</td>\n",
       "      <td>0.056207</td>\n",
       "      <td>0.073537</td>\n",
       "      <td>0.080362</td>\n",
       "      <td>0.105850</td>\n",
       "      <td>0.022514</td>\n",
       "      <td>0.042597</td>\n",
       "      <td>0.009985</td>\n",
       "      <td>0.130751</td>\n",
       "      <td>0.101349</td>\n",
       "    </tr>\n",
       "    <tr>\n",
       "      <td>3</td>\n",
       "      <td>likes risk</td>\n",
       "      <td>0.149702</td>\n",
       "      <td>84766.0</td>\n",
       "      <td>5.432976e-03</td>\n",
       "      <td>0.012448</td>\n",
       "      <td>0.076109</td>\n",
       "      <td>0.078936</td>\n",
       "      <td>0.113822</td>\n",
       "      <td>0.022175</td>\n",
       "      <td>0.038497</td>\n",
       "      <td>0.009951</td>\n",
       "      <td>0.127005</td>\n",
       "      <td>0.100682</td>\n",
       "    </tr>\n",
       "    <tr>\n",
       "      <td>4</td>\n",
       "      <td>high risk</td>\n",
       "      <td>0.073062</td>\n",
       "      <td>41370.0</td>\n",
       "      <td>1.303876e-10</td>\n",
       "      <td>0.006992</td>\n",
       "      <td>0.067415</td>\n",
       "      <td>0.074105</td>\n",
       "      <td>0.074614</td>\n",
       "      <td>0.023704</td>\n",
       "      <td>0.050411</td>\n",
       "      <td>0.009524</td>\n",
       "      <td>0.109863</td>\n",
       "      <td>0.101489</td>\n",
       "    </tr>\n",
       "  </tbody>\n",
       "</table>\n",
       "</div>"
      ],
      "text/plain": [
       "        Class  Prior Probabilities    Counts          x_11      x_21  \\\n",
       "0     no risk             0.161415   91398.0  9.423981e-03  0.046872   \n",
       "1    low risk             0.364407  206338.0  4.339877e-02  0.052208   \n",
       "2    moderate             0.251414  142358.0  5.854166e-02  0.056207   \n",
       "3  likes risk             0.149702   84766.0  5.432976e-03  0.012448   \n",
       "4   high risk             0.073062   41370.0  1.303876e-10  0.006992   \n",
       "\n",
       "       x_22      x_31      x_32      x_41      x_51      x_52      x_61  \\\n",
       "0  0.055672  0.081044  0.106371  0.022040  0.037904  0.010023  0.128341   \n",
       "1  0.074576  0.080448  0.112595  0.022282  0.040435  0.009974  0.129791   \n",
       "2  0.073537  0.080362  0.105850  0.022514  0.042597  0.009985  0.130751   \n",
       "3  0.076109  0.078936  0.113822  0.022175  0.038497  0.009951  0.127005   \n",
       "4  0.067415  0.074105  0.074614  0.023704  0.050411  0.009524  0.109863   \n",
       "\n",
       "       x_62  \n",
       "0  0.101231  \n",
       "1  0.101376  \n",
       "2  0.101349  \n",
       "3  0.100682  \n",
       "4  0.101489  "
      ]
     },
     "execution_count": 21,
     "metadata": {},
     "output_type": "execute_result"
    }
   ],
   "source": [
    "NB_coeff_df[['Class','Prior Probabilities','Counts','x_11','x_21','x_22','x_31','x_32','x_41','x_51','x_52','x_61','x_62']]"
   ]
  },
  {
   "cell_type": "markdown",
   "metadata": {},
   "source": [
    "Naive Bayes is an interpretable model because of the independence assumption. It can be interpreted on the modular level. The contribution made by each feature towards a specific class prediction is clear, since we can interpret the conditional probability. The algorithms interpretability using various methods is demonstrated in the other notebooks"
   ]
  },
  {
   "cell_type": "markdown",
   "metadata": {},
   "source": [
    "## DECISION TREE"
   ]
  },
  {
   "cell_type": "markdown",
   "metadata": {},
   "source": [
    "Decision trees belong to the family of tree based learning algorithms, they are widely used for supervised classification as they create precise, well defined and hierarchical decision boundaries for categorical and continuous data. This differs from classifiers that use a single separation boundary (or line) such as logistic regression by iteratively splitting the data into subparts by identifying multiple divisive boundaries. \n",
    "\n",
    "The conditions that make these divisions try to ensure an absence of impurities in the populations contained by them; for example a condition that decision tree will make to describes a ‘banana’ could be in the sequence type=”fruit”, colour = “yellow”, shape = “crescent”, spots = “true” this leaves no place for uncertainty or impurity. The algorithm stops when all classes are pure or there are no features left to divide upon.\n",
    "Unfortunately such sharp dividing conditions are not always possible or may exceed certain time and space limitations in real life. Therefore when a clear separation of classes is not possible then we can have a stopping condition that tolerates some impurity (For example gini impurity measures quality of such splits by calculating the probability of an incorrect classification of a randomly picked datapoint). \n",
    "The impurity itself can be calculated using a measure of randomness, entropy: H= -p(x)log(p(x))or -plog(p) -qlog(q) where p =probability of success and q = prob of failure \n",
    "Ideally H should be as small as possible.\n",
    "\n",
    "For a dataset like ours with multiple features, deciding the splitting feature i.e. most important dividing condition at each step is a complex task, this feature should reduce the impurity through the split or one with gives the most information gain. Information gain at each node is calculated by the lowest entropy generated nodes by the split."
   ]
  },
  {
   "cell_type": "code",
   "execution_count": 12,
   "metadata": {},
   "outputs": [],
   "source": [
    "# training a DescisionTreeClassifier \n",
    "from sklearn.tree import DecisionTreeClassifier \n",
    "dtree_model = DecisionTreeClassifier(max_depth = 16).fit(X_train, Y_train) \n",
    "dtree_predictions = dtree_model.predict(X_test) "
   ]
  },
  {
   "cell_type": "code",
   "execution_count": 13,
   "metadata": {},
   "outputs": [
    {
     "name": "stdout",
     "output_type": "stream",
     "text": [
      "Misclassified samples: 11779\n",
      "Accuracy: 0.97\n"
     ]
    }
   ],
   "source": [
    "count_misclassified_dtree = (Y_test != dtree_predictions).sum()\n",
    "print('Misclassified samples: {}'.format(count_misclassified_dtree))\n",
    "accuracy_dtree = metrics.accuracy_score(Y_test, dtree_predictions)\n",
    "print('Accuracy: {:.2f}'.format(accuracy_dtree))"
   ]
  },
  {
   "cell_type": "code",
   "execution_count": 15,
   "metadata": {},
   "outputs": [
    {
     "data": {
      "image/png": "[encoded data removed]",
      "text/plain": [
       "<IPython.core.display.Image object>"
      ]
     },
     "execution_count": 15,
     "metadata": {},
     "output_type": "execute_result"
    }
   ],
   "source": [
    "from sklearn.tree import export_graphviz\n",
    "from sklearn import tree\n",
    "from IPython.display import SVG\n",
    "from IPython.display import Image\n",
    "import graphviz\n",
    "\n",
    "from sklearn.tree import export_graphviz\n",
    "from sklearn.externals.six import StringIO  \n",
    "from IPython.display import Image  \n",
    "import pydotplus\n",
    "\n",
    "dot_data = StringIO()\n",
    "export_graphviz(dtree_model, out_file=dot_data,  \n",
    "                filled=True,max_depth=2, rounded=True,feature_names=['x_11','x_21','x_22','x_31','x_32','x_41','x_51','x_52','x_61','x_62'],\n",
    "                special_characters=True,class_names=['no risk','low risk','moderate','likes risk','high risk'])\n",
    "graph = pydotplus.graph_from_dot_data(dot_data.getvalue())  \n",
    "graph.write_png('tree.png')\n",
    "Image(graph.create_png())"
   ]
  },
  {
   "cell_type": "code",
   "execution_count": 16,
   "metadata": {},
   "outputs": [
    {
     "name": "stdout",
     "output_type": "stream",
     "text": [
      "              precision    recall  f1-score   support\n",
      "\n",
      "     no risk       0.99      0.99      0.99     60932\n",
      "    low risk       0.98      0.98      0.98    137559\n",
      "    moderate       0.97      0.97      0.97     94906\n",
      "  likes risk       0.94      0.94      0.94     56511\n",
      "   high risk       0.94      0.92      0.93     27580\n",
      "\n",
      "    accuracy                           0.97    377488\n",
      "   macro avg       0.96      0.96      0.96    377488\n",
      "weighted avg       0.97      0.97      0.97    377488\n",
      "\n"
     ]
    }
   ],
   "source": [
    "print(metrics.classification_report(Y_test,dtree_predictions,target_names=['no risk','low risk','moderate','likes risk','high risk']))"
   ]
  },
  {
   "cell_type": "code",
   "execution_count": 18,
   "metadata": {},
   "outputs": [
    {
     "data": {
      "text/plain": [
       "array([1., 2., 3., 4., 5.])"
      ]
     },
     "execution_count": 18,
     "metadata": {},
     "output_type": "execute_result"
    }
   ],
   "source": [
    "dtree_model.classes_"
   ]
  },
  {
   "cell_type": "code",
   "execution_count": 19,
   "metadata": {},
   "outputs": [
    {
     "data": {
      "text/plain": [
       "array([0.23901751, 0.29250996, 0.07314801, 0.04685759, 0.18416961,\n",
       "       0.00913005, 0.05225388, 0.03116019, 0.0572915 , 0.0144617 ])"
      ]
     },
     "execution_count": 19,
     "metadata": {},
     "output_type": "execute_result"
    }
   ],
   "source": [
    "dtree_model.feature_importances_"
   ]
  },
  {
   "cell_type": "code",
   "execution_count": 60,
   "metadata": {},
   "outputs": [],
   "source": [
    "sgd_row_1 = [2.663673,1.420705,0.336652,0.048391,0.618651,-0.583775,0.013008,-0.470474,0.188667,-0.057476]\n",
    "dtree_row = pd.DataFrame([dtree_model.feature_importances_,sgd_row_1],columns=['x_11','x_21','x_22','x_31','x_32','x_41','x_51','x_52','x_61','x_62'])\n",
    "dtree_row['Equations'] = ['DTree feature importance','SGD Equation']"
   ]
  },
  {
   "cell_type": "code",
   "execution_count": 62,
   "metadata": {},
   "outputs": [
    {
     "data": {
      "text/html": [
       "<div>\n",
       "<style scoped>\n",
       "    .dataframe tbody tr th:only-of-type {\n",
       "        vertical-align: middle;\n",
       "    }\n",
       "\n",
       "    .dataframe tbody tr th {\n",
       "        vertical-align: top;\n",
       "    }\n",
       "\n",
       "    .dataframe thead th {\n",
       "        text-align: right;\n",
       "    }\n",
       "</style>\n",
       "<table border=\"1\" class=\"dataframe\">\n",
       "  <thead>\n",
       "    <tr style=\"text-align: right;\">\n",
       "      <th></th>\n",
       "      <th>Equations</th>\n",
       "      <th>x_11</th>\n",
       "      <th>x_21</th>\n",
       "      <th>x_22</th>\n",
       "      <th>x_31</th>\n",
       "      <th>x_32</th>\n",
       "      <th>x_41</th>\n",
       "      <th>x_51</th>\n",
       "      <th>x_52</th>\n",
       "      <th>x_61</th>\n",
       "      <th>x_62</th>\n",
       "    </tr>\n",
       "  </thead>\n",
       "  <tbody>\n",
       "    <tr>\n",
       "      <td>0</td>\n",
       "      <td>DTree feature importance</td>\n",
       "      <td>0.239018</td>\n",
       "      <td>0.292510</td>\n",
       "      <td>0.073148</td>\n",
       "      <td>0.046858</td>\n",
       "      <td>0.184170</td>\n",
       "      <td>0.009130</td>\n",
       "      <td>0.052254</td>\n",
       "      <td>0.031160</td>\n",
       "      <td>0.057292</td>\n",
       "      <td>0.014462</td>\n",
       "    </tr>\n",
       "    <tr>\n",
       "      <td>1</td>\n",
       "      <td>SGD Equation</td>\n",
       "      <td>2.663673</td>\n",
       "      <td>1.420705</td>\n",
       "      <td>0.336652</td>\n",
       "      <td>0.048391</td>\n",
       "      <td>0.618651</td>\n",
       "      <td>-0.583775</td>\n",
       "      <td>0.013008</td>\n",
       "      <td>-0.470474</td>\n",
       "      <td>0.188667</td>\n",
       "      <td>-0.057476</td>\n",
       "    </tr>\n",
       "  </tbody>\n",
       "</table>\n",
       "</div>"
      ],
      "text/plain": [
       "                  Equations      x_11      x_21      x_22      x_31      x_32  \\\n",
       "0  DTree feature importance  0.239018  0.292510  0.073148  0.046858  0.184170   \n",
       "1              SGD Equation  2.663673  1.420705  0.336652  0.048391  0.618651   \n",
       "\n",
       "       x_41      x_51      x_52      x_61      x_62  \n",
       "0  0.009130  0.052254  0.031160  0.057292  0.014462  \n",
       "1 -0.583775  0.013008 -0.470474  0.188667 -0.057476  "
      ]
     },
     "execution_count": 62,
     "metadata": {},
     "output_type": "execute_result"
    }
   ],
   "source": [
    "dtree_row[['Equations','x_11','x_21','x_22','x_31','x_32','x_41','x_51','x_52','x_61','x_62']]"
   ]
  },
  {
   "cell_type": "code",
   "execution_count": 65,
   "metadata": {},
   "outputs": [
    {
     "data": {
      "text/plain": [
       "10"
      ]
     },
     "execution_count": 65,
     "metadata": {},
     "output_type": "execute_result"
    }
   ],
   "source": [
    "dtree_model.max_features_"
   ]
  },
  {
   "cell_type": "code",
   "execution_count": 66,
   "metadata": {},
   "outputs": [
    {
     "data": {
      "text/plain": [
       "10"
      ]
     },
     "execution_count": 66,
     "metadata": {},
     "output_type": "execute_result"
    }
   ],
   "source": [
    "dtree_model.n_features_"
   ]
  },
  {
   "cell_type": "code",
   "execution_count": 67,
   "metadata": {},
   "outputs": [
    {
     "data": {
      "text/plain": [
       "1"
      ]
     },
     "execution_count": 67,
     "metadata": {},
     "output_type": "execute_result"
    }
   ],
   "source": [
    "dtree_model.n_outputs_"
   ]
  },
  {
   "cell_type": "markdown",
   "metadata": {},
   "source": [
    "## SUPPORT VECTOR MACHINE"
   ]
  },
  {
   "cell_type": "markdown",
   "metadata": {},
   "source": [
    "A support vector machine finds an equation of a hyper-plane that separates two or more classes in a multidimensional space; for example if we consider a two dimensional space this “hyperplane” will become a line dividing the plane on which the data lies into two seperate classes. If the data is not linearly separable i.e. there is no clear line separating the classes (This happens in many cases imagine two classes in the data forming concentric circles ) then data can be transformed onto a different plane (say we view the concentric circles from z axis ) it becomes a linearly separable problem again ( Imagine the points in the circle having different depth ), after separating we can transform it back to the original plane : this is done using a kernel function in SVM. \n",
    "\n",
    "Support vector machines have become wildly popular due to their robust efficiency and high accuracy despite requiring very few samples to train. They have disadvantages especially when it comes to time and space complexity but the SVM algorithm along with it’s variations are being used commercially in face detection, protein fold predictions etc..\n"
   ]
  },
  {
   "cell_type": "markdown",
   "metadata": {},
   "source": [
    "SVM for multiclass classification trains n*(n-1)/2 classifiers, where n is the number of classes in the problem. Therefore for our problem there will be 10 different classifiers each will choose permutations of classes as the binary dependent variable(Y) i.e. 1 or 2, 2 or 3, 1 or 4 and all others. During this each classifier predicts one class instead of probabilities for each. "
   ]
  },
  {
   "cell_type": "markdown",
   "metadata": {},
   "source": [
    "reduced training samples."
   ]
  },
  {
   "cell_type": "code",
   "execution_count": 7,
   "metadata": {},
   "outputs": [],
   "source": [
    "X_train_svc , X_test_svc, Y_train_svc, Y_test_svc = train_test_split(X,Y,test_size=0.98,random_state=42,stratify=Y)"
   ]
  },
  {
   "cell_type": "code",
   "execution_count": 8,
   "metadata": {},
   "outputs": [
    {
     "data": {
      "text/plain": [
       "(18874, 10)"
      ]
     },
     "execution_count": 8,
     "metadata": {},
     "output_type": "execute_result"
    }
   ],
   "source": [
    "X_train_svc.shape"
   ]
  },
  {
   "cell_type": "code",
   "execution_count": 9,
   "metadata": {},
   "outputs": [
    {
     "name": "stderr",
     "output_type": "stream",
     "text": [
      "/home/ubuntu/.local/lib/python3.6/site-packages/sklearn/svm/base.py:193: FutureWarning: The default value of gamma will change from 'auto' to 'scale' in version 0.22 to account better for unscaled features. Set gamma explicitly to 'auto' or 'scale' to avoid this warning.\n",
      "  \"avoid this warning.\", FutureWarning)\n"
     ]
    }
   ],
   "source": [
    "# training a polynomial SVM classifier \n",
    "from sklearn.svm import SVC \n",
    "poly_model = SVC(kernel = 'poly', C = 1,probability=True).fit(X_train_svc, Y_train_svc) \n",
    "Y_svc_predictions = poly_model.predict(X_test_svc) "
   ]
  },
  {
   "cell_type": "code",
   "execution_count": 10,
   "metadata": {},
   "outputs": [
    {
     "name": "stdout",
     "output_type": "stream",
     "text": [
      "Misclassified samples: 68426\n",
      "Accuracy: 0.93\n"
     ]
    }
   ],
   "source": [
    "count_misclassified_poly = (Y_test_svc != Y_svc_predictions).sum()\n",
    "print('Misclassified samples: {}'.format(count_misclassified_poly))\n",
    "accuracy = metrics.accuracy_score(Y_test_svc, Y_svc_predictions)\n",
    "print('Accuracy: {:.2f}'.format(accuracy))"
   ]
  },
  {
   "cell_type": "code",
   "execution_count": 11,
   "metadata": {},
   "outputs": [
    {
     "name": "stdout",
     "output_type": "stream",
     "text": [
      "              precision    recall  f1-score   support\n",
      "\n",
      "     no risk       0.94      0.90      0.92    149283\n",
      "    low risk       0.93      0.96      0.95    337019\n",
      "    moderate       0.95      0.90      0.93    232519\n",
      "  likes risk       0.84      0.96      0.90    138452\n",
      "   high risk       0.98      0.84      0.91     67571\n",
      "\n",
      "    accuracy                           0.93    924844\n",
      "   macro avg       0.93      0.91      0.92    924844\n",
      "weighted avg       0.93      0.93      0.93    924844\n",
      "\n"
     ]
    }
   ],
   "source": [
    "print(metrics.classification_report(Y_test_svc,Y_svc_predictions,target_names=['no risk','low risk','moderate','likes risk','high risk']))"
   ]
  },
  {
   "cell_type": "markdown",
   "metadata": {},
   "source": [
    "Support vectors for our data samples."
   ]
  },
  {
   "cell_type": "code",
   "execution_count": 15,
   "metadata": {},
   "outputs": [
    {
     "data": {
      "text/plain": [
       "array([[0.2 , 0.8 , 0.6 , ..., 0.6 , 1.  , 0.2 ],\n",
       "       [0.5 , 0.4 , 0.2 , ..., 0.8 , 0.5 , 1.  ],\n",
       "       [0.2 , 0.8 , 0.4 , ..., 0.8 , 1.  , 0.2 ],\n",
       "       ...,\n",
       "       [1.  , 1.  , 0.8 , ..., 0.5 , 1.  , 0.9 ],\n",
       "       [1.  , 0.8 , 1.  , ..., 0.65, 0.2 , 0.5 ],\n",
       "       [1.  , 1.  , 0.6 , ..., 0.8 , 0.5 , 0.5 ]])"
      ]
     },
     "execution_count": 15,
     "metadata": {},
     "output_type": "execute_result"
    }
   ],
   "source": [
    "poly_model.support_vectors_"
   ]
  },
  {
   "cell_type": "code",
   "execution_count": 17,
   "metadata": {},
   "outputs": [
    {
     "data": {
      "text/plain": [
       "array([2005, 3893, 2834, 1746,  813], dtype=int32)"
      ]
     },
     "execution_count": 17,
     "metadata": {},
     "output_type": "execute_result"
    }
   ],
   "source": [
    "poly_model.n_support_"
   ]
  },
  {
   "cell_type": "code",
   "execution_count": 18,
   "metadata": {},
   "outputs": [
    {
     "data": {
      "text/plain": [
       "array([[ 1.,  1.,  1., ..., -0., -0., -0.],\n",
       "       [ 1.,  1.,  0., ..., -0., -0., -0.],\n",
       "       [ 0.,  1.,  0., ..., -1., -1., -1.],\n",
       "       [ 0.,  0.,  0., ..., -1., -1., -1.]])"
      ]
     },
     "execution_count": 18,
     "metadata": {},
     "output_type": "execute_result"
    }
   ],
   "source": [
    "poly_model.dual_coef_"
   ]
  },
  {
   "cell_type": "markdown",
   "metadata": {},
   "source": [
    "okay this is weird only linear svc uses one vs rest decisions and we are using polynomial"
   ]
  },
  {
   "cell_type": "code",
   "execution_count": 19,
   "metadata": {},
   "outputs": [
    {
     "data": {
      "text/plain": [
       "<bound method BaseSVC.decision_function of SVC(C=1, cache_size=200, class_weight=None, coef0=0.0,\n",
       "    decision_function_shape='ovr', degree=3, gamma='auto_deprecated',\n",
       "    kernel='poly', max_iter=-1, probability=True, random_state=None,\n",
       "    shrinking=True, tol=0.001, verbose=False)>"
      ]
     },
     "execution_count": 19,
     "metadata": {},
     "output_type": "execute_result"
    }
   ],
   "source": [
    "poly_model.decision_function"
   ]
  },
  {
   "cell_type": "code",
   "execution_count": 20,
   "metadata": {},
   "outputs": [
    {
     "data": {
      "text/plain": [
       "'ovr'"
      ]
     },
     "execution_count": 20,
     "metadata": {},
     "output_type": "execute_result"
    }
   ],
   "source": [
    "poly_model.decision_function_shape"
   ]
  },
  {
   "cell_type": "code",
   "execution_count": 22,
   "metadata": {},
   "outputs": [
    {
     "data": {
      "text/plain": [
       "array([2.48417753, 2.32709034, 1.65612356, 1.56388224, 4.34139146,\n",
       "       3.35792726, 2.57588695, 4.22900647, 4.68790241, 7.92279502])"
      ]
     },
     "execution_count": 22,
     "metadata": {},
     "output_type": "execute_result"
    }
   ],
   "source": [
    "poly_model.intercept_"
   ]
  },
  {
   "cell_type": "code",
   "execution_count": 23,
   "metadata": {},
   "outputs": [
    {
     "data": {
      "text/plain": [
       "array([-6.47236153, -6.96352574, -6.492837  , -6.34116641, -7.44150538,\n",
       "       -6.83482349, -6.27864424, -3.7074536 , -6.57060247, -4.10951948])"
      ]
     },
     "execution_count": 23,
     "metadata": {},
     "output_type": "execute_result"
    }
   ],
   "source": [
    "poly_model.probA_"
   ]
  },
  {
   "cell_type": "code",
   "execution_count": 24,
   "metadata": {},
   "outputs": [
    {
     "data": {
      "text/plain": [
       "array([-0.6627711 ,  0.14800767, -0.37016808, -0.63929229,  0.24349838,\n",
       "        0.09138972, -0.38212218, -0.68953952,  0.13136061,  0.61169366])"
      ]
     },
     "execution_count": 24,
     "metadata": {},
     "output_type": "execute_result"
    }
   ],
   "source": [
    "poly_model.probB_"
   ]
  },
  {
   "cell_type": "markdown",
   "metadata": {},
   "source": [
    "## K NEAREST NEIGHBORS"
   ]
  },
  {
   "cell_type": "markdown",
   "metadata": {},
   "source": [
    "Neighbors-based classification is a type of instance-based learning or non-generalizing learning: it does not try to construct a general internal model, but simply stores instances of the training data. K nearest neighbors is perhaps the simplest algorithm, a data point is classified by a majority vote of its neighbors. The input is assigned the class most common among its ‘k’ nearest neighbors, where ‘k’ is a small positive integer, the value of ‘k’ is chosen depending on the data. KNN is very useful in applications that require searching for similar items; such as recommender systems, biosurveillance software, document retrieval systems such as concept search which is used in many e-Discovery software packages.  \n",
    "    \n",
    "    \n",
    "These neighbors are decided using brute force techniques that calculate distance from the data point of interest to all the other data points in the dataset, by using formulae like euclidean distance. This means that the time and space complexity of this operation is very high; for n samples in d dimensions the time complexity will be O(d*n*n) which makes this algorithm too slow to run on large datasets such as ours but we will still cover it as it would be useful to see people and question-answers that could be grouped into one risk category."
   ]
  },
  {
   "cell_type": "code",
   "execution_count": 25,
   "metadata": {},
   "outputs": [
    {
     "name": "stdout",
     "output_type": "stream",
     "text": [
      "Misclassified samples: 11883\n",
      "Accuracy: 0.97\n"
     ]
    }
   ],
   "source": [
    "from sklearn.neighbors import KNeighborsClassifier \n",
    "knn = KNeighborsClassifier(n_neighbors = 10).fit(X_train, Y_train)\n",
    "knn_predictions = knn.predict(X_test)\n",
    "count_misclassified_knn = (Y_test != knn_predictions).sum()\n",
    "print('Misclassified samples: {}'.format(count_misclassified_knn))\n",
    "accuracy_knn = metrics.accuracy_score(Y_test, knn_predictions)\n",
    "print('Accuracy: {:.2f}'.format(accuracy_knn))"
   ]
  },
  {
   "cell_type": "code",
   "execution_count": 26,
   "metadata": {},
   "outputs": [
    {
     "name": "stdout",
     "output_type": "stream",
     "text": [
      "              precision    recall  f1-score   support\n",
      "\n",
      "     no risk       0.98      0.99      0.98     60932\n",
      "    low risk       0.98      0.98      0.98    137559\n",
      "    moderate       0.97      0.97      0.97     94906\n",
      "  likes risk       0.94      0.95      0.94     56511\n",
      "   high risk       0.95      0.91      0.93     27580\n",
      "\n",
      "    accuracy                           0.97    377488\n",
      "   macro avg       0.96      0.96      0.96    377488\n",
      "weighted avg       0.97      0.97      0.97    377488\n",
      "\n"
     ]
    }
   ],
   "source": [
    "print(metrics.classification_report(Y_test,knn_predictions,target_names=['no risk','low risk','moderate','likes risk','high risk']))"
   ]
  },
  {
   "cell_type": "code",
   "execution_count": 27,
   "metadata": {},
   "outputs": [
    {
     "data": {
      "text/plain": [
       "<bound method BaseEstimator.get_params of KNeighborsClassifier(algorithm='auto', leaf_size=30, metric='minkowski',\n",
       "                     metric_params=None, n_jobs=None, n_neighbors=10, p=2,\n",
       "                     weights='uniform')>"
      ]
     },
     "execution_count": 27,
     "metadata": {},
     "output_type": "execute_result"
    }
   ],
   "source": [
    "knn.get_params"
   ]
  },
  {
   "cell_type": "code",
   "execution_count": 30,
   "metadata": {},
   "outputs": [
    {
     "name": "stdout",
     "output_type": "stream",
     "text": [
      "  (0, 38458)\t1.0\n",
      "  (0, 76326)\t1.0\n",
      "  (0, 102658)\t1.0\n",
      "  (0, 378953)\t1.0\n",
      "  (0, 102976)\t1.0\n",
      "  (0, 350124)\t1.0\n",
      "  (0, 333313)\t1.0\n",
      "  (0, 401141)\t1.0\n",
      "  (0, 505582)\t1.0\n",
      "  (0, 334261)\t1.0\n",
      "  (1, 360792)\t1.0\n",
      "  (1, 392080)\t1.0\n",
      "  (1, 160769)\t1.0\n",
      "  (1, 409096)\t1.0\n",
      "  (1, 270750)\t1.0\n",
      "  (1, 422624)\t1.0\n",
      "  (1, 291669)\t1.0\n",
      "  (1, 181275)\t1.0\n",
      "  (1, 372964)\t1.0\n",
      "  (1, 392180)\t1.0\n",
      "  (2, 87628)\t1.0\n",
      "  (2, 500703)\t1.0\n",
      "  (2, 25182)\t1.0\n",
      "  (2, 350904)\t1.0\n",
      "  (2, 393648)\t1.0\n",
      "  :\t:\n",
      "  (566227, 186223)\t1.0\n",
      "  (566227, 16883)\t1.0\n",
      "  (566227, 81293)\t1.0\n",
      "  (566227, 487054)\t1.0\n",
      "  (566227, 105467)\t1.0\n",
      "  (566228, 98805)\t1.0\n",
      "  (566228, 144303)\t1.0\n",
      "  (566228, 43098)\t1.0\n",
      "  (566228, 81383)\t1.0\n",
      "  (566228, 34389)\t1.0\n",
      "  (566228, 124970)\t1.0\n",
      "  (566228, 533259)\t1.0\n",
      "  (566228, 249045)\t1.0\n",
      "  (566228, 332806)\t1.0\n",
      "  (566228, 379277)\t1.0\n",
      "  (566229, 297693)\t1.0\n",
      "  (566229, 3248)\t1.0\n",
      "  (566229, 212340)\t1.0\n",
      "  (566229, 517890)\t1.0\n",
      "  (566229, 289807)\t1.0\n",
      "  (566229, 291437)\t1.0\n",
      "  (566229, 244062)\t1.0\n",
      "  (566229, 528939)\t1.0\n",
      "  (566229, 368307)\t1.0\n",
      "  (566229, 317846)\t1.0\n"
     ]
    }
   ],
   "source": [
    "graph = knn.kneighbors_graph()\n",
    "print(graph)"
   ]
  },
  {
   "cell_type": "code",
   "execution_count": 32,
   "metadata": {},
   "outputs": [
    {
     "data": {
      "text/plain": [
       "x_11    0.2\n",
       "x_21    0.8\n",
       "x_22    0.6\n",
       "x_31    1.0\n",
       "x_32    0.1\n",
       "x_41    0.4\n",
       "x_51    1.0\n",
       "x_52    0.7\n",
       "x_61    0.1\n",
       "x_62    0.2\n",
       "Name: 2022, dtype: float64"
      ]
     },
     "execution_count": 32,
     "metadata": {},
     "output_type": "execute_result"
    }
   ],
   "source": [
    "X_test.iloc[10]"
   ]
  },
  {
   "cell_type": "code",
   "execution_count": 40,
   "metadata": {},
   "outputs": [
    {
     "data": {
      "text/plain": [
       "(array([[0.1       , 0.14142136, 0.14142136, 0.14142136, 0.14142136,\n",
       "         0.15      , 0.15      , 0.17320508, 0.2       , 0.2       ]]),\n",
       " array([[467357, 294170, 242635, 461918, 555542, 272519, 481088,  63314,\n",
       "         523824, 201046]]))"
      ]
     },
     "execution_count": 40,
     "metadata": {},
     "output_type": "execute_result"
    }
   ],
   "source": [
    "knn.kneighbors(np.array(X_test.iloc[10]).reshape(1, -1))"
   ]
  },
  {
   "cell_type": "code",
   "execution_count": 41,
   "metadata": {},
   "outputs": [
    {
     "data": {
      "text/plain": [
       "x_11    0.2\n",
       "x_21    0.4\n",
       "x_22    0.2\n",
       "x_31    0.4\n",
       "x_32    0.6\n",
       "x_41    0.4\n",
       "x_51    0.5\n",
       "x_52    0.6\n",
       "x_61    0.5\n",
       "x_62    0.9\n",
       "Name: 76820, dtype: float64"
      ]
     },
     "execution_count": 41,
     "metadata": {},
     "output_type": "execute_result"
    }
   ],
   "source": [
    "X_test.iloc[201046]"
   ]
  },
  {
   "cell_type": "markdown",
   "metadata": {},
   "source": [
    "__Interpretabiltiy of KNN__\n",
    "\n",
    "\n",
    "Since KNN is an instance based algorithm there is no learned model, there are no parameters to learn, so there is no interpretability on a modular level. There is a lack of global model interpretability because the model is inherently local and there are no global weights or structures explicitly learned. \n",
    "To explain a prediction at a local level, we can always retrieve the k neighbors that were used for the prediction. This is useful for our dataset as there will be thousands of neighboring data points but presenting those ‘k’ nearest points could be a very useful explanation for each category."
   ]
  },
  {
   "cell_type": "code",
   "execution_count": null,
   "metadata": {},
   "outputs": [],
   "source": []
  }
 ],
 "metadata": {
  "kernelspec": {
   "display_name": "Python 3",
   "language": "python",
   "name": "python3"
  },
  "language_info": {
   "codemirror_mode": {
    "name": "ipython",
    "version": 3
   },
   "file_extension": ".py",
   "mimetype": "text/x-python",
   "name": "python",
   "nbconvert_exporter": "python",
   "pygments_lexer": "ipython3",
   "version": "3.6.8"
  }
 },
 "nbformat": 4,
 "nbformat_minor": 2
}
