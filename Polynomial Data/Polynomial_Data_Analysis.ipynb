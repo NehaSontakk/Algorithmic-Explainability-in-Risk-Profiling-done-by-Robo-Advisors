{
 "cells": [
  {
   "cell_type": "markdown",
   "metadata": {},
   "source": [
    "# Polynomial Data Analysis\n",
    "\n",
    "Analysing and sampling the polynomial dataset.\n",
    "<br>\n",
    "Equation used to generate the data:\n",
    "<br>\n",
    "w_11 * __Age__ + w_21 * __Dependents__ + w_22 * __Annual_income__ * __Age__ + w_31 * __Monthly_loans__ * __Age__ * __Dependents__ + w_32* __Income_stability__ + w_41 * __Portfolio_status__ * __Age__ * __Dependents__ * __Duration_inv__ + w_51 * __Investment_obj__ * __Age__ * __Dependents__ * __Duration_inv__ + w_52 * __Duration_inv__ * __Investment_obj__ * __Age__ * __Dependents__ + w_61 * __Comfort__ * __Age__ * __Dependents__ +\n",
    "w_62* __Behaviour__ * __Dependents__ = Output"
   ]
  },
  {
   "cell_type": "code",
   "execution_count": 3,
   "metadata": {},
   "outputs": [],
   "source": [
    "import pandas as pd\n",
    "import numpy as np\n",
    "from sklearn.model_selection import train_test_split\n",
    "%matplotlib inline\n",
    "import seaborn as sns\n",
    "import matplotlib.pyplot as plt"
   ]
  },
  {
   "cell_type": "code",
   "execution_count": 4,
   "metadata": {},
   "outputs": [],
   "source": [
    "df_1 = pd.read_csv(\"x_11_1_poly.csv\")\n",
    "df_05 = pd.read_csv(\"x_11_05_poly.csv\")\n",
    "df_02 = pd.read_csv(\"x_11_02_poly.csv\")"
   ]
  },
  {
   "cell_type": "code",
   "execution_count": 5,
   "metadata": {},
   "outputs": [],
   "source": [
    "poly_df =pd.concat([df_1,df_05,df_02])\n",
    "poly_df = poly_df[['Age','Dependents','Annual_income','Monthly_loans','Income_stability','Portfolio_status','Investment_obj','Duration_inv','Comfort','Behaviour','output']]"
   ]
  },
  {
   "cell_type": "markdown",
   "metadata": {},
   "source": [
    "##### Dataset"
   ]
  },
  {
   "cell_type": "code",
   "execution_count": 6,
   "metadata": {},
   "outputs": [
    {
     "data": {
      "text/html": [
       "<div>\n",
       "<style scoped>\n",
       "    .dataframe tbody tr th:only-of-type {\n",
       "        vertical-align: middle;\n",
       "    }\n",
       "\n",
       "    .dataframe tbody tr th {\n",
       "        vertical-align: top;\n",
       "    }\n",
       "\n",
       "    .dataframe thead th {\n",
       "        text-align: right;\n",
       "    }\n",
       "</style>\n",
       "<table border=\"1\" class=\"dataframe\">\n",
       "  <thead>\n",
       "    <tr style=\"text-align: right;\">\n",
       "      <th></th>\n",
       "      <th>Age</th>\n",
       "      <th>Dependents</th>\n",
       "      <th>Annual_income</th>\n",
       "      <th>Monthly_loans</th>\n",
       "      <th>Income_stability</th>\n",
       "      <th>Portfolio_status</th>\n",
       "      <th>Investment_obj</th>\n",
       "      <th>Duration_inv</th>\n",
       "      <th>Comfort</th>\n",
       "      <th>Behaviour</th>\n",
       "      <th>output</th>\n",
       "    </tr>\n",
       "  </thead>\n",
       "  <tbody>\n",
       "    <tr>\n",
       "      <th>0</th>\n",
       "      <td>1.0</td>\n",
       "      <td>1.0</td>\n",
       "      <td>0.2</td>\n",
       "      <td>1.0</td>\n",
       "      <td>0.1</td>\n",
       "      <td>0.4</td>\n",
       "      <td>0.65</td>\n",
       "      <td>0.5</td>\n",
       "      <td>1.0</td>\n",
       "      <td>0.2</td>\n",
       "      <td>4.03750</td>\n",
       "    </tr>\n",
       "    <tr>\n",
       "      <th>1</th>\n",
       "      <td>1.0</td>\n",
       "      <td>1.0</td>\n",
       "      <td>0.2</td>\n",
       "      <td>1.0</td>\n",
       "      <td>0.1</td>\n",
       "      <td>0.4</td>\n",
       "      <td>0.65</td>\n",
       "      <td>0.5</td>\n",
       "      <td>1.0</td>\n",
       "      <td>0.3</td>\n",
       "      <td>4.04075</td>\n",
       "    </tr>\n",
       "    <tr>\n",
       "      <th>2</th>\n",
       "      <td>1.0</td>\n",
       "      <td>1.0</td>\n",
       "      <td>0.2</td>\n",
       "      <td>1.0</td>\n",
       "      <td>0.1</td>\n",
       "      <td>0.4</td>\n",
       "      <td>0.65</td>\n",
       "      <td>0.5</td>\n",
       "      <td>1.0</td>\n",
       "      <td>0.5</td>\n",
       "      <td>4.04725</td>\n",
       "    </tr>\n",
       "    <tr>\n",
       "      <th>3</th>\n",
       "      <td>1.0</td>\n",
       "      <td>1.0</td>\n",
       "      <td>0.2</td>\n",
       "      <td>1.0</td>\n",
       "      <td>0.1</td>\n",
       "      <td>0.4</td>\n",
       "      <td>0.65</td>\n",
       "      <td>0.5</td>\n",
       "      <td>1.0</td>\n",
       "      <td>0.9</td>\n",
       "      <td>4.06025</td>\n",
       "    </tr>\n",
       "    <tr>\n",
       "      <th>4</th>\n",
       "      <td>1.0</td>\n",
       "      <td>1.0</td>\n",
       "      <td>0.2</td>\n",
       "      <td>1.0</td>\n",
       "      <td>0.1</td>\n",
       "      <td>0.4</td>\n",
       "      <td>0.65</td>\n",
       "      <td>0.5</td>\n",
       "      <td>1.0</td>\n",
       "      <td>1.0</td>\n",
       "      <td>4.06350</td>\n",
       "    </tr>\n",
       "  </tbody>\n",
       "</table>\n",
       "</div>"
      ],
      "text/plain": [
       "   Age  Dependents  Annual_income  Monthly_loans  Income_stability  \\\n",
       "0  1.0         1.0            0.2            1.0               0.1   \n",
       "1  1.0         1.0            0.2            1.0               0.1   \n",
       "2  1.0         1.0            0.2            1.0               0.1   \n",
       "3  1.0         1.0            0.2            1.0               0.1   \n",
       "4  1.0         1.0            0.2            1.0               0.1   \n",
       "\n",
       "   Portfolio_status  Investment_obj  Duration_inv  Comfort  Behaviour   output  \n",
       "0               0.4            0.65           0.5      1.0        0.2  4.03750  \n",
       "1               0.4            0.65           0.5      1.0        0.3  4.04075  \n",
       "2               0.4            0.65           0.5      1.0        0.5  4.04725  \n",
       "3               0.4            0.65           0.5      1.0        0.9  4.06025  \n",
       "4               0.4            0.65           0.5      1.0        1.0  4.06350  "
      ]
     },
     "execution_count": 6,
     "metadata": {},
     "output_type": "execute_result"
    }
   ],
   "source": [
    "poly_df.head()"
   ]
  },
  {
   "cell_type": "markdown",
   "metadata": {},
   "source": [
    "##### Dataset Statistics"
   ]
  },
  {
   "cell_type": "code",
   "execution_count": 9,
   "metadata": {},
   "outputs": [
    {
     "data": {
      "text/plain": [
       "(3750000, 11)"
      ]
     },
     "execution_count": 9,
     "metadata": {},
     "output_type": "execute_result"
    }
   ],
   "source": [
    "poly_df.shape"
   ]
  },
  {
   "cell_type": "code",
   "execution_count": 7,
   "metadata": {},
   "outputs": [
    {
     "name": "stdout",
     "output_type": "stream",
     "text": [
      "<class 'pandas.core.frame.DataFrame'>\n",
      "Int64Index: 3750000 entries, 0 to 1249999\n",
      "Data columns (total 11 columns):\n",
      "Age                 float64\n",
      "Dependents          float64\n",
      "Annual_income       float64\n",
      "Monthly_loans       float64\n",
      "Income_stability    float64\n",
      "Portfolio_status    float64\n",
      "Investment_obj      float64\n",
      "Duration_inv        float64\n",
      "Comfort             float64\n",
      "Behaviour           float64\n",
      "output              float64\n",
      "dtypes: float64(11)\n",
      "memory usage: 343.3 MB\n"
     ]
    }
   ],
   "source": [
    "poly_df.info()"
   ]
  },
  {
   "cell_type": "code",
   "execution_count": 8,
   "metadata": {},
   "outputs": [
    {
     "data": {
      "text/html": [
       "<div>\n",
       "<style scoped>\n",
       "    .dataframe tbody tr th:only-of-type {\n",
       "        vertical-align: middle;\n",
       "    }\n",
       "\n",
       "    .dataframe tbody tr th {\n",
       "        vertical-align: top;\n",
       "    }\n",
       "\n",
       "    .dataframe thead th {\n",
       "        text-align: right;\n",
       "    }\n",
       "</style>\n",
       "<table border=\"1\" class=\"dataframe\">\n",
       "  <thead>\n",
       "    <tr style=\"text-align: right;\">\n",
       "      <th></th>\n",
       "      <th>Age</th>\n",
       "      <th>Dependents</th>\n",
       "      <th>Annual_income</th>\n",
       "      <th>Monthly_loans</th>\n",
       "      <th>Income_stability</th>\n",
       "      <th>Portfolio_status</th>\n",
       "      <th>Investment_obj</th>\n",
       "      <th>Duration_inv</th>\n",
       "      <th>Comfort</th>\n",
       "      <th>Behaviour</th>\n",
       "      <th>output</th>\n",
       "    </tr>\n",
       "  </thead>\n",
       "  <tbody>\n",
       "    <tr>\n",
       "      <th>count</th>\n",
       "      <td>3.750000e+06</td>\n",
       "      <td>3.750000e+06</td>\n",
       "      <td>3.750000e+06</td>\n",
       "      <td>3.750000e+06</td>\n",
       "      <td>3.750000e+06</td>\n",
       "      <td>3.750000e+06</td>\n",
       "      <td>3.750000e+06</td>\n",
       "      <td>3750000.00</td>\n",
       "      <td>3.750000e+06</td>\n",
       "      <td>3.750000e+06</td>\n",
       "      <td>3.750000e+06</td>\n",
       "    </tr>\n",
       "    <tr>\n",
       "      <th>mean</th>\n",
       "      <td>5.666667e-01</td>\n",
       "      <td>6.250000e-01</td>\n",
       "      <td>6.000000e-01</td>\n",
       "      <td>6.000000e-01</td>\n",
       "      <td>5.000000e-01</td>\n",
       "      <td>5.400000e-01</td>\n",
       "      <td>6.300000e-01</td>\n",
       "      <td>0.65</td>\n",
       "      <td>5.400000e-01</td>\n",
       "      <td>5.800000e-01</td>\n",
       "      <td>2.302217e+00</td>\n",
       "    </tr>\n",
       "    <tr>\n",
       "      <th>std</th>\n",
       "      <td>3.299832e-01</td>\n",
       "      <td>3.344772e-01</td>\n",
       "      <td>2.828428e-01</td>\n",
       "      <td>2.828428e-01</td>\n",
       "      <td>3.391165e-01</td>\n",
       "      <td>1.496663e-01</td>\n",
       "      <td>2.039608e-01</td>\n",
       "      <td>0.10</td>\n",
       "      <td>3.611094e-01</td>\n",
       "      <td>3.187476e-01</td>\n",
       "      <td>1.116042e+00</td>\n",
       "    </tr>\n",
       "    <tr>\n",
       "      <th>min</th>\n",
       "      <td>2.000000e-01</td>\n",
       "      <td>1.000000e-01</td>\n",
       "      <td>2.000000e-01</td>\n",
       "      <td>2.000000e-01</td>\n",
       "      <td>1.000000e-01</td>\n",
       "      <td>4.000000e-01</td>\n",
       "      <td>4.000000e-01</td>\n",
       "      <td>0.50</td>\n",
       "      <td>1.000000e-01</td>\n",
       "      <td>2.000000e-01</td>\n",
       "      <td>3.943300e-01</td>\n",
       "    </tr>\n",
       "    <tr>\n",
       "      <th>25%</th>\n",
       "      <td>2.000000e-01</td>\n",
       "      <td>4.750000e-01</td>\n",
       "      <td>4.000000e-01</td>\n",
       "      <td>4.000000e-01</td>\n",
       "      <td>2.500000e-01</td>\n",
       "      <td>4.000000e-01</td>\n",
       "      <td>5.000000e-01</td>\n",
       "      <td>0.60</td>\n",
       "      <td>2.000000e-01</td>\n",
       "      <td>3.000000e-01</td>\n",
       "      <td>1.464675e+00</td>\n",
       "    </tr>\n",
       "    <tr>\n",
       "      <th>50%</th>\n",
       "      <td>5.000000e-01</td>\n",
       "      <td>7.000000e-01</td>\n",
       "      <td>6.000000e-01</td>\n",
       "      <td>6.000000e-01</td>\n",
       "      <td>4.500000e-01</td>\n",
       "      <td>5.000000e-01</td>\n",
       "      <td>6.000000e-01</td>\n",
       "      <td>0.65</td>\n",
       "      <td>5.000000e-01</td>\n",
       "      <td>5.000000e-01</td>\n",
       "      <td>2.085040e+00</td>\n",
       "    </tr>\n",
       "    <tr>\n",
       "      <th>75%</th>\n",
       "      <td>1.000000e+00</td>\n",
       "      <td>8.500000e-01</td>\n",
       "      <td>8.000000e-01</td>\n",
       "      <td>8.000000e-01</td>\n",
       "      <td>7.000000e-01</td>\n",
       "      <td>6.000000e-01</td>\n",
       "      <td>6.500000e-01</td>\n",
       "      <td>0.70</td>\n",
       "      <td>9.000000e-01</td>\n",
       "      <td>9.000000e-01</td>\n",
       "      <td>3.024200e+00</td>\n",
       "    </tr>\n",
       "    <tr>\n",
       "      <th>max</th>\n",
       "      <td>1.000000e+00</td>\n",
       "      <td>1.000000e+00</td>\n",
       "      <td>1.000000e+00</td>\n",
       "      <td>1.000000e+00</td>\n",
       "      <td>1.000000e+00</td>\n",
       "      <td>8.000000e-01</td>\n",
       "      <td>1.000000e+00</td>\n",
       "      <td>0.80</td>\n",
       "      <td>1.000000e+00</td>\n",
       "      <td>1.000000e+00</td>\n",
       "      <td>6.740000e+00</td>\n",
       "    </tr>\n",
       "  </tbody>\n",
       "</table>\n",
       "</div>"
      ],
      "text/plain": [
       "                Age    Dependents  Annual_income  Monthly_loans  \\\n",
       "count  3.750000e+06  3.750000e+06   3.750000e+06   3.750000e+06   \n",
       "mean   5.666667e-01  6.250000e-01   6.000000e-01   6.000000e-01   \n",
       "std    3.299832e-01  3.344772e-01   2.828428e-01   2.828428e-01   \n",
       "min    2.000000e-01  1.000000e-01   2.000000e-01   2.000000e-01   \n",
       "25%    2.000000e-01  4.750000e-01   4.000000e-01   4.000000e-01   \n",
       "50%    5.000000e-01  7.000000e-01   6.000000e-01   6.000000e-01   \n",
       "75%    1.000000e+00  8.500000e-01   8.000000e-01   8.000000e-01   \n",
       "max    1.000000e+00  1.000000e+00   1.000000e+00   1.000000e+00   \n",
       "\n",
       "       Income_stability  Portfolio_status  Investment_obj  Duration_inv  \\\n",
       "count      3.750000e+06      3.750000e+06    3.750000e+06    3750000.00   \n",
       "mean       5.000000e-01      5.400000e-01    6.300000e-01          0.65   \n",
       "std        3.391165e-01      1.496663e-01    2.039608e-01          0.10   \n",
       "min        1.000000e-01      4.000000e-01    4.000000e-01          0.50   \n",
       "25%        2.500000e-01      4.000000e-01    5.000000e-01          0.60   \n",
       "50%        4.500000e-01      5.000000e-01    6.000000e-01          0.65   \n",
       "75%        7.000000e-01      6.000000e-01    6.500000e-01          0.70   \n",
       "max        1.000000e+00      8.000000e-01    1.000000e+00          0.80   \n",
       "\n",
       "            Comfort     Behaviour        output  \n",
       "count  3.750000e+06  3.750000e+06  3.750000e+06  \n",
       "mean   5.400000e-01  5.800000e-01  2.302217e+00  \n",
       "std    3.611094e-01  3.187476e-01  1.116042e+00  \n",
       "min    1.000000e-01  2.000000e-01  3.943300e-01  \n",
       "25%    2.000000e-01  3.000000e-01  1.464675e+00  \n",
       "50%    5.000000e-01  5.000000e-01  2.085040e+00  \n",
       "75%    9.000000e-01  9.000000e-01  3.024200e+00  \n",
       "max    1.000000e+00  1.000000e+00  6.740000e+00  "
      ]
     },
     "execution_count": 8,
     "metadata": {},
     "output_type": "execute_result"
    }
   ],
   "source": [
    "poly_df.describe()"
   ]
  },
  {
   "cell_type": "markdown",
   "metadata": {},
   "source": [
    "##### Features(Questions and answers) and scores assigned to each."
   ]
  },
  {
   "cell_type": "code",
   "execution_count": 10,
   "metadata": {},
   "outputs": [
    {
     "name": "stdout",
     "output_type": "stream",
     "text": [
      "Age :Unique Elements:  [1.  0.5 0.2] ,Number of unique elements:  3\n",
      "Dependents :Unique Elements:  [1.  0.8 0.6 0.1] ,Number of unique elements:  4\n",
      "Annual_income :Unique Elements:  [0.2 0.4 0.6 0.8 1. ] ,Number of unique elements:  5\n",
      "Monthly_loans :Unique Elements:  [1.  0.8 0.6 0.4 0.2] ,Number of unique elements:  5\n",
      "Income_stability :Unique Elements:  [0.1 0.3 0.6 1. ] ,Number of unique elements:  4\n",
      "Portfolio_status :Unique Elements:  [0.4 0.6 0.5 0.8] ,Number of unique elements:  4\n",
      "Investment_obj :Unique Elements:  [0.65 0.6  0.4  0.5  1.  ] ,Number of unique elements:  5\n",
      "Duration_inv :Unique Elements:  [0.5  0.8  0.65 0.6  0.7 ] ,Number of unique elements:  5\n",
      "Comfort :Unique Elements:  [1.  0.9 0.5 0.2 0.1] ,Number of unique elements:  5\n",
      "Behaviour :Unique Elements:  [0.2 0.3 0.5 0.9 1. ] ,Number of unique elements:  5\n",
      "output :Unique Elements:  [4.0375  4.04075 4.04725 ... 1.13282 1.13919 1.1401 ] ,Number of unique elements:  1025287\n"
     ]
    }
   ],
   "source": [
    "for col in poly_df:\n",
    "    print(col,\":Unique Elements: \",poly_df[col].unique(),\",Number of unique elements: \",len(poly_df[col].unique()))"
   ]
  },
  {
   "cell_type": "code",
   "execution_count": 11,
   "metadata": {},
   "outputs": [
    {
     "data": {
      "text/plain": [
       "Age                       3\n",
       "Dependents                4\n",
       "Annual_income             5\n",
       "Monthly_loans             5\n",
       "Income_stability          4\n",
       "Portfolio_status          4\n",
       "Investment_obj            5\n",
       "Duration_inv              5\n",
       "Comfort                   5\n",
       "Behaviour                 5\n",
       "output              1025287\n",
       "dtype: int64"
      ]
     },
     "execution_count": 11,
     "metadata": {},
     "output_type": "execute_result"
    }
   ],
   "source": [
    "poly_df.apply(lambda x: len(x.unique()))"
   ]
  },
  {
   "cell_type": "markdown",
   "metadata": {},
   "source": [
    "##### Correlations in the total dataset."
   ]
  },
  {
   "cell_type": "code",
   "execution_count": 5,
   "metadata": {},
   "outputs": [
    {
     "data": {
      "text/plain": [
       "<matplotlib.axes._subplots.AxesSubplot at 0x7f51cf96e518>"
      ]
     },
     "execution_count": 5,
     "metadata": {},
     "output_type": "execute_result"
    },
    {
     "data": {
      "image/png": "[encoded data removed]",
      "text/plain": [
       "<Figure size 1080x1080 with 2 Axes>"
      ]
     },
     "metadata": {
      "needs_background": "light"
     },
     "output_type": "display_data"
    }
   ],
   "source": [
    "correlation_matrix = poly_df.corr()\n",
    "plt.subplots(figsize=(15,15))\n",
    "sns.heatmap(correlation_matrix, center=0, annot=True, linewidths=.3)"
   ]
  },
  {
   "cell_type": "code",
   "execution_count": 6,
   "metadata": {},
   "outputs": [
    {
     "data": {
      "text/html": [
       "<div>\n",
       "<style scoped>\n",
       "    .dataframe tbody tr th:only-of-type {\n",
       "        vertical-align: middle;\n",
       "    }\n",
       "\n",
       "    .dataframe tbody tr th {\n",
       "        vertical-align: top;\n",
       "    }\n",
       "\n",
       "    .dataframe thead th {\n",
       "        text-align: right;\n",
       "    }\n",
       "</style>\n",
       "<table border=\"1\" class=\"dataframe\">\n",
       "  <thead>\n",
       "    <tr style=\"text-align: right;\">\n",
       "      <th></th>\n",
       "      <th>Age</th>\n",
       "      <th>Dependents</th>\n",
       "      <th>Annual_income</th>\n",
       "      <th>Monthly_loans</th>\n",
       "      <th>Income_stability</th>\n",
       "      <th>Portfolio_status</th>\n",
       "      <th>Investment_obj</th>\n",
       "      <th>Duration_inv</th>\n",
       "      <th>Comfort</th>\n",
       "      <th>Behaviour</th>\n",
       "      <th>output</th>\n",
       "    </tr>\n",
       "  </thead>\n",
       "  <tbody>\n",
       "    <tr>\n",
       "      <th>Age</th>\n",
       "      <td>1.000000e+00</td>\n",
       "      <td>-3.377068e-14</td>\n",
       "      <td>-7.191090e-13</td>\n",
       "      <td>1.631766e-13</td>\n",
       "      <td>-1.524255e-14</td>\n",
       "      <td>2.555101e-15</td>\n",
       "      <td>-6.228774e-16</td>\n",
       "      <td>2.691615e-17</td>\n",
       "      <td>-1.242327e-17</td>\n",
       "      <td>2.638831e-17</td>\n",
       "      <td>0.760992</td>\n",
       "    </tr>\n",
       "    <tr>\n",
       "      <th>Dependents</th>\n",
       "      <td>-3.377068e-14</td>\n",
       "      <td>1.000000e+00</td>\n",
       "      <td>3.514393e-13</td>\n",
       "      <td>-2.681363e-13</td>\n",
       "      <td>1.742707e-14</td>\n",
       "      <td>-1.195217e-15</td>\n",
       "      <td>1.271962e-15</td>\n",
       "      <td>1.609923e-16</td>\n",
       "      <td>-1.057057e-16</td>\n",
       "      <td>-2.115260e-17</td>\n",
       "      <td>0.541066</td>\n",
       "    </tr>\n",
       "    <tr>\n",
       "      <th>Annual_income</th>\n",
       "      <td>-7.191090e-13</td>\n",
       "      <td>3.514393e-13</td>\n",
       "      <td>1.000000e+00</td>\n",
       "      <td>-2.988641e-14</td>\n",
       "      <td>-4.334088e-14</td>\n",
       "      <td>-6.767617e-16</td>\n",
       "      <td>-2.660533e-16</td>\n",
       "      <td>-3.271026e-22</td>\n",
       "      <td>8.688981e-18</td>\n",
       "      <td>-3.693970e-17</td>\n",
       "      <td>0.119198</td>\n",
       "    </tr>\n",
       "    <tr>\n",
       "      <th>Monthly_loans</th>\n",
       "      <td>1.631766e-13</td>\n",
       "      <td>-2.681363e-13</td>\n",
       "      <td>-2.988641e-14</td>\n",
       "      <td>1.000000e+00</td>\n",
       "      <td>-3.284594e-14</td>\n",
       "      <td>-1.326681e-15</td>\n",
       "      <td>2.069151e-16</td>\n",
       "      <td>4.464898e-17</td>\n",
       "      <td>1.739189e-16</td>\n",
       "      <td>-1.231455e-17</td>\n",
       "      <td>0.058343</td>\n",
       "    </tr>\n",
       "    <tr>\n",
       "      <th>Income_stability</th>\n",
       "      <td>-1.524255e-14</td>\n",
       "      <td>1.742707e-14</td>\n",
       "      <td>-4.334088e-14</td>\n",
       "      <td>-3.284594e-14</td>\n",
       "      <td>1.000000e+00</td>\n",
       "      <td>-3.136042e-16</td>\n",
       "      <td>1.364246e-15</td>\n",
       "      <td>4.609630e-17</td>\n",
       "      <td>8.993492e-18</td>\n",
       "      <td>1.930942e-17</td>\n",
       "      <td>0.223878</td>\n",
       "    </tr>\n",
       "    <tr>\n",
       "      <th>Portfolio_status</th>\n",
       "      <td>2.555101e-15</td>\n",
       "      <td>-1.195217e-15</td>\n",
       "      <td>-6.767617e-16</td>\n",
       "      <td>-1.326681e-15</td>\n",
       "      <td>-3.136042e-16</td>\n",
       "      <td>1.000000e+00</td>\n",
       "      <td>-2.085583e-15</td>\n",
       "      <td>-7.119477e-18</td>\n",
       "      <td>1.064907e-16</td>\n",
       "      <td>-2.327230e-17</td>\n",
       "      <td>0.015436</td>\n",
       "    </tr>\n",
       "    <tr>\n",
       "      <th>Investment_obj</th>\n",
       "      <td>-6.228774e-16</td>\n",
       "      <td>1.271962e-15</td>\n",
       "      <td>-2.660533e-16</td>\n",
       "      <td>2.069151e-16</td>\n",
       "      <td>1.364246e-15</td>\n",
       "      <td>-2.085583e-15</td>\n",
       "      <td>1.000000e+00</td>\n",
       "      <td>-3.483931e-17</td>\n",
       "      <td>-2.411819e-17</td>\n",
       "      <td>1.639400e-17</td>\n",
       "      <td>0.068785</td>\n",
       "    </tr>\n",
       "    <tr>\n",
       "      <th>Duration_inv</th>\n",
       "      <td>2.691615e-17</td>\n",
       "      <td>1.609923e-16</td>\n",
       "      <td>-3.271026e-22</td>\n",
       "      <td>4.464898e-17</td>\n",
       "      <td>4.609630e-17</td>\n",
       "      <td>-7.119477e-18</td>\n",
       "      <td>-3.483931e-17</td>\n",
       "      <td>1.000000e+00</td>\n",
       "      <td>-9.838346e-17</td>\n",
       "      <td>-1.161026e-22</td>\n",
       "      <td>0.037970</td>\n",
       "    </tr>\n",
       "    <tr>\n",
       "      <th>Comfort</th>\n",
       "      <td>-1.242327e-17</td>\n",
       "      <td>-1.057057e-16</td>\n",
       "      <td>8.688981e-18</td>\n",
       "      <td>1.739189e-16</td>\n",
       "      <td>8.993492e-18</td>\n",
       "      <td>1.064907e-16</td>\n",
       "      <td>-2.411819e-17</td>\n",
       "      <td>-9.838346e-17</td>\n",
       "      <td>1.000000e+00</td>\n",
       "      <td>1.929099e-17</td>\n",
       "      <td>0.080217</td>\n",
       "    </tr>\n",
       "    <tr>\n",
       "      <th>Behaviour</th>\n",
       "      <td>2.638831e-17</td>\n",
       "      <td>-2.115260e-17</td>\n",
       "      <td>-3.693970e-17</td>\n",
       "      <td>-1.231455e-17</td>\n",
       "      <td>1.930942e-17</td>\n",
       "      <td>-2.327230e-17</td>\n",
       "      <td>1.639400e-17</td>\n",
       "      <td>-1.161026e-22</td>\n",
       "      <td>1.929099e-17</td>\n",
       "      <td>1.000000e+00</td>\n",
       "      <td>0.021368</td>\n",
       "    </tr>\n",
       "    <tr>\n",
       "      <th>output</th>\n",
       "      <td>7.609921e-01</td>\n",
       "      <td>5.410656e-01</td>\n",
       "      <td>1.191983e-01</td>\n",
       "      <td>5.834255e-02</td>\n",
       "      <td>2.238779e-01</td>\n",
       "      <td>1.543599e-02</td>\n",
       "      <td>6.878458e-02</td>\n",
       "      <td>3.796993e-02</td>\n",
       "      <td>8.021654e-02</td>\n",
       "      <td>2.136833e-02</td>\n",
       "      <td>1.000000</td>\n",
       "    </tr>\n",
       "  </tbody>\n",
       "</table>\n",
       "</div>"
      ],
      "text/plain": [
       "                           Age    Dependents  Annual_income  Monthly_loans  \\\n",
       "Age               1.000000e+00 -3.377068e-14  -7.191090e-13   1.631766e-13   \n",
       "Dependents       -3.377068e-14  1.000000e+00   3.514393e-13  -2.681363e-13   \n",
       "Annual_income    -7.191090e-13  3.514393e-13   1.000000e+00  -2.988641e-14   \n",
       "Monthly_loans     1.631766e-13 -2.681363e-13  -2.988641e-14   1.000000e+00   \n",
       "Income_stability -1.524255e-14  1.742707e-14  -4.334088e-14  -3.284594e-14   \n",
       "Portfolio_status  2.555101e-15 -1.195217e-15  -6.767617e-16  -1.326681e-15   \n",
       "Investment_obj   -6.228774e-16  1.271962e-15  -2.660533e-16   2.069151e-16   \n",
       "Duration_inv      2.691615e-17  1.609923e-16  -3.271026e-22   4.464898e-17   \n",
       "Comfort          -1.242327e-17 -1.057057e-16   8.688981e-18   1.739189e-16   \n",
       "Behaviour         2.638831e-17 -2.115260e-17  -3.693970e-17  -1.231455e-17   \n",
       "output            7.609921e-01  5.410656e-01   1.191983e-01   5.834255e-02   \n",
       "\n",
       "                  Income_stability  Portfolio_status  Investment_obj  \\\n",
       "Age                  -1.524255e-14      2.555101e-15   -6.228774e-16   \n",
       "Dependents            1.742707e-14     -1.195217e-15    1.271962e-15   \n",
       "Annual_income        -4.334088e-14     -6.767617e-16   -2.660533e-16   \n",
       "Monthly_loans        -3.284594e-14     -1.326681e-15    2.069151e-16   \n",
       "Income_stability      1.000000e+00     -3.136042e-16    1.364246e-15   \n",
       "Portfolio_status     -3.136042e-16      1.000000e+00   -2.085583e-15   \n",
       "Investment_obj        1.364246e-15     -2.085583e-15    1.000000e+00   \n",
       "Duration_inv          4.609630e-17     -7.119477e-18   -3.483931e-17   \n",
       "Comfort               8.993492e-18      1.064907e-16   -2.411819e-17   \n",
       "Behaviour             1.930942e-17     -2.327230e-17    1.639400e-17   \n",
       "output                2.238779e-01      1.543599e-02    6.878458e-02   \n",
       "\n",
       "                  Duration_inv       Comfort     Behaviour    output  \n",
       "Age               2.691615e-17 -1.242327e-17  2.638831e-17  0.760992  \n",
       "Dependents        1.609923e-16 -1.057057e-16 -2.115260e-17  0.541066  \n",
       "Annual_income    -3.271026e-22  8.688981e-18 -3.693970e-17  0.119198  \n",
       "Monthly_loans     4.464898e-17  1.739189e-16 -1.231455e-17  0.058343  \n",
       "Income_stability  4.609630e-17  8.993492e-18  1.930942e-17  0.223878  \n",
       "Portfolio_status -7.119477e-18  1.064907e-16 -2.327230e-17  0.015436  \n",
       "Investment_obj   -3.483931e-17 -2.411819e-17  1.639400e-17  0.068785  \n",
       "Duration_inv      1.000000e+00 -9.838346e-17 -1.161026e-22  0.037970  \n",
       "Comfort          -9.838346e-17  1.000000e+00  1.929099e-17  0.080217  \n",
       "Behaviour        -1.161026e-22  1.929099e-17  1.000000e+00  0.021368  \n",
       "output            3.796993e-02  8.021654e-02  2.136833e-02  1.000000  "
      ]
     },
     "execution_count": 6,
     "metadata": {},
     "output_type": "execute_result"
    }
   ],
   "source": [
    "correlation_matrix"
   ]
  },
  {
   "cell_type": "markdown",
   "metadata": {},
   "source": [
    "##### Correlations with the output column"
   ]
  },
  {
   "cell_type": "code",
   "execution_count": 7,
   "metadata": {},
   "outputs": [
    {
     "data": {
      "text/plain": [
       "output              1.000000\n",
       "Age                 0.760992\n",
       "Dependents          0.541066\n",
       "Income_stability    0.223878\n",
       "Annual_income       0.119198\n",
       "Comfort             0.080217\n",
       "Investment_obj      0.068785\n",
       "Monthly_loans       0.058343\n",
       "Duration_inv        0.037970\n",
       "Behaviour           0.021368\n",
       "Portfolio_status    0.015436\n",
       "Name: output, dtype: float64"
      ]
     },
     "execution_count": 7,
     "metadata": {},
     "output_type": "execute_result"
    }
   ],
   "source": [
    "df_correlations = poly_df.corr()\n",
    "df_correlations['output'].sort_values(ascending=False)"
   ]
  },
  {
   "cell_type": "markdown",
   "metadata": {},
   "source": [
    "##### The minima and maxima of the output generated."
   ]
  },
  {
   "cell_type": "code",
   "execution_count": 8,
   "metadata": {},
   "outputs": [
    {
     "name": "stdout",
     "output_type": "stream",
     "text": [
      "0.39433 6.740000000000002\n"
     ]
    }
   ],
   "source": [
    "print(poly_df.output.min(), poly_df.output.max())"
   ]
  },
  {
   "cell_type": "markdown",
   "metadata": {},
   "source": [
    "##### The plot shows the distribution of the output\n",
    "\n",
    "The polynomial equation gives a range of outcomes. The output values need to be divided into 5 categories. No risk, low risk, moderate risk, likes risk and high risk.\n"
   ]
  },
  {
   "cell_type": "code",
   "execution_count": 9,
   "metadata": {},
   "outputs": [
    {
     "data": {
      "image/png": "[encoded data removed]",
      "text/plain": [
       "<Figure size 432x288 with 1 Axes>"
      ]
     },
     "metadata": {
      "needs_background": "light"
     },
     "output_type": "display_data"
    }
   ],
   "source": [
    "sns.distplot(poly_df.output,label=\"Distribution of Risk Scores\")\n",
    "plt.title(\"Distribution of Risk Scores for the Polynomial Equation\")\n",
    "plt.xlabel(\"Equation Output\")\n",
    "plt.ylabel(\"Probability Density\")\n",
    "plt.show()"
   ]
  },
  {
   "cell_type": "markdown",
   "metadata": {},
   "source": [
    "Based on the above distribution the five categories are made using the following boundary conditions:\n",
    "<br>\n",
    "No Risk: output values below 1.5\n",
    "<br>\n",
    "Low Risk: 1.5 to 2.3\n",
    "<br>\n",
    "Moderate Risk: 2.3 to 3.3\n",
    "<br>\n",
    "Likes Risk: 3.3 to 4.3\n",
    "<br>\n",
    "High Risk: 4.3 above"
   ]
  },
  {
   "cell_type": "code",
   "execution_count": 10,
   "metadata": {},
   "outputs": [],
   "source": [
    "df=poly_df\n",
    "#Creating a new column with same values as output\n",
    "df = df.assign(categories = df['output'])\n",
    "#All observations below 1.5 in output column will get marked as category 1\n",
    "df.loc[df['output'] <= 1.5, 'categories'] = 1\n",
    "#Observations from 1.5 to 2.3 marked as category 2\n",
    "df.loc[(df['output'] > 1.5) & (df['output'] <= 2.3) , 'categories'] = 2\n",
    "#Observations from 2.3 to 3.3 marked as category 3\n",
    "df.loc[(df['output'] > 2.3) & (df['output'] <= 3.3) , 'categories'] = 3\n",
    "#Observations from 3.3 to 4.3 marked as category 4\n",
    "df.loc[(df['output'] > 3.3) & (df['output'] <= 4.3) , 'categories'] = 4\n",
    "#Observations above 4.3 marked as category 5\n",
    "df.loc[df['output']>4.3, 'categories'] = 5"
   ]
  },
  {
   "cell_type": "markdown",
   "metadata": {},
   "source": [
    "##### Distribution after division into categories."
   ]
  },
  {
   "cell_type": "code",
   "execution_count": 11,
   "metadata": {},
   "outputs": [
    {
     "data": {
      "image/png": "[encoded data removed]",
      "text/plain": [
       "<Figure size 432x288 with 1 Axes>"
      ]
     },
     "metadata": {
      "needs_background": "light"
     },
     "output_type": "display_data"
    }
   ],
   "source": [
    "sns.distplot(df.categories)\n",
    "plt.title(\"Categories in the Polynomial Equation\")\n",
    "plt.xlabel(\"Categories\")\n",
    "plt.ylabel(\"Probability Density\")\n",
    "plt.show()"
   ]
  },
  {
   "cell_type": "markdown",
   "metadata": {},
   "source": [
    "Number of elements in each category."
   ]
  },
  {
   "cell_type": "code",
   "execution_count": 12,
   "metadata": {},
   "outputs": [
    {
     "data": {
      "text/plain": [
       "2.0    1176069\n",
       "1.0     996032\n",
       "3.0     808223\n",
       "4.0     536121\n",
       "5.0     233555\n",
       "Name: categories, dtype: int64"
      ]
     },
     "execution_count": 12,
     "metadata": {},
     "output_type": "execute_result"
    }
   ],
   "source": [
    "df.categories.value_counts()"
   ]
  },
  {
   "cell_type": "markdown",
   "metadata": {},
   "source": [
    "##### Stratified Sampling\n",
    "\n",
    "A balanced sample is given to the regulator. The sample gives a small but complete representation of the dataset.\n"
   ]
  },
  {
   "cell_type": "code",
   "execution_count": 13,
   "metadata": {},
   "outputs": [],
   "source": [
    "from sklearn.model_selection import StratifiedShuffleSplit\n",
    "\n",
    "split = StratifiedShuffleSplit(n_splits=3,test_size=0.3,random_state=42)\n",
    "for train_index,test_index in split.split(df,df['categories']):\n",
    "    strat_train_set = df.iloc[train_index]\n",
    "    strat_test_set = df.iloc[test_index]"
   ]
  },
  {
   "cell_type": "markdown",
   "metadata": {},
   "source": [
    "Here 30% of the dataset is taken finally. Both the datasets are similar as they exibhit similar correlations and variations and similar correlations with the output columns. This helps prove taking a small part of the dataset can be an adequately accurate represenatation."
   ]
  },
  {
   "cell_type": "code",
   "execution_count": 14,
   "metadata": {},
   "outputs": [
    {
     "data": {
      "text/html": [
       "<div>\n",
       "<style scoped>\n",
       "    .dataframe tbody tr th:only-of-type {\n",
       "        vertical-align: middle;\n",
       "    }\n",
       "\n",
       "    .dataframe tbody tr th {\n",
       "        vertical-align: top;\n",
       "    }\n",
       "\n",
       "    .dataframe thead th {\n",
       "        text-align: right;\n",
       "    }\n",
       "</style>\n",
       "<table border=\"1\" class=\"dataframe\">\n",
       "  <thead>\n",
       "    <tr style=\"text-align: right;\">\n",
       "      <th></th>\n",
       "      <th>Age</th>\n",
       "      <th>Dependents</th>\n",
       "      <th>Annual_income</th>\n",
       "      <th>Monthly_loans</th>\n",
       "      <th>Income_stability</th>\n",
       "      <th>Portfolio_status</th>\n",
       "      <th>Investment_obj</th>\n",
       "      <th>Duration_inv</th>\n",
       "      <th>Comfort</th>\n",
       "      <th>Behaviour</th>\n",
       "      <th>output</th>\n",
       "      <th>categories</th>\n",
       "    </tr>\n",
       "  </thead>\n",
       "  <tbody>\n",
       "    <tr>\n",
       "      <th>728640</th>\n",
       "      <td>0.2</td>\n",
       "      <td>0.6</td>\n",
       "      <td>0.4</td>\n",
       "      <td>0.4</td>\n",
       "      <td>0.3</td>\n",
       "      <td>0.4</td>\n",
       "      <td>1.0</td>\n",
       "      <td>0.50</td>\n",
       "      <td>0.2</td>\n",
       "      <td>0.2</td>\n",
       "      <td>1.122540</td>\n",
       "      <td>1.0</td>\n",
       "    </tr>\n",
       "    <tr>\n",
       "      <th>567846</th>\n",
       "      <td>1.0</td>\n",
       "      <td>0.8</td>\n",
       "      <td>1.0</td>\n",
       "      <td>1.0</td>\n",
       "      <td>0.3</td>\n",
       "      <td>0.4</td>\n",
       "      <td>0.4</td>\n",
       "      <td>0.60</td>\n",
       "      <td>0.1</td>\n",
       "      <td>0.3</td>\n",
       "      <td>3.704280</td>\n",
       "      <td>4.0</td>\n",
       "    </tr>\n",
       "    <tr>\n",
       "      <th>925930</th>\n",
       "      <td>1.0</td>\n",
       "      <td>0.6</td>\n",
       "      <td>1.0</td>\n",
       "      <td>0.2</td>\n",
       "      <td>0.1</td>\n",
       "      <td>0.6</td>\n",
       "      <td>0.4</td>\n",
       "      <td>0.65</td>\n",
       "      <td>0.9</td>\n",
       "      <td>0.2</td>\n",
       "      <td>3.220670</td>\n",
       "      <td>3.0</td>\n",
       "    </tr>\n",
       "    <tr>\n",
       "      <th>971065</th>\n",
       "      <td>0.5</td>\n",
       "      <td>0.1</td>\n",
       "      <td>0.2</td>\n",
       "      <td>0.6</td>\n",
       "      <td>0.6</td>\n",
       "      <td>0.4</td>\n",
       "      <td>0.5</td>\n",
       "      <td>0.65</td>\n",
       "      <td>0.2</td>\n",
       "      <td>0.2</td>\n",
       "      <td>1.117035</td>\n",
       "      <td>1.0</td>\n",
       "    </tr>\n",
       "    <tr>\n",
       "      <th>712903</th>\n",
       "      <td>1.0</td>\n",
       "      <td>0.6</td>\n",
       "      <td>0.4</td>\n",
       "      <td>0.6</td>\n",
       "      <td>0.1</td>\n",
       "      <td>0.4</td>\n",
       "      <td>0.5</td>\n",
       "      <td>0.80</td>\n",
       "      <td>1.0</td>\n",
       "      <td>0.9</td>\n",
       "      <td>3.033080</td>\n",
       "      <td>3.0</td>\n",
       "    </tr>\n",
       "  </tbody>\n",
       "</table>\n",
       "</div>"
      ],
      "text/plain": [
       "        Age  Dependents  Annual_income  Monthly_loans  Income_stability  \\\n",
       "728640  0.2         0.6            0.4            0.4               0.3   \n",
       "567846  1.0         0.8            1.0            1.0               0.3   \n",
       "925930  1.0         0.6            1.0            0.2               0.1   \n",
       "971065  0.5         0.1            0.2            0.6               0.6   \n",
       "712903  1.0         0.6            0.4            0.6               0.1   \n",
       "\n",
       "        Portfolio_status  Investment_obj  Duration_inv  Comfort  Behaviour  \\\n",
       "728640               0.4             1.0          0.50      0.2        0.2   \n",
       "567846               0.4             0.4          0.60      0.1        0.3   \n",
       "925930               0.6             0.4          0.65      0.9        0.2   \n",
       "971065               0.4             0.5          0.65      0.2        0.2   \n",
       "712903               0.4             0.5          0.80      1.0        0.9   \n",
       "\n",
       "          output  categories  \n",
       "728640  1.122540         1.0  \n",
       "567846  3.704280         4.0  \n",
       "925930  3.220670         3.0  \n",
       "971065  1.117035         1.0  \n",
       "712903  3.033080         3.0  "
      ]
     },
     "execution_count": 14,
     "metadata": {},
     "output_type": "execute_result"
    }
   ],
   "source": [
    "strat_test_set.head()"
   ]
  },
  {
   "cell_type": "markdown",
   "metadata": {},
   "source": [
    "##### Variations of the divisions are similar\n"
   ]
  },
  {
   "cell_type": "code",
   "execution_count": 15,
   "metadata": {},
   "outputs": [
    {
     "data": {
      "text/plain": [
       "Age                 0.108914\n",
       "Dependents          0.111838\n",
       "Annual_income       0.079976\n",
       "Monthly_loans       0.079981\n",
       "Income_stability    0.114981\n",
       "Portfolio_status    0.022393\n",
       "Investment_obj      0.041631\n",
       "Duration_inv        0.010000\n",
       "Comfort             0.130438\n",
       "Behaviour           0.101605\n",
       "output              1.245869\n",
       "categories          1.434862\n",
       "dtype: float64"
      ]
     },
     "execution_count": 15,
     "metadata": {},
     "output_type": "execute_result"
    }
   ],
   "source": [
    "strat_train_set.var()"
   ]
  },
  {
   "cell_type": "code",
   "execution_count": 16,
   "metadata": {},
   "outputs": [
    {
     "data": {
      "text/plain": [
       "Age                 0.108831\n",
       "Dependents          0.111962\n",
       "Annual_income       0.080055\n",
       "Monthly_loans       0.080044\n",
       "Income_stability    0.115045\n",
       "Portfolio_status    0.022416\n",
       "Investment_obj      0.041528\n",
       "Duration_inv        0.010001\n",
       "Comfort             0.130311\n",
       "Behaviour           0.101588\n",
       "output              1.244808\n",
       "categories          1.434858\n",
       "dtype: float64"
      ]
     },
     "execution_count": 16,
     "metadata": {},
     "output_type": "execute_result"
    }
   ],
   "source": [
    "strat_test_set.var()"
   ]
  },
  {
   "cell_type": "markdown",
   "metadata": {},
   "source": [
    "##### There is a large difference in shapes of the datasets\n"
   ]
  },
  {
   "cell_type": "code",
   "execution_count": 17,
   "metadata": {},
   "outputs": [
    {
     "name": "stdout",
     "output_type": "stream",
     "text": [
      "(2625000, 12) (1125000, 12)\n"
     ]
    }
   ],
   "source": [
    "print( strat_train_set.shape,strat_test_set.shape)"
   ]
  },
  {
   "cell_type": "markdown",
   "metadata": {},
   "source": [
    "##### Correlations with the output and category column.\n",
    "\n",
    "Should be similar.\n"
   ]
  },
  {
   "cell_type": "code",
   "execution_count": 18,
   "metadata": {},
   "outputs": [
    {
     "data": {
      "text/plain": [
       "output              1.000000\n",
       "categories          0.966746\n",
       "Age                 0.761121\n",
       "Dependents          0.541031\n",
       "Income_stability    0.223495\n",
       "Annual_income       0.120842\n",
       "Comfort             0.079115\n",
       "Investment_obj      0.067944\n",
       "Monthly_loans       0.057236\n",
       "Duration_inv        0.039008\n",
       "Behaviour           0.021372\n",
       "Portfolio_status    0.016027\n",
       "Name: output, dtype: float64"
      ]
     },
     "execution_count": 18,
     "metadata": {},
     "output_type": "execute_result"
    }
   ],
   "source": [
    "strat_test = strat_test_set.corr()\n",
    "strat_test['output'].sort_values(ascending=False)"
   ]
  },
  {
   "cell_type": "markdown",
   "metadata": {},
   "source": [
    "##### Correlations of the new dataset"
   ]
  },
  {
   "cell_type": "code",
   "execution_count": 19,
   "metadata": {},
   "outputs": [
    {
     "data": {
      "text/plain": [
       "categories          1.000000\n",
       "output              0.966746\n",
       "Age                 0.742770\n",
       "Dependents          0.516709\n",
       "Income_stability    0.214954\n",
       "Annual_income       0.109562\n",
       "Comfort             0.074225\n",
       "Investment_obj      0.063204\n",
       "Monthly_loans       0.053320\n",
       "Duration_inv        0.036067\n",
       "Behaviour           0.018715\n",
       "Portfolio_status    0.014864\n",
       "Name: categories, dtype: float64"
      ]
     },
     "execution_count": 19,
     "metadata": {},
     "output_type": "execute_result"
    }
   ],
   "source": [
    "strat_test['categories'].sort_values(ascending=False)"
   ]
  },
  {
   "cell_type": "markdown",
   "metadata": {},
   "source": [
    "Output file of the sample chosen."
   ]
  },
  {
   "cell_type": "code",
   "execution_count": 20,
   "metadata": {},
   "outputs": [],
   "source": [
    "#strat_test_set.to_csv(\"poly_stratified_sample_27nov2019.csv\")"
   ]
  },
  {
   "cell_type": "markdown",
   "metadata": {},
   "source": [
    "##### Number of data points in all categories in the final dataset"
   ]
  },
  {
   "cell_type": "code",
   "execution_count": 21,
   "metadata": {},
   "outputs": [
    {
     "data": {
      "text/plain": [
       "2.0    352821\n",
       "1.0    298810\n",
       "3.0    242467\n",
       "4.0    160836\n",
       "5.0     70066\n",
       "Name: categories, dtype: int64"
      ]
     },
     "execution_count": 21,
     "metadata": {},
     "output_type": "execute_result"
    }
   ],
   "source": [
    "strat_test_set.categories.value_counts()"
   ]
  },
  {
   "cell_type": "code",
   "execution_count": null,
   "metadata": {},
   "outputs": [],
   "source": []
  }
 ],
 "metadata": {
  "kernelspec": {
   "display_name": "Python 3",
   "language": "python",
   "name": "python3"
  },
  "language_info": {
   "codemirror_mode": {
    "name": "ipython",
    "version": 3
   },
   "file_extension": ".py",
   "mimetype": "text/x-python",
   "name": "python",
   "nbconvert_exporter": "python",
   "pygments_lexer": "ipython3",
   "version": "3.6.8"
  }
 },
 "nbformat": 4,
 "nbformat_minor": 2
}
