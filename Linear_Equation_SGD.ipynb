{
 "cells": [
  {
   "cell_type": "markdown",
   "metadata": {},
   "source": [
    "# Estimating a Linear Equation for Risk Data\n",
    "\n",
    "The __data__ was generated using __paytm investments__ questions, has __10__ variables along with some added bias. These variables were added to a non-linear equation that gave us the output column.\n",
    "\n",
    "The __goal__ of this project/experiment is to evaluate different libraries and methodologies, based on their effectiveness to predict importance of features in the dataset. Basically we reverse engineer the dataset to find out what impacts the outcome most. \n",
    "\n",
    "The libraries and methods we are trying out often generate a linear formula where variables with larger coefficients are more important to the outcome or they hold more weight.\n",
    "\n",
    "Our original nonlinear equation used to generate the dataset is now difficult to compare with these, we need to generate a linear function.\n",
    "\n",
    "We can do this using __gradient descent__, we have a large dataset with outcomes generated using a \"non-linear model\" (our equation) and we need to convert it to a new \"linear hypothesis function\" of the form:\n",
    "\n",
    "Y_predicted = theta_1 * x_11 + theta_2 * x_21 + theta_3 * x_22.... + theta_10 * x_62\n",
    "\n",
    "I have tried two algorithms, gradient descent and it's more realistic version, stochastic gradient descent.\n"
   ]
  },
  {
   "cell_type": "code",
   "execution_count": 1,
   "metadata": {},
   "outputs": [],
   "source": [
    "import pandas as pd\n",
    "import numpy as np\n",
    "from sklearn.model_selection import train_test_split\n",
    "from sklearn.linear_model import LogisticRegression\n",
    "from sklearn import metrics"
   ]
  },
  {
   "cell_type": "markdown",
   "metadata": {},
   "source": [
    "#### Using the stratififed dataset, replace with another if you want to."
   ]
  },
  {
   "cell_type": "code",
   "execution_count": 2,
   "metadata": {},
   "outputs": [],
   "source": [
    "df = pd.read_csv(\"AT/risk_stratified_sample_14oct2019.csv\")"
   ]
  },
  {
   "cell_type": "code",
   "execution_count": 3,
   "metadata": {},
   "outputs": [
    {
     "data": {
      "text/html": [
       "<div>\n",
       "<style scoped>\n",
       "    .dataframe tbody tr th:only-of-type {\n",
       "        vertical-align: middle;\n",
       "    }\n",
       "\n",
       "    .dataframe tbody tr th {\n",
       "        vertical-align: top;\n",
       "    }\n",
       "\n",
       "    .dataframe thead th {\n",
       "        text-align: right;\n",
       "    }\n",
       "</style>\n",
       "<table border=\"1\" class=\"dataframe\">\n",
       "  <thead>\n",
       "    <tr style=\"text-align: right;\">\n",
       "      <th></th>\n",
       "      <th>x_11</th>\n",
       "      <th>x_21</th>\n",
       "      <th>x_22</th>\n",
       "      <th>x_31</th>\n",
       "      <th>x_32</th>\n",
       "      <th>x_41</th>\n",
       "      <th>x_51</th>\n",
       "      <th>x_52</th>\n",
       "      <th>x_61</th>\n",
       "      <th>x_62</th>\n",
       "      <th>output</th>\n",
       "      <th>categories</th>\n",
       "    </tr>\n",
       "  </thead>\n",
       "  <tbody>\n",
       "    <tr>\n",
       "      <td>0</td>\n",
       "      <td>0.2</td>\n",
       "      <td>1.0</td>\n",
       "      <td>1.0</td>\n",
       "      <td>0.4</td>\n",
       "      <td>0.3</td>\n",
       "      <td>0.4</td>\n",
       "      <td>0.65</td>\n",
       "      <td>0.50</td>\n",
       "      <td>0.9</td>\n",
       "      <td>0.2</td>\n",
       "      <td>1.696900</td>\n",
       "      <td>2.0</td>\n",
       "    </tr>\n",
       "    <tr>\n",
       "      <td>1</td>\n",
       "      <td>1.0</td>\n",
       "      <td>0.8</td>\n",
       "      <td>1.0</td>\n",
       "      <td>0.6</td>\n",
       "      <td>1.0</td>\n",
       "      <td>0.4</td>\n",
       "      <td>0.65</td>\n",
       "      <td>0.80</td>\n",
       "      <td>0.9</td>\n",
       "      <td>0.3</td>\n",
       "      <td>4.830400</td>\n",
       "      <td>5.0</td>\n",
       "    </tr>\n",
       "    <tr>\n",
       "      <td>2</td>\n",
       "      <td>0.5</td>\n",
       "      <td>1.0</td>\n",
       "      <td>1.0</td>\n",
       "      <td>0.4</td>\n",
       "      <td>0.3</td>\n",
       "      <td>0.4</td>\n",
       "      <td>0.60</td>\n",
       "      <td>0.60</td>\n",
       "      <td>1.0</td>\n",
       "      <td>0.9</td>\n",
       "      <td>2.840650</td>\n",
       "      <td>3.0</td>\n",
       "    </tr>\n",
       "    <tr>\n",
       "      <td>3</td>\n",
       "      <td>1.0</td>\n",
       "      <td>0.8</td>\n",
       "      <td>0.4</td>\n",
       "      <td>0.8</td>\n",
       "      <td>0.1</td>\n",
       "      <td>0.8</td>\n",
       "      <td>1.00</td>\n",
       "      <td>0.65</td>\n",
       "      <td>1.0</td>\n",
       "      <td>0.9</td>\n",
       "      <td>4.123420</td>\n",
       "      <td>4.0</td>\n",
       "    </tr>\n",
       "    <tr>\n",
       "      <td>4</td>\n",
       "      <td>0.5</td>\n",
       "      <td>1.0</td>\n",
       "      <td>0.6</td>\n",
       "      <td>1.0</td>\n",
       "      <td>0.3</td>\n",
       "      <td>0.4</td>\n",
       "      <td>1.00</td>\n",
       "      <td>0.50</td>\n",
       "      <td>0.2</td>\n",
       "      <td>0.9</td>\n",
       "      <td>2.682875</td>\n",
       "      <td>3.0</td>\n",
       "    </tr>\n",
       "  </tbody>\n",
       "</table>\n",
       "</div>"
      ],
      "text/plain": [
       "   x_11  x_21  x_22  x_31  x_32  x_41  x_51  x_52  x_61  x_62    output  \\\n",
       "0   0.2   1.0   1.0   0.4   0.3   0.4  0.65  0.50   0.9   0.2  1.696900   \n",
       "1   1.0   0.8   1.0   0.6   1.0   0.4  0.65  0.80   0.9   0.3  4.830400   \n",
       "2   0.5   1.0   1.0   0.4   0.3   0.4  0.60  0.60   1.0   0.9  2.840650   \n",
       "3   1.0   0.8   0.4   0.8   0.1   0.8  1.00  0.65   1.0   0.9  4.123420   \n",
       "4   0.5   1.0   0.6   1.0   0.3   0.4  1.00  0.50   0.2   0.9  2.682875   \n",
       "\n",
       "   categories  \n",
       "0         2.0  \n",
       "1         5.0  \n",
       "2         3.0  \n",
       "3         4.0  \n",
       "4         3.0  "
      ]
     },
     "execution_count": 3,
     "metadata": {},
     "output_type": "execute_result"
    }
   ],
   "source": [
    "df.drop(df.columns[df.columns.str.contains('unnamed',case=False)],axis=1,inplace=True)\n",
    "df.head()"
   ]
  },
  {
   "cell_type": "markdown",
   "metadata": {},
   "source": [
    "#### Huge dataframe"
   ]
  },
  {
   "cell_type": "code",
   "execution_count": 4,
   "metadata": {},
   "outputs": [
    {
     "name": "stdout",
     "output_type": "stream",
     "text": [
      "(943718, 12)\n"
     ]
    }
   ],
   "source": [
    "print(df.shape)"
   ]
  },
  {
   "cell_type": "markdown",
   "metadata": {},
   "source": [
    "## Gradient Descent\n",
    "\n",
    "\n",
    "The gradient descent algorithm in a nutshell:\n",
    "\n",
    "    1) Takes parameters as your Data along with the outcome column and our linear hypothesis function.\n",
    "    \n",
    "    2) Estimate the thetas:The theta is generally randomly estimated in the beginning and updated over time, but the logistic regression classifier has a decent accuracy so instead of a random theta I averaged the coefficients from the one vs rest models used by our multiclass logistic classifier. (Just as a start point)\n",
    "    \n",
    "    3) After this we generate new Y(predictions) values using the linear hypothesis function and thetas\n",
    "    \n",
    "    4) The original/actual Y minus the new Y values gives us an \"Error\" , summing the error over the whole dataset gives us the \"Cost\" and we want to minimize this cost\n",
    "    \n",
    "    5) This means we want to bring the linear function predictions really close to the non linear original outcomes.\n",
    "    \n",
    "    6) We update the theta values\n",
    "        a) Find partial derivatives of the cost function w.r.t thetas\n",
    "        b) Multiply the derivatives by a learning rate(used to decide how fast we want to move up or down the slope)\n",
    "        c) Subtract these from their respective thetas\n",
    "        \n",
    "    7) Repeat the whole thing with new thetas\n",
    "    \n",
    "    8) Stop when the iterations are over or if the change in thetas stays below some tolerance level.\n"
   ]
  },
  {
   "cell_type": "markdown",
   "metadata": {},
   "source": [
    "### Logistic Regression to Estimate Initial Thetas"
   ]
  },
  {
   "cell_type": "markdown",
   "metadata": {},
   "source": [
    "Create datasets for LR model.\n",
    "\n",
    "I'm using categories for classification in the Logistic Regression classifier. "
   ]
  },
  {
   "cell_type": "code",
   "execution_count": 5,
   "metadata": {},
   "outputs": [],
   "source": [
    "X = df.drop(columns =['output','categories'])\n",
    "Y = df.categories"
   ]
  },
  {
   "cell_type": "markdown",
   "metadata": {},
   "source": [
    "Splits for LR model."
   ]
  },
  {
   "cell_type": "code",
   "execution_count": 6,
   "metadata": {},
   "outputs": [],
   "source": [
    "X_train , X_test, Y_train, Y_test = train_test_split(X,Y,test_size=0.4,random_state=42)"
   ]
  },
  {
   "cell_type": "code",
   "execution_count": 7,
   "metadata": {},
   "outputs": [
    {
     "name": "stderr",
     "output_type": "stream",
     "text": [
      "/home/ubuntu/environments/py_36_env/lib/python3.6/site-packages/sklearn/linear_model/logistic.py:469: FutureWarning: Default multi_class will be changed to 'auto' in 0.22. Specify the multi_class option to silence this warning.\n",
      "  \"this warning.\", FutureWarning)\n"
     ]
    },
    {
     "data": {
      "text/plain": [
       "LogisticRegression(C=1.0, class_weight=None, dual=False, fit_intercept=True,\n",
       "                   intercept_scaling=1, l1_ratio=None, max_iter=100,\n",
       "                   multi_class='warn', n_jobs=None, penalty='l2',\n",
       "                   random_state=None, solver='lbfgs', tol=0.0001, verbose=0,\n",
       "                   warm_start=False)"
      ]
     },
     "execution_count": 7,
     "metadata": {},
     "output_type": "execute_result"
    }
   ],
   "source": [
    "model = LogisticRegression(penalty='l2',solver = 'lbfgs')\n",
    "model.fit(X_train, Y_train)"
   ]
  },
  {
   "cell_type": "markdown",
   "metadata": {},
   "source": [
    "Accuracy of the LR model (it's alright, good enough to use the coefficients for our starting theta)"
   ]
  },
  {
   "cell_type": "code",
   "execution_count": 8,
   "metadata": {},
   "outputs": [
    {
     "name": "stdout",
     "output_type": "stream",
     "text": [
      "Accuracy: 0.75\n"
     ]
    }
   ],
   "source": [
    "y_lr_pred = model.predict(X_test)\n",
    "accuracy = metrics.accuracy_score(Y_test, y_lr_pred)\n",
    "print('Accuracy: {:.2f}'.format(accuracy))"
   ]
  },
  {
   "cell_type": "markdown",
   "metadata": {},
   "source": [
    "Logistic regression using sklearn uses a one vs rest system; that means that there is one classifier trained for each class"
   ]
  },
  {
   "cell_type": "markdown",
   "metadata": {},
   "source": [
    "This is our coefficient array for each variable (10) and each class (5)"
   ]
  },
  {
   "cell_type": "code",
   "execution_count": 9,
   "metadata": {},
   "outputs": [
    {
     "name": "stdout",
     "output_type": "stream",
     "text": [
      "[[-7.47759548e+01 -4.26105155e+01 -6.81742779e+00 -3.98523630e+00\n",
      "  -2.28873938e+01 -1.79094669e+00 -5.88074644e+00 -6.30335733e+00\n",
      "  -4.01238779e+00 -6.39780193e-01]\n",
      " [-3.53387148e+00  3.86180064e-01 -3.52358271e-01 -2.27671901e-01\n",
      "  -8.14598532e-03 -8.60782449e-02 -3.23139540e-01 -3.33818458e-01\n",
      "  -2.50824355e-01 -7.54254707e-02]\n",
      " [ 1.52042540e+00  1.42477639e-01  1.74983871e-01  1.65387442e-01\n",
      "   9.54130762e-01  4.53442582e-02  2.10377485e-01  1.87149614e-01\n",
      "   1.54636538e-01  1.09743850e-02]\n",
      " [ 9.49487021e+00  4.38224080e+00 -1.80567409e-02 -2.89646664e-01\n",
      "  -3.66508274e-01 -1.40334593e-01 -7.53298373e-01 -8.16470708e-01\n",
      "  -3.88730556e-01 -2.48789242e-01]\n",
      " [ 4.78621112e+01  4.40601361e+01  1.32546925e+01  9.59358941e+00\n",
      "   1.41320337e+01  4.84085788e+00  1.57157057e+01  1.87981572e+01\n",
      "   1.04743777e+01  4.25277078e+00]]\n"
     ]
    }
   ],
   "source": [
    "coef_array = model.coef_\n",
    "print(coef_array)"
   ]
  },
  {
   "cell_type": "markdown",
   "metadata": {},
   "source": [
    "I think we could average the coefficient for each class per variable."
   ]
  },
  {
   "cell_type": "code",
   "execution_count": 10,
   "metadata": {},
   "outputs": [
    {
     "data": {
      "text/plain": [
       "array([-3.8864839 ,  1.27210383,  1.24836672,  1.0512844 , -1.63517673,\n",
       "        0.57376852,  1.79377976,  2.30633206,  1.19541431,  0.65995005])"
      ]
     },
     "execution_count": 10,
     "metadata": {},
     "output_type": "execute_result"
    }
   ],
   "source": [
    "coef_array.sum(axis=0)/5"
   ]
  },
  {
   "cell_type": "code",
   "execution_count": 11,
   "metadata": {},
   "outputs": [
    {
     "name": "stdout",
     "output_type": "stream",
     "text": [
      "[-3.8864839   1.27210383  1.24836672  1.0512844  -1.63517673  0.57376852\n",
      "  1.79377976  2.30633206  1.19541431  0.65995005]\n"
     ]
    }
   ],
   "source": [
    "theta = coef_array.sum(axis=0)/5\n",
    "print(theta)"
   ]
  },
  {
   "cell_type": "code",
   "execution_count": 12,
   "metadata": {},
   "outputs": [
    {
     "data": {
      "text/plain": [
       "10"
      ]
     },
     "execution_count": 12,
     "metadata": {},
     "output_type": "execute_result"
    }
   ],
   "source": [
    "len(theta)"
   ]
  },
  {
   "cell_type": "markdown",
   "metadata": {},
   "source": [
    "I had to use categories for the classifier but the data we're originally concerned with is the 'output' column, so I will reassign X and Y for gradient descent. (We want to predict the formula that gives us values closest to output values)"
   ]
  },
  {
   "cell_type": "code",
   "execution_count": 13,
   "metadata": {},
   "outputs": [],
   "source": [
    "X_new = df.drop(columns =['output','categories'])\n",
    "Y_new = df.output"
   ]
  },
  {
   "cell_type": "code",
   "execution_count": 14,
   "metadata": {},
   "outputs": [],
   "source": [
    "#Cost function\n",
    "def cal_cost(theta,X,y):\n",
    "    m = len(y)\n",
    "    y_pred = X.dot(theta)\n",
    "    cost = (1/(2*m)) * np.sum(np.square(y_pred-y))\n",
    "    return cost"
   ]
  },
  {
   "cell_type": "code",
   "execution_count": 15,
   "metadata": {},
   "outputs": [],
   "source": [
    "def gradient_descent(X,y,theta,learning_rate=0.1, iterations=1000):\n",
    "    m=len(y)\n",
    "    cost_history = np.zeros(iterations)\n",
    "    theta_history = np.zeros((iterations,10))\n",
    "    for it in range(iterations):\n",
    "        y_pred = np.dot(X,theta)\n",
    "        theta = theta - (1/m)*learning_rate*(X.T.dot((y_pred-y)))\n",
    "        theta_history[it,:] = theta.T\n",
    "        cost_history[it] = cal_cost(theta,X,y)\n",
    "    return theta,cost_history,theta_history"
   ]
  },
  {
   "cell_type": "markdown",
   "metadata": {},
   "source": [
    "Testing the function out for a large learning rate to see where it plateaus and stays constant. After that I'll use those number of iterations to generate final the equation."
   ]
  },
  {
   "cell_type": "code",
   "execution_count": 16,
   "metadata": {},
   "outputs": [],
   "source": [
    "theta_gd,cost_history,theta_history = gradient_descent(X_new,Y_new,theta,learning_rate=0.1,iterations=1000)"
   ]
  },
  {
   "cell_type": "code",
   "execution_count": 17,
   "metadata": {},
   "outputs": [
    {
     "name": "stdout",
     "output_type": "stream",
     "text": [
      "x_11    2.663673\n",
      "x_21    1.420705\n",
      "x_22    0.336652\n",
      "x_31    0.048391\n",
      "x_32    0.618651\n",
      "x_41   -0.583775\n",
      "x_51    0.013008\n",
      "x_52   -0.470474\n",
      "x_61    0.188667\n",
      "x_62   -0.057476\n",
      "dtype: float64\n"
     ]
    }
   ],
   "source": [
    "print(theta_gd)"
   ]
  },
  {
   "cell_type": "code",
   "execution_count": 18,
   "metadata": {},
   "outputs": [
    {
     "data": {
      "text/plain": [
       "Text(0.5, 0, 'Iterations')"
      ]
     },
     "execution_count": 18,
     "metadata": {},
     "output_type": "execute_result"
    },
    {
     "data": {
      "image/png": "[encoded data removed]",
      "text/plain": [
       "<Figure size 432x288 with 1 Axes>"
      ]
     },
     "metadata": {
      "needs_background": "light"
     },
     "output_type": "display_data"
    }
   ],
   "source": [
    "%matplotlib inline\n",
    "import matplotlib.pyplot as plt\n",
    "\n",
    "plt.plot(cost_history)\n",
    "plt.suptitle('Cost History for Gradient Descent')\n",
    "plt.ylabel(\"Cost\")\n",
    "plt.xlabel(\"Iterations\")"
   ]
  },
  {
   "cell_type": "markdown",
   "metadata": {},
   "source": [
    "Cost plateaus after 400 till 1000."
   ]
  },
  {
   "cell_type": "code",
   "execution_count": 19,
   "metadata": {},
   "outputs": [
    {
     "data": {
      "text/plain": [
       "<matplotlib.legend.Legend at 0x7f6a3be3d2e8>"
      ]
     },
     "execution_count": 19,
     "metadata": {},
     "output_type": "execute_result"
    },
    {
     "data": {
      "image/png": "[encoded data removed]",
      "text/plain": [
       "<Figure size 432x288 with 1 Axes>"
      ]
     },
     "metadata": {
      "needs_background": "light"
     },
     "output_type": "display_data"
    }
   ],
   "source": [
    "plt.plot(theta_history)\n",
    "plt.suptitle('Theta History for Gradient Descent')\n",
    "plt.ylabel(\"Theta\")\n",
    "plt.xlabel(\"Iterations\")\n",
    "plt.legend(X.columns,bbox_to_anchor=(1.5, 1.05),ncol=2, fancybox=True, shadow=True)"
   ]
  },
  {
   "cell_type": "markdown",
   "metadata": {},
   "source": [
    "#### Since the cost plateaus after 400 approx, I will keep the iterations just above 400."
   ]
  },
  {
   "cell_type": "code",
   "execution_count": 32,
   "metadata": {},
   "outputs": [],
   "source": [
    "theta_gd1,cost_history1,theta_history = gradient_descent(X_new,Y_new,theta,learning_rate=0.001,iterations=600)"
   ]
  },
  {
   "cell_type": "code",
   "execution_count": 33,
   "metadata": {},
   "outputs": [
    {
     "data": {
      "text/plain": [
       "x_11   -3.553360\n",
       "x_21    1.159999\n",
       "x_22    1.127028\n",
       "x_31    0.914057\n",
       "x_32   -1.564223\n",
       "x_41    0.478924\n",
       "x_51    1.658306\n",
       "x_52    2.188021\n",
       "x_61    1.043025\n",
       "x_62    0.534727\n",
       "dtype: float64"
      ]
     },
     "execution_count": 33,
     "metadata": {},
     "output_type": "execute_result"
    }
   ],
   "source": [
    "theta_gd1"
   ]
  },
  {
   "cell_type": "code",
   "execution_count": 34,
   "metadata": {},
   "outputs": [
    {
     "data": {
      "text/plain": [
       "[<matplotlib.lines.Line2D at 0x7f6a3bb47198>]"
      ]
     },
     "execution_count": 34,
     "metadata": {},
     "output_type": "execute_result"
    },
    {
     "data": {
      "image/png": "[encoded data removed]",
      "text/plain": [
       "<Figure size 432x288 with 1 Axes>"
      ]
     },
     "metadata": {
      "needs_background": "light"
     },
     "output_type": "display_data"
    }
   ],
   "source": [
    "plt.plot(cost_history1)\n",
    "plt.suptitle('Cost History for Gradient Descent 2')\n",
    "plt.ylabel(\"Cost\")\n",
    "plt.xlabel(\"Iterations\")"
   ]
  },
  {
   "cell_type": "markdown",
   "metadata": {},
   "source": [
    "#### Stochastic Gradient descent reduces the chances of getting caught in a local minima by picking random values of X and Y"
   ]
  },
  {
   "cell_type": "code",
   "execution_count": 43,
   "metadata": {},
   "outputs": [],
   "source": [
    "def stocashtic_gradient_descent(X,y,theta,learning_rate=0.01,iterations=1):\n",
    "    m = len(y)\n",
    "    cost_history = np.zeros(iterations)\n",
    "    \n",
    "    \n",
    "    for it in range(iterations):\n",
    "        cost =0.0\n",
    "        for i in range(m):\n",
    "            rand_ind = np.random.randint(0,m)\n",
    "            X_i = X[rand_ind,:].reshape(1,X.shape[1])\n",
    "            y_i = y[rand_ind].reshape(1,1)\n",
    "            prediction = np.dot(X_i,theta)\n",
    "\n",
    "            theta = theta -(1/m)*learning_rate*( X_i.T.dot((prediction - y_i)))\n",
    "            cost += cal_cost(theta,X_i,y_i)\n",
    "        cost_history[it]  = cost\n",
    "        \n",
    "    return theta, cost_history"
   ]
  },
  {
   "cell_type": "markdown",
   "metadata": {},
   "source": [
    "!! Under Construction !!"
   ]
  },
  {
   "cell_type": "code",
   "execution_count": 51,
   "metadata": {},
   "outputs": [],
   "source": [
    "theta_sgd,cost_history_sgd = stochastic_gradient_descent(X_new,Y_new,theta,learning_rate=0.1,iterations=1)"
   ]
  },
  {
   "cell_type": "code",
   "execution_count": 52,
   "metadata": {},
   "outputs": [
    {
     "data": {
      "text/plain": [
       "Text(0.5, 0, 'Iterations')"
      ]
     },
     "execution_count": 52,
     "metadata": {},
     "output_type": "execute_result"
    },
    {
     "data": {
      "image/png": "[encoded data removed]",
      "text/plain": [
       "<Figure size 432x288 with 1 Axes>"
      ]
     },
     "metadata": {
      "needs_background": "light"
     },
     "output_type": "display_data"
    }
   ],
   "source": [
    "plt.plot(cost_history_sgd)\n",
    "plt.suptitle('Cost History for Stochastic Gradient Descent')\n",
    "plt.ylabel(\"Cost\")\n",
    "plt.xlabel(\"Iterations\")\n",
    "#only 1 iteration so no history"
   ]
  },
  {
   "cell_type": "markdown",
   "metadata": {},
   "source": [
    "#### Thetas after SGD"
   ]
  },
  {
   "cell_type": "code",
   "execution_count": 56,
   "metadata": {},
   "outputs": [
    {
     "name": "stdout",
     "output_type": "stream",
     "text": [
      "[-2.17950546  0.94913989  0.93474351  0.81521453 -0.81410429  0.52560468\n",
      "  1.26553249  1.57639167  0.90262826  0.57787314]\n"
     ]
    }
   ],
   "source": [
    "print(theta_sgd[1])"
   ]
  },
  {
   "cell_type": "markdown",
   "metadata": {},
   "source": [
    "#### Random Additional Test:"
   ]
  },
  {
   "cell_type": "markdown",
   "metadata": {},
   "source": [
    "what happens if I use a random general theta?"
   ]
  },
  {
   "cell_type": "code",
   "execution_count": 59,
   "metadata": {},
   "outputs": [
    {
     "name": "stdout",
     "output_type": "stream",
     "text": [
      "10\n"
     ]
    }
   ],
   "source": [
    "Theta1 = [0.01,0.01,0.01,0.01,0.01,0.01,0.01,0.01,0.01,0.01]\n",
    "print(len(Theta1))"
   ]
  },
  {
   "cell_type": "code",
   "execution_count": 61,
   "metadata": {},
   "outputs": [],
   "source": [
    "theta_gd2,cost_history2,theta_history = gradient_descent(X_new,Y_new,Theta1,learning_rate=0.001,iterations=600)"
   ]
  },
  {
   "cell_type": "code",
   "execution_count": 62,
   "metadata": {},
   "outputs": [
    {
     "name": "stdout",
     "output_type": "stream",
     "text": [
      "x_11    0.506687\n",
      "x_21    0.515874\n",
      "x_22    0.363070\n",
      "x_31    0.367215\n",
      "x_32    0.386240\n",
      "x_41    0.326960\n",
      "x_51    0.386324\n",
      "x_52    0.394601\n",
      "x_61    0.333988\n",
      "x_62    0.343530\n",
      "dtype: float64\n"
     ]
    }
   ],
   "source": [
    "print(theta_gd2)"
   ]
  },
  {
   "cell_type": "code",
   "execution_count": 63,
   "metadata": {},
   "outputs": [
    {
     "data": {
      "text/plain": [
       "Text(0.5, 0, 'Iterations')"
      ]
     },
     "execution_count": 63,
     "metadata": {},
     "output_type": "execute_result"
    },
    {
     "data": {
      "image/png": "[encoded data removed]",
      "text/plain": [
       "<Figure size 432x288 with 1 Axes>"
      ]
     },
     "metadata": {
      "needs_background": "light"
     },
     "output_type": "display_data"
    }
   ],
   "source": [
    "plt.plot(cost_history2)\n",
    "plt.suptitle('Cost History for Gradient Descent')\n",
    "plt.ylabel(\"Cost\")\n",
    "plt.xlabel(\"Iterations\")"
   ]
  },
  {
   "cell_type": "code",
   "execution_count": null,
   "metadata": {},
   "outputs": [],
   "source": []
  }
 ],
 "metadata": {
  "kernelspec": {
   "display_name": "py_36_env",
   "language": "python",
   "name": "py_36_env"
  },
  "language_info": {
   "codemirror_mode": {
    "name": "ipython",
    "version": 3
   },
   "file_extension": ".py",
   "mimetype": "text/x-python",
   "name": "python",
   "nbconvert_exporter": "python",
   "pygments_lexer": "ipython3",
   "version": "3.6.8"
  }
 },
 "nbformat": 4,
 "nbformat_minor": 2
}
