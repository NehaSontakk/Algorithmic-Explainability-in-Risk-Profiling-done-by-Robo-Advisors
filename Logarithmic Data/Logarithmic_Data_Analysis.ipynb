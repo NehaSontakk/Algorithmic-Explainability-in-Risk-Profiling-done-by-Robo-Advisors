{
 "cells": [
  {
   "cell_type": "markdown",
   "metadata": {},
   "source": [
    "# Logarithmically Generated Data\n",
    "\n",
    "Using logs to manage the multiplicative effect of features.\n",
    "<br>\n",
    "The equation used to generate outcome here is:\n",
    "<br>\n",
    "w_11 * 3 * math.log(__Age__,3) + w_21 * 2 * math.log(__Age__ * __Dependents__ ,2) + w_22 * 3 * math.log(__Age__  * __Annual_Income__,2) + w_31 * 3 * math.log(__Age__ * __Monthly_loans__,2) + w_32 * 3 * math.log(__Age__ * __Income_stability__,2) + w_41 * __Portfolio_status__ + w_51 * 3 * math.log(__Age__ * __Income_stability__ * __Investment_obj__,2) + w_52 * __Duration_inv__ * __Behaviour__ + w_61 * 2 * math.log(__Comfort__ * __Age__,2) + w_62 * __Behaviour__ * __Age__ = output"
   ]
  },
  {
   "cell_type": "code",
   "execution_count": 1,
   "metadata": {},
   "outputs": [],
   "source": [
    "import pandas as pd\n",
    "import numpy as np\n",
    "from sklearn.model_selection import train_test_split\n",
    "%matplotlib inline\n",
    "import seaborn as sns\n",
    "import matplotlib.pyplot as plt"
   ]
  },
  {
   "cell_type": "code",
   "execution_count": 36,
   "metadata": {},
   "outputs": [],
   "source": [
    "df_1 = pd.read_csv(\"x_11_1_log.csv\")\n",
    "df_02 = pd.read_csv(\"x_11_02_log.csv\")\n",
    "df_05 = pd.read_csv(\"x_11_05_log.csv\")"
   ]
  },
  {
   "cell_type": "code",
   "execution_count": 3,
   "metadata": {},
   "outputs": [],
   "source": [
    "log_df =pd.concat([df_1,df_05,df_02])"
   ]
  },
  {
   "cell_type": "code",
   "execution_count": 4,
   "metadata": {},
   "outputs": [
    {
     "data": {
      "text/html": [
       "<div>\n",
       "<style scoped>\n",
       "    .dataframe tbody tr th:only-of-type {\n",
       "        vertical-align: middle;\n",
       "    }\n",
       "\n",
       "    .dataframe tbody tr th {\n",
       "        vertical-align: top;\n",
       "    }\n",
       "\n",
       "    .dataframe thead th {\n",
       "        text-align: right;\n",
       "    }\n",
       "</style>\n",
       "<table border=\"1\" class=\"dataframe\">\n",
       "  <thead>\n",
       "    <tr style=\"text-align: right;\">\n",
       "      <th></th>\n",
       "      <th>w_11</th>\n",
       "      <th>Age</th>\n",
       "      <th>w_21</th>\n",
       "      <th>Dependents</th>\n",
       "      <th>w_22</th>\n",
       "      <th>Annual_income</th>\n",
       "      <th>w_31</th>\n",
       "      <th>Monthly_loans</th>\n",
       "      <th>w_32</th>\n",
       "      <th>Income_stability</th>\n",
       "      <th>...</th>\n",
       "      <th>Portfolio_status</th>\n",
       "      <th>w_51</th>\n",
       "      <th>Investment_obj</th>\n",
       "      <th>w_52</th>\n",
       "      <th>Duration_inv</th>\n",
       "      <th>w_61</th>\n",
       "      <th>Comfort</th>\n",
       "      <th>w_62</th>\n",
       "      <th>Behaviour</th>\n",
       "      <th>output</th>\n",
       "    </tr>\n",
       "  </thead>\n",
       "  <tbody>\n",
       "    <tr>\n",
       "      <th>0</th>\n",
       "      <td>1</td>\n",
       "      <td>1.0</td>\n",
       "      <td>0.83</td>\n",
       "      <td>1.0</td>\n",
       "      <td>0.83</td>\n",
       "      <td>0.2</td>\n",
       "      <td>0.65</td>\n",
       "      <td>1.0</td>\n",
       "      <td>0.65</td>\n",
       "      <td>0.1</td>\n",
       "      <td>...</td>\n",
       "      <td>0.4</td>\n",
       "      <td>0.8</td>\n",
       "      <td>0.65</td>\n",
       "      <td>0.8</td>\n",
       "      <td>0.5</td>\n",
       "      <td>0.7</td>\n",
       "      <td>1.0</td>\n",
       "      <td>0.65</td>\n",
       "      <td>0.2</td>\n",
       "      <td>-21.31356</td>\n",
       "    </tr>\n",
       "    <tr>\n",
       "      <th>1</th>\n",
       "      <td>1</td>\n",
       "      <td>1.0</td>\n",
       "      <td>0.83</td>\n",
       "      <td>1.0</td>\n",
       "      <td>0.83</td>\n",
       "      <td>0.2</td>\n",
       "      <td>0.65</td>\n",
       "      <td>1.0</td>\n",
       "      <td>0.65</td>\n",
       "      <td>0.1</td>\n",
       "      <td>...</td>\n",
       "      <td>0.4</td>\n",
       "      <td>0.8</td>\n",
       "      <td>0.65</td>\n",
       "      <td>0.8</td>\n",
       "      <td>0.5</td>\n",
       "      <td>0.7</td>\n",
       "      <td>1.0</td>\n",
       "      <td>0.65</td>\n",
       "      <td>0.3</td>\n",
       "      <td>-21.20856</td>\n",
       "    </tr>\n",
       "    <tr>\n",
       "      <th>2</th>\n",
       "      <td>1</td>\n",
       "      <td>1.0</td>\n",
       "      <td>0.83</td>\n",
       "      <td>1.0</td>\n",
       "      <td>0.83</td>\n",
       "      <td>0.2</td>\n",
       "      <td>0.65</td>\n",
       "      <td>1.0</td>\n",
       "      <td>0.65</td>\n",
       "      <td>0.1</td>\n",
       "      <td>...</td>\n",
       "      <td>0.4</td>\n",
       "      <td>0.8</td>\n",
       "      <td>0.65</td>\n",
       "      <td>0.8</td>\n",
       "      <td>0.5</td>\n",
       "      <td>0.7</td>\n",
       "      <td>1.0</td>\n",
       "      <td>0.65</td>\n",
       "      <td>0.5</td>\n",
       "      <td>-20.99856</td>\n",
       "    </tr>\n",
       "    <tr>\n",
       "      <th>3</th>\n",
       "      <td>1</td>\n",
       "      <td>1.0</td>\n",
       "      <td>0.83</td>\n",
       "      <td>1.0</td>\n",
       "      <td>0.83</td>\n",
       "      <td>0.2</td>\n",
       "      <td>0.65</td>\n",
       "      <td>1.0</td>\n",
       "      <td>0.65</td>\n",
       "      <td>0.1</td>\n",
       "      <td>...</td>\n",
       "      <td>0.4</td>\n",
       "      <td>0.8</td>\n",
       "      <td>0.65</td>\n",
       "      <td>0.8</td>\n",
       "      <td>0.5</td>\n",
       "      <td>0.7</td>\n",
       "      <td>1.0</td>\n",
       "      <td>0.65</td>\n",
       "      <td>0.9</td>\n",
       "      <td>-20.57856</td>\n",
       "    </tr>\n",
       "    <tr>\n",
       "      <th>4</th>\n",
       "      <td>1</td>\n",
       "      <td>1.0</td>\n",
       "      <td>0.83</td>\n",
       "      <td>1.0</td>\n",
       "      <td>0.83</td>\n",
       "      <td>0.2</td>\n",
       "      <td>0.65</td>\n",
       "      <td>1.0</td>\n",
       "      <td>0.65</td>\n",
       "      <td>0.1</td>\n",
       "      <td>...</td>\n",
       "      <td>0.4</td>\n",
       "      <td>0.8</td>\n",
       "      <td>0.65</td>\n",
       "      <td>0.8</td>\n",
       "      <td>0.5</td>\n",
       "      <td>0.7</td>\n",
       "      <td>1.0</td>\n",
       "      <td>0.65</td>\n",
       "      <td>1.0</td>\n",
       "      <td>-20.47356</td>\n",
       "    </tr>\n",
       "  </tbody>\n",
       "</table>\n",
       "<p>5 rows × 21 columns</p>\n",
       "</div>"
      ],
      "text/plain": [
       "   w_11  Age  w_21  Dependents  w_22  Annual_income  w_31  Monthly_loans  \\\n",
       "0     1  1.0  0.83         1.0  0.83            0.2  0.65            1.0   \n",
       "1     1  1.0  0.83         1.0  0.83            0.2  0.65            1.0   \n",
       "2     1  1.0  0.83         1.0  0.83            0.2  0.65            1.0   \n",
       "3     1  1.0  0.83         1.0  0.83            0.2  0.65            1.0   \n",
       "4     1  1.0  0.83         1.0  0.83            0.2  0.65            1.0   \n",
       "\n",
       "   w_32  Income_stability  ...  Portfolio_status  w_51  Investment_obj  w_52  \\\n",
       "0  0.65               0.1  ...               0.4   0.8            0.65   0.8   \n",
       "1  0.65               0.1  ...               0.4   0.8            0.65   0.8   \n",
       "2  0.65               0.1  ...               0.4   0.8            0.65   0.8   \n",
       "3  0.65               0.1  ...               0.4   0.8            0.65   0.8   \n",
       "4  0.65               0.1  ...               0.4   0.8            0.65   0.8   \n",
       "\n",
       "   Duration_inv  w_61  Comfort  w_62  Behaviour    output  \n",
       "0           0.5   0.7      1.0  0.65        0.2 -21.31356  \n",
       "1           0.5   0.7      1.0  0.65        0.3 -21.20856  \n",
       "2           0.5   0.7      1.0  0.65        0.5 -20.99856  \n",
       "3           0.5   0.7      1.0  0.65        0.9 -20.57856  \n",
       "4           0.5   0.7      1.0  0.65        1.0 -20.47356  \n",
       "\n",
       "[5 rows x 21 columns]"
      ]
     },
     "execution_count": 4,
     "metadata": {},
     "output_type": "execute_result"
    }
   ],
   "source": [
    "log_df.head()"
   ]
  },
  {
   "cell_type": "code",
   "execution_count": 8,
   "metadata": {},
   "outputs": [],
   "source": [
    "log_df =pd.concat([df_1,df_05,df_02])\n",
    "log_df = log_df[['Age','Dependents','Annual_income','Monthly_loans','Income_stability','Portfolio_status','Investment_obj','Duration_inv','Comfort','Behaviour','output']]"
   ]
  },
  {
   "cell_type": "markdown",
   "metadata": {},
   "source": [
    "##### General Info about the dataset\n",
    "\n",
    "Number of rows, description, stats."
   ]
  },
  {
   "cell_type": "code",
   "execution_count": 9,
   "metadata": {},
   "outputs": [
    {
     "data": {
      "text/plain": [
       "(3750000, 11)"
      ]
     },
     "execution_count": 9,
     "metadata": {},
     "output_type": "execute_result"
    }
   ],
   "source": [
    "log_df.shape"
   ]
  },
  {
   "cell_type": "code",
   "execution_count": 10,
   "metadata": {},
   "outputs": [
    {
     "name": "stdout",
     "output_type": "stream",
     "text": [
      "<class 'pandas.core.frame.DataFrame'>\n",
      "Int64Index: 3750000 entries, 0 to 1249999\n",
      "Data columns (total 11 columns):\n",
      "Age                 float64\n",
      "Dependents          float64\n",
      "Annual_income       float64\n",
      "Monthly_loans       float64\n",
      "Income_stability    float64\n",
      "Portfolio_status    float64\n",
      "Investment_obj      float64\n",
      "Duration_inv        float64\n",
      "Comfort             float64\n",
      "Behaviour           float64\n",
      "output              float64\n",
      "dtypes: float64(11)\n",
      "memory usage: 343.3 MB\n"
     ]
    }
   ],
   "source": [
    "log_df.info()"
   ]
  },
  {
   "cell_type": "code",
   "execution_count": 11,
   "metadata": {},
   "outputs": [
    {
     "data": {
      "text/html": [
       "<div>\n",
       "<style scoped>\n",
       "    .dataframe tbody tr th:only-of-type {\n",
       "        vertical-align: middle;\n",
       "    }\n",
       "\n",
       "    .dataframe tbody tr th {\n",
       "        vertical-align: top;\n",
       "    }\n",
       "\n",
       "    .dataframe thead th {\n",
       "        text-align: right;\n",
       "    }\n",
       "</style>\n",
       "<table border=\"1\" class=\"dataframe\">\n",
       "  <thead>\n",
       "    <tr style=\"text-align: right;\">\n",
       "      <th></th>\n",
       "      <th>Age</th>\n",
       "      <th>Dependents</th>\n",
       "      <th>Annual_income</th>\n",
       "      <th>Monthly_loans</th>\n",
       "      <th>Income_stability</th>\n",
       "      <th>Portfolio_status</th>\n",
       "      <th>Investment_obj</th>\n",
       "      <th>Duration_inv</th>\n",
       "      <th>Comfort</th>\n",
       "      <th>Behaviour</th>\n",
       "      <th>output</th>\n",
       "    </tr>\n",
       "  </thead>\n",
       "  <tbody>\n",
       "    <tr>\n",
       "      <th>count</th>\n",
       "      <td>3.750000e+06</td>\n",
       "      <td>3.750000e+06</td>\n",
       "      <td>3.750000e+06</td>\n",
       "      <td>3.750000e+06</td>\n",
       "      <td>3.750000e+06</td>\n",
       "      <td>3.750000e+06</td>\n",
       "      <td>3.750000e+06</td>\n",
       "      <td>3750000.00</td>\n",
       "      <td>3.750000e+06</td>\n",
       "      <td>3.750000e+06</td>\n",
       "      <td>3.750000e+06</td>\n",
       "    </tr>\n",
       "    <tr>\n",
       "      <th>mean</th>\n",
       "      <td>5.666667e-01</td>\n",
       "      <td>6.250000e-01</td>\n",
       "      <td>6.000000e-01</td>\n",
       "      <td>6.000000e-01</td>\n",
       "      <td>5.000000e-01</td>\n",
       "      <td>5.400000e-01</td>\n",
       "      <td>6.300000e-01</td>\n",
       "      <td>0.65</td>\n",
       "      <td>5.400000e-01</td>\n",
       "      <td>5.800000e-01</td>\n",
       "      <td>-3.039879e+01</td>\n",
       "    </tr>\n",
       "    <tr>\n",
       "      <th>std</th>\n",
       "      <td>3.299832e-01</td>\n",
       "      <td>3.344772e-01</td>\n",
       "      <td>2.828428e-01</td>\n",
       "      <td>2.828428e-01</td>\n",
       "      <td>3.391165e-01</td>\n",
       "      <td>1.496663e-01</td>\n",
       "      <td>2.039608e-01</td>\n",
       "      <td>0.10</td>\n",
       "      <td>3.611094e-01</td>\n",
       "      <td>3.187476e-01</td>\n",
       "      <td>1.480519e+01</td>\n",
       "    </tr>\n",
       "    <tr>\n",
       "      <th>min</th>\n",
       "      <td>2.000000e-01</td>\n",
       "      <td>1.000000e-01</td>\n",
       "      <td>2.000000e-01</td>\n",
       "      <td>2.000000e-01</td>\n",
       "      <td>1.000000e-01</td>\n",
       "      <td>4.000000e-01</td>\n",
       "      <td>4.000000e-01</td>\n",
       "      <td>0.50</td>\n",
       "      <td>1.000000e-01</td>\n",
       "      <td>2.000000e-01</td>\n",
       "      <td>-6.970124e+01</td>\n",
       "    </tr>\n",
       "    <tr>\n",
       "      <th>25%</th>\n",
       "      <td>2.000000e-01</td>\n",
       "      <td>4.750000e-01</td>\n",
       "      <td>4.000000e-01</td>\n",
       "      <td>4.000000e-01</td>\n",
       "      <td>2.500000e-01</td>\n",
       "      <td>4.000000e-01</td>\n",
       "      <td>5.000000e-01</td>\n",
       "      <td>0.60</td>\n",
       "      <td>2.000000e-01</td>\n",
       "      <td>3.000000e-01</td>\n",
       "      <td>-4.254679e+01</td>\n",
       "    </tr>\n",
       "    <tr>\n",
       "      <th>50%</th>\n",
       "      <td>5.000000e-01</td>\n",
       "      <td>7.000000e-01</td>\n",
       "      <td>6.000000e-01</td>\n",
       "      <td>6.000000e-01</td>\n",
       "      <td>4.500000e-01</td>\n",
       "      <td>5.000000e-01</td>\n",
       "      <td>6.000000e-01</td>\n",
       "      <td>0.65</td>\n",
       "      <td>5.000000e-01</td>\n",
       "      <td>5.000000e-01</td>\n",
       "      <td>-2.880174e+01</td>\n",
       "    </tr>\n",
       "    <tr>\n",
       "      <th>75%</th>\n",
       "      <td>1.000000e+00</td>\n",
       "      <td>8.500000e-01</td>\n",
       "      <td>8.000000e-01</td>\n",
       "      <td>8.000000e-01</td>\n",
       "      <td>7.000000e-01</td>\n",
       "      <td>6.000000e-01</td>\n",
       "      <td>6.500000e-01</td>\n",
       "      <td>0.70</td>\n",
       "      <td>9.000000e-01</td>\n",
       "      <td>9.000000e-01</td>\n",
       "      <td>-1.871553e+01</td>\n",
       "    </tr>\n",
       "    <tr>\n",
       "      <th>max</th>\n",
       "      <td>1.000000e+00</td>\n",
       "      <td>1.000000e+00</td>\n",
       "      <td>1.000000e+00</td>\n",
       "      <td>1.000000e+00</td>\n",
       "      <td>1.000000e+00</td>\n",
       "      <td>8.000000e-01</td>\n",
       "      <td>1.000000e+00</td>\n",
       "      <td>0.80</td>\n",
       "      <td>1.000000e+00</td>\n",
       "      <td>1.000000e+00</td>\n",
       "      <td>1.690000e+00</td>\n",
       "    </tr>\n",
       "  </tbody>\n",
       "</table>\n",
       "</div>"
      ],
      "text/plain": [
       "                Age    Dependents  Annual_income  Monthly_loans  \\\n",
       "count  3.750000e+06  3.750000e+06   3.750000e+06   3.750000e+06   \n",
       "mean   5.666667e-01  6.250000e-01   6.000000e-01   6.000000e-01   \n",
       "std    3.299832e-01  3.344772e-01   2.828428e-01   2.828428e-01   \n",
       "min    2.000000e-01  1.000000e-01   2.000000e-01   2.000000e-01   \n",
       "25%    2.000000e-01  4.750000e-01   4.000000e-01   4.000000e-01   \n",
       "50%    5.000000e-01  7.000000e-01   6.000000e-01   6.000000e-01   \n",
       "75%    1.000000e+00  8.500000e-01   8.000000e-01   8.000000e-01   \n",
       "max    1.000000e+00  1.000000e+00   1.000000e+00   1.000000e+00   \n",
       "\n",
       "       Income_stability  Portfolio_status  Investment_obj  Duration_inv  \\\n",
       "count      3.750000e+06      3.750000e+06    3.750000e+06    3750000.00   \n",
       "mean       5.000000e-01      5.400000e-01    6.300000e-01          0.65   \n",
       "std        3.391165e-01      1.496663e-01    2.039608e-01          0.10   \n",
       "min        1.000000e-01      4.000000e-01    4.000000e-01          0.50   \n",
       "25%        2.500000e-01      4.000000e-01    5.000000e-01          0.60   \n",
       "50%        4.500000e-01      5.000000e-01    6.000000e-01          0.65   \n",
       "75%        7.000000e-01      6.000000e-01    6.500000e-01          0.70   \n",
       "max        1.000000e+00      8.000000e-01    1.000000e+00          0.80   \n",
       "\n",
       "            Comfort     Behaviour        output  \n",
       "count  3.750000e+06  3.750000e+06  3.750000e+06  \n",
       "mean   5.400000e-01  5.800000e-01 -3.039879e+01  \n",
       "std    3.611094e-01  3.187476e-01  1.480519e+01  \n",
       "min    1.000000e-01  2.000000e-01 -6.970124e+01  \n",
       "25%    2.000000e-01  3.000000e-01 -4.254679e+01  \n",
       "50%    5.000000e-01  5.000000e-01 -2.880174e+01  \n",
       "75%    9.000000e-01  9.000000e-01 -1.871553e+01  \n",
       "max    1.000000e+00  1.000000e+00  1.690000e+00  "
      ]
     },
     "execution_count": 11,
     "metadata": {},
     "output_type": "execute_result"
    }
   ],
   "source": [
    "log_df.describe()"
   ]
  },
  {
   "cell_type": "code",
   "execution_count": 14,
   "metadata": {},
   "outputs": [
    {
     "name": "stdout",
     "output_type": "stream",
     "text": [
      "Age :Unique Elements:  [1.  0.5 0.2] ,Number of unique elements:  3\n",
      "Dependents :Unique Elements:  [1.  0.8 0.6 0.1] ,Number of unique elements:  4\n",
      "Annual_income :Unique Elements:  [0.2 0.4 0.6 0.8 1. ] ,Number of unique elements:  5\n",
      "Monthly_loans :Unique Elements:  [1.  0.8 0.6 0.4 0.2] ,Number of unique elements:  5\n",
      "Income_stability :Unique Elements:  [0.1 0.3 0.6 1. ] ,Number of unique elements:  4\n",
      "Portfolio_status :Unique Elements:  [0.4 0.6 0.5 0.8] ,Number of unique elements:  4\n",
      "Investment_obj :Unique Elements:  [0.65 0.6  0.4  0.5  1.  ] ,Number of unique elements:  5\n",
      "Duration_inv :Unique Elements:  [0.5  0.8  0.65 0.6  0.7 ] ,Number of unique elements:  5\n",
      "Comfort :Unique Elements:  [1.  0.9 0.5 0.2 0.1] ,Number of unique elements:  5\n",
      "Behaviour :Unique Elements:  [0.2 0.3 0.5 0.9 1. ] ,Number of unique elements:  5\n",
      "output :Unique Elements:  [-21.31356027 -21.20856027 -20.99856027 ... -45.85762824 -45.58162824\n",
      " -45.51262824] ,Number of unique elements:  2693798\n"
     ]
    }
   ],
   "source": [
    "for col in log_df:\n",
    "    print(col,\":Unique Elements: \",log_df[col].unique(),\",Number of unique elements: \",len(log_df[col].unique()))"
   ]
  },
  {
   "cell_type": "code",
   "execution_count": 15,
   "metadata": {},
   "outputs": [
    {
     "data": {
      "text/plain": [
       "Age                       3\n",
       "Dependents                4\n",
       "Annual_income             5\n",
       "Monthly_loans             5\n",
       "Income_stability          4\n",
       "Portfolio_status          4\n",
       "Investment_obj            5\n",
       "Duration_inv              5\n",
       "Comfort                   5\n",
       "Behaviour                 5\n",
       "output              2693798\n",
       "dtype: int64"
      ]
     },
     "execution_count": 15,
     "metadata": {},
     "output_type": "execute_result"
    }
   ],
   "source": [
    "log_df.apply(lambda x: len(x.unique()))"
   ]
  },
  {
   "cell_type": "markdown",
   "metadata": {},
   "source": [
    "##### Correlations in the dataset."
   ]
  },
  {
   "cell_type": "code",
   "execution_count": 16,
   "metadata": {},
   "outputs": [
    {
     "data": {
      "text/plain": [
       "<matplotlib.axes._subplots.AxesSubplot at 0x7fee8ed35208>"
      ]
     },
     "execution_count": 16,
     "metadata": {},
     "output_type": "execute_result"
    },
    {
     "data": {
      "image/png": "[encoded data removed]",
      "text/plain": [
       "<Figure size 1080x1080 with 2 Axes>"
      ]
     },
     "metadata": {
      "needs_background": "light"
     },
     "output_type": "display_data"
    }
   ],
   "source": [
    "correlation_matrix = log_df.corr()\n",
    "plt.subplots(figsize=(15,15))\n",
    "sns.heatmap(correlation_matrix, center=0, annot=True, linewidths=.3)"
   ]
  },
  {
   "cell_type": "code",
   "execution_count": 17,
   "metadata": {},
   "outputs": [
    {
     "data": {
      "text/html": [
       "<div>\n",
       "<style scoped>\n",
       "    .dataframe tbody tr th:only-of-type {\n",
       "        vertical-align: middle;\n",
       "    }\n",
       "\n",
       "    .dataframe tbody tr th {\n",
       "        vertical-align: top;\n",
       "    }\n",
       "\n",
       "    .dataframe thead th {\n",
       "        text-align: right;\n",
       "    }\n",
       "</style>\n",
       "<table border=\"1\" class=\"dataframe\">\n",
       "  <thead>\n",
       "    <tr style=\"text-align: right;\">\n",
       "      <th></th>\n",
       "      <th>Age</th>\n",
       "      <th>Dependents</th>\n",
       "      <th>Annual_income</th>\n",
       "      <th>Monthly_loans</th>\n",
       "      <th>Income_stability</th>\n",
       "      <th>Portfolio_status</th>\n",
       "      <th>Investment_obj</th>\n",
       "      <th>Duration_inv</th>\n",
       "      <th>Comfort</th>\n",
       "      <th>Behaviour</th>\n",
       "      <th>output</th>\n",
       "    </tr>\n",
       "  </thead>\n",
       "  <tbody>\n",
       "    <tr>\n",
       "      <th>Age</th>\n",
       "      <td>1.000000e+00</td>\n",
       "      <td>-3.377068e-14</td>\n",
       "      <td>-7.191090e-13</td>\n",
       "      <td>1.631766e-13</td>\n",
       "      <td>-1.524255e-14</td>\n",
       "      <td>2.555101e-15</td>\n",
       "      <td>-6.228774e-16</td>\n",
       "      <td>2.691615e-17</td>\n",
       "      <td>-1.242327e-17</td>\n",
       "      <td>2.638831e-17</td>\n",
       "      <td>0.869218</td>\n",
       "    </tr>\n",
       "    <tr>\n",
       "      <th>Dependents</th>\n",
       "      <td>-3.377068e-14</td>\n",
       "      <td>1.000000e+00</td>\n",
       "      <td>3.514393e-13</td>\n",
       "      <td>-2.681363e-13</td>\n",
       "      <td>1.742707e-14</td>\n",
       "      <td>-1.195217e-15</td>\n",
       "      <td>1.271962e-15</td>\n",
       "      <td>1.609923e-16</td>\n",
       "      <td>-1.057057e-16</td>\n",
       "      <td>-2.115260e-17</td>\n",
       "      <td>0.142979</td>\n",
       "    </tr>\n",
       "    <tr>\n",
       "      <th>Annual_income</th>\n",
       "      <td>-7.191090e-13</td>\n",
       "      <td>3.514393e-13</td>\n",
       "      <td>1.000000e+00</td>\n",
       "      <td>-2.988641e-14</td>\n",
       "      <td>-4.334088e-14</td>\n",
       "      <td>-6.767617e-16</td>\n",
       "      <td>-2.660533e-16</td>\n",
       "      <td>-3.271026e-22</td>\n",
       "      <td>8.688981e-18</td>\n",
       "      <td>-3.693970e-17</td>\n",
       "      <td>0.134238</td>\n",
       "    </tr>\n",
       "    <tr>\n",
       "      <th>Monthly_loans</th>\n",
       "      <td>1.631766e-13</td>\n",
       "      <td>-2.681363e-13</td>\n",
       "      <td>-2.988641e-14</td>\n",
       "      <td>1.000000e+00</td>\n",
       "      <td>-3.284594e-14</td>\n",
       "      <td>-1.326681e-15</td>\n",
       "      <td>2.069151e-16</td>\n",
       "      <td>4.464898e-17</td>\n",
       "      <td>1.739189e-16</td>\n",
       "      <td>-1.231455e-17</td>\n",
       "      <td>0.105126</td>\n",
       "    </tr>\n",
       "    <tr>\n",
       "      <th>Income_stability</th>\n",
       "      <td>-1.524255e-14</td>\n",
       "      <td>1.742707e-14</td>\n",
       "      <td>-4.334088e-14</td>\n",
       "      <td>-3.284594e-14</td>\n",
       "      <td>1.000000e+00</td>\n",
       "      <td>-3.136042e-16</td>\n",
       "      <td>1.364246e-15</td>\n",
       "      <td>4.609630e-17</td>\n",
       "      <td>8.993492e-18</td>\n",
       "      <td>1.930942e-17</td>\n",
       "      <td>0.347101</td>\n",
       "    </tr>\n",
       "    <tr>\n",
       "      <th>Portfolio_status</th>\n",
       "      <td>2.555101e-15</td>\n",
       "      <td>-1.195217e-15</td>\n",
       "      <td>-6.767617e-16</td>\n",
       "      <td>-1.326681e-15</td>\n",
       "      <td>-3.136042e-16</td>\n",
       "      <td>1.000000e+00</td>\n",
       "      <td>-2.085583e-15</td>\n",
       "      <td>-7.119477e-18</td>\n",
       "      <td>1.064907e-16</td>\n",
       "      <td>-2.327230e-17</td>\n",
       "      <td>0.005055</td>\n",
       "    </tr>\n",
       "    <tr>\n",
       "      <th>Investment_obj</th>\n",
       "      <td>-6.228774e-16</td>\n",
       "      <td>1.271962e-15</td>\n",
       "      <td>-2.660533e-16</td>\n",
       "      <td>2.069151e-16</td>\n",
       "      <td>1.364246e-15</td>\n",
       "      <td>-2.085583e-15</td>\n",
       "      <td>1.000000e+00</td>\n",
       "      <td>-3.483931e-17</td>\n",
       "      <td>-2.411819e-17</td>\n",
       "      <td>1.639400e-17</td>\n",
       "      <td>0.070533</td>\n",
       "    </tr>\n",
       "    <tr>\n",
       "      <th>Duration_inv</th>\n",
       "      <td>2.691615e-17</td>\n",
       "      <td>1.609923e-16</td>\n",
       "      <td>-3.271026e-22</td>\n",
       "      <td>4.464898e-17</td>\n",
       "      <td>4.609630e-17</td>\n",
       "      <td>-7.119477e-18</td>\n",
       "      <td>-3.483931e-17</td>\n",
       "      <td>1.000000e+00</td>\n",
       "      <td>-9.838346e-17</td>\n",
       "      <td>-1.161026e-22</td>\n",
       "      <td>0.003134</td>\n",
       "    </tr>\n",
       "    <tr>\n",
       "      <th>Comfort</th>\n",
       "      <td>-1.242327e-17</td>\n",
       "      <td>-1.057057e-16</td>\n",
       "      <td>8.688981e-18</td>\n",
       "      <td>1.739189e-16</td>\n",
       "      <td>8.993492e-18</td>\n",
       "      <td>1.064907e-16</td>\n",
       "      <td>-2.411819e-17</td>\n",
       "      <td>-9.838346e-17</td>\n",
       "      <td>1.000000e+00</td>\n",
       "      <td>1.929099e-17</td>\n",
       "      <td>0.117126</td>\n",
       "    </tr>\n",
       "    <tr>\n",
       "      <th>Behaviour</th>\n",
       "      <td>2.638831e-17</td>\n",
       "      <td>-2.115260e-17</td>\n",
       "      <td>-3.693970e-17</td>\n",
       "      <td>-1.231455e-17</td>\n",
       "      <td>1.930942e-17</td>\n",
       "      <td>-2.327230e-17</td>\n",
       "      <td>1.639400e-17</td>\n",
       "      <td>-1.161026e-22</td>\n",
       "      <td>1.929099e-17</td>\n",
       "      <td>1.000000e+00</td>\n",
       "      <td>0.019125</td>\n",
       "    </tr>\n",
       "    <tr>\n",
       "      <th>output</th>\n",
       "      <td>8.692175e-01</td>\n",
       "      <td>1.429789e-01</td>\n",
       "      <td>1.342383e-01</td>\n",
       "      <td>1.051264e-01</td>\n",
       "      <td>3.471009e-01</td>\n",
       "      <td>5.054523e-03</td>\n",
       "      <td>7.053299e-02</td>\n",
       "      <td>3.134037e-03</td>\n",
       "      <td>1.171255e-01</td>\n",
       "      <td>1.912533e-02</td>\n",
       "      <td>1.000000</td>\n",
       "    </tr>\n",
       "  </tbody>\n",
       "</table>\n",
       "</div>"
      ],
      "text/plain": [
       "                           Age    Dependents  Annual_income  Monthly_loans  \\\n",
       "Age               1.000000e+00 -3.377068e-14  -7.191090e-13   1.631766e-13   \n",
       "Dependents       -3.377068e-14  1.000000e+00   3.514393e-13  -2.681363e-13   \n",
       "Annual_income    -7.191090e-13  3.514393e-13   1.000000e+00  -2.988641e-14   \n",
       "Monthly_loans     1.631766e-13 -2.681363e-13  -2.988641e-14   1.000000e+00   \n",
       "Income_stability -1.524255e-14  1.742707e-14  -4.334088e-14  -3.284594e-14   \n",
       "Portfolio_status  2.555101e-15 -1.195217e-15  -6.767617e-16  -1.326681e-15   \n",
       "Investment_obj   -6.228774e-16  1.271962e-15  -2.660533e-16   2.069151e-16   \n",
       "Duration_inv      2.691615e-17  1.609923e-16  -3.271026e-22   4.464898e-17   \n",
       "Comfort          -1.242327e-17 -1.057057e-16   8.688981e-18   1.739189e-16   \n",
       "Behaviour         2.638831e-17 -2.115260e-17  -3.693970e-17  -1.231455e-17   \n",
       "output            8.692175e-01  1.429789e-01   1.342383e-01   1.051264e-01   \n",
       "\n",
       "                  Income_stability  Portfolio_status  Investment_obj  \\\n",
       "Age                  -1.524255e-14      2.555101e-15   -6.228774e-16   \n",
       "Dependents            1.742707e-14     -1.195217e-15    1.271962e-15   \n",
       "Annual_income        -4.334088e-14     -6.767617e-16   -2.660533e-16   \n",
       "Monthly_loans        -3.284594e-14     -1.326681e-15    2.069151e-16   \n",
       "Income_stability      1.000000e+00     -3.136042e-16    1.364246e-15   \n",
       "Portfolio_status     -3.136042e-16      1.000000e+00   -2.085583e-15   \n",
       "Investment_obj        1.364246e-15     -2.085583e-15    1.000000e+00   \n",
       "Duration_inv          4.609630e-17     -7.119477e-18   -3.483931e-17   \n",
       "Comfort               8.993492e-18      1.064907e-16   -2.411819e-17   \n",
       "Behaviour             1.930942e-17     -2.327230e-17    1.639400e-17   \n",
       "output                3.471009e-01      5.054523e-03    7.053299e-02   \n",
       "\n",
       "                  Duration_inv       Comfort     Behaviour    output  \n",
       "Age               2.691615e-17 -1.242327e-17  2.638831e-17  0.869218  \n",
       "Dependents        1.609923e-16 -1.057057e-16 -2.115260e-17  0.142979  \n",
       "Annual_income    -3.271026e-22  8.688981e-18 -3.693970e-17  0.134238  \n",
       "Monthly_loans     4.464898e-17  1.739189e-16 -1.231455e-17  0.105126  \n",
       "Income_stability  4.609630e-17  8.993492e-18  1.930942e-17  0.347101  \n",
       "Portfolio_status -7.119477e-18  1.064907e-16 -2.327230e-17  0.005055  \n",
       "Investment_obj   -3.483931e-17 -2.411819e-17  1.639400e-17  0.070533  \n",
       "Duration_inv      1.000000e+00 -9.838346e-17 -1.161026e-22  0.003134  \n",
       "Comfort          -9.838346e-17  1.000000e+00  1.929099e-17  0.117126  \n",
       "Behaviour        -1.161026e-22  1.929099e-17  1.000000e+00  0.019125  \n",
       "output            3.134037e-03  1.171255e-01  1.912533e-02  1.000000  "
      ]
     },
     "execution_count": 17,
     "metadata": {},
     "output_type": "execute_result"
    }
   ],
   "source": [
    "correlation_matrix"
   ]
  },
  {
   "cell_type": "markdown",
   "metadata": {},
   "source": [
    "##### Correlations with the output column\n",
    "\n",
    "In this dataset multiplicative variables that matter most are Age and Income_stability as per the equation we used to create the dataset."
   ]
  },
  {
   "cell_type": "code",
   "execution_count": 19,
   "metadata": {},
   "outputs": [
    {
     "data": {
      "text/plain": [
       "output              1.000000\n",
       "Age                 0.869218\n",
       "Income_stability    0.347101\n",
       "Dependents          0.142979\n",
       "Annual_income       0.134238\n",
       "Comfort             0.117126\n",
       "Monthly_loans       0.105126\n",
       "Investment_obj      0.070533\n",
       "Behaviour           0.019125\n",
       "Portfolio_status    0.005055\n",
       "Duration_inv        0.003134\n",
       "Name: output, dtype: float64"
      ]
     },
     "execution_count": 19,
     "metadata": {},
     "output_type": "execute_result"
    }
   ],
   "source": [
    "df_correlations = log_df.corr()\n",
    "df_correlations['output'].sort_values(ascending=False)"
   ]
  },
  {
   "cell_type": "markdown",
   "metadata": {},
   "source": [
    "##### Minima and maxima of the generated output"
   ]
  },
  {
   "cell_type": "code",
   "execution_count": 20,
   "metadata": {},
   "outputs": [
    {
     "name": "stdout",
     "output_type": "stream",
     "text": [
      "-69.70124383871394 1.69\n"
     ]
    }
   ],
   "source": [
    "print(log_df.output.min(), log_df.output.max())"
   ]
  },
  {
   "cell_type": "code",
   "execution_count": 21,
   "metadata": {},
   "outputs": [
    {
     "data": {
      "image/png": "[encoded data removed]",
      "text/plain": [
       "<Figure size 432x288 with 1 Axes>"
      ]
     },
     "metadata": {
      "needs_background": "light"
     },
     "output_type": "display_data"
    }
   ],
   "source": [
    "sns.distplot(log_df.output,label=\"Distribution of Risk Scores\")\n",
    "plt.title(\"Distribution of Risk Scores for the Logarithmic Equation\")\n",
    "plt.xlabel(\"Equation Output\")\n",
    "plt.ylabel(\"Probability Density\")\n",
    "plt.show()"
   ]
  },
  {
   "cell_type": "markdown",
   "metadata": {},
   "source": [
    "Based on the above distribution the five categories are made using the following boundary conditions:\n",
    "    <br>\n",
    "No Risk: output values below -50\n",
    "<br>\n",
    "Low Risk: -50 to -40\n",
    "<br>\n",
    "Moderate Risk: -40 to -30\n",
    "<br>\n",
    "Likes Risk: -30 to -17\n",
    "<br>\n",
    "High Risk: -17 above"
   ]
  },
  {
   "cell_type": "code",
   "execution_count": 22,
   "metadata": {},
   "outputs": [],
   "source": [
    "df=log_df\n",
    "#Creating a new column with same values as output\n",
    "df = df.assign(categories = df['output'])\n",
    "#All observations below 1.5 in output column will get marked as category 1\n",
    "df.loc[df['output'] <= -50, 'categories'] = 1\n",
    "#Observations from 1.5 to 2.5 marked as category 2\n",
    "df.loc[(df['output'] > -50) & (df['output'] <= -40) , 'categories'] = 2\n",
    "#Observations from 2.5 to 3.5 marked as category 3\n",
    "df.loc[(df['output'] > -40) & (df['output'] <= -30) , 'categories'] = 3\n",
    "#Observations from 3.5 to 4.5 marked as category 4\n",
    "df.loc[(df['output'] > -30) & (df['output'] <= -17) , 'categories'] = 4\n",
    "#Observations above 4.5 marked as category 5\n",
    "df.loc[df['output']>-17, 'categories'] = 5"
   ]
  },
  {
   "cell_type": "markdown",
   "metadata": {},
   "source": [
    "##### Distribution after category division"
   ]
  },
  {
   "cell_type": "code",
   "execution_count": 23,
   "metadata": {},
   "outputs": [
    {
     "data": {
      "image/png": "[encoded data removed]",
      "text/plain": [
       "<Figure size 432x288 with 1 Axes>"
      ]
     },
     "metadata": {
      "needs_background": "light"
     },
     "output_type": "display_data"
    }
   ],
   "source": [
    "sns.distplot(df.categories)\n",
    "plt.title(\"Categories in the Logarithmic Equation\")\n",
    "plt.xlabel(\"Categories\")\n",
    "plt.ylabel(\"Probability density\")\n",
    "plt.show()"
   ]
  },
  {
   "cell_type": "markdown",
   "metadata": {},
   "source": [
    "Number of datapoints in each category."
   ]
  },
  {
   "cell_type": "code",
   "execution_count": 24,
   "metadata": {},
   "outputs": [
    {
     "data": {
      "text/plain": [
       "4.0    1156591\n",
       "5.0     804616\n",
       "2.0     717505\n",
       "3.0     648429\n",
       "1.0     422859\n",
       "Name: categories, dtype: int64"
      ]
     },
     "execution_count": 24,
     "metadata": {},
     "output_type": "execute_result"
    }
   ],
   "source": [
    "df.categories.value_counts()"
   ]
  },
  {
   "cell_type": "markdown",
   "metadata": {},
   "source": [
    "#### Stratified Sampling\n",
    "\n",
    "A balanced sample is given to the regulator. The sample gives a small but complete representation of the dataset.\n"
   ]
  },
  {
   "cell_type": "code",
   "execution_count": 25,
   "metadata": {},
   "outputs": [],
   "source": [
    "from sklearn.model_selection import StratifiedShuffleSplit\n",
    "\n",
    "split = StratifiedShuffleSplit(n_splits=3,test_size=0.3,random_state=42)\n",
    "# n_splits= number of shuffles and iterations\n",
    "\n",
    "#loop to stratify by category and store in train and test set\n",
    "for train_index,test_index in split.split(df,df['categories']):\n",
    "    strat_train_set = df.iloc[train_index]\n",
    "    strat_test_set = df.iloc[test_index]"
   ]
  },
  {
   "cell_type": "markdown",
   "metadata": {},
   "source": [
    "Here 30% of the dataset is taken finally. Both the datasets are similar as they exibhit similar correlations and variations and similar correlations with the output columns. This helps prove taking a small part of the dataset can be an adequately accurate represenatation."
   ]
  },
  {
   "cell_type": "code",
   "execution_count": 26,
   "metadata": {},
   "outputs": [
    {
     "data": {
      "text/html": [
       "<div>\n",
       "<style scoped>\n",
       "    .dataframe tbody tr th:only-of-type {\n",
       "        vertical-align: middle;\n",
       "    }\n",
       "\n",
       "    .dataframe tbody tr th {\n",
       "        vertical-align: top;\n",
       "    }\n",
       "\n",
       "    .dataframe thead th {\n",
       "        text-align: right;\n",
       "    }\n",
       "</style>\n",
       "<table border=\"1\" class=\"dataframe\">\n",
       "  <thead>\n",
       "    <tr style=\"text-align: right;\">\n",
       "      <th></th>\n",
       "      <th>Age</th>\n",
       "      <th>Dependents</th>\n",
       "      <th>Annual_income</th>\n",
       "      <th>Monthly_loans</th>\n",
       "      <th>Income_stability</th>\n",
       "      <th>Portfolio_status</th>\n",
       "      <th>Investment_obj</th>\n",
       "      <th>Duration_inv</th>\n",
       "      <th>Comfort</th>\n",
       "      <th>Behaviour</th>\n",
       "      <th>output</th>\n",
       "      <th>categories</th>\n",
       "    </tr>\n",
       "  </thead>\n",
       "  <tbody>\n",
       "    <tr>\n",
       "      <th>1237022</th>\n",
       "      <td>1.0</td>\n",
       "      <td>0.1</td>\n",
       "      <td>1.0</td>\n",
       "      <td>0.4</td>\n",
       "      <td>1.0</td>\n",
       "      <td>0.8</td>\n",
       "      <td>0.60</td>\n",
       "      <td>0.50</td>\n",
       "      <td>0.1</td>\n",
       "      <td>0.5</td>\n",
       "      <td>-13.586577</td>\n",
       "      <td>5.0</td>\n",
       "    </tr>\n",
       "    <tr>\n",
       "      <th>23782</th>\n",
       "      <td>1.0</td>\n",
       "      <td>1.0</td>\n",
       "      <td>0.2</td>\n",
       "      <td>0.8</td>\n",
       "      <td>1.0</td>\n",
       "      <td>0.4</td>\n",
       "      <td>0.65</td>\n",
       "      <td>0.80</td>\n",
       "      <td>0.9</td>\n",
       "      <td>0.5</td>\n",
       "      <td>-7.268737</td>\n",
       "      <td>5.0</td>\n",
       "    </tr>\n",
       "    <tr>\n",
       "      <th>499066</th>\n",
       "      <td>0.2</td>\n",
       "      <td>0.8</td>\n",
       "      <td>0.6</td>\n",
       "      <td>0.2</td>\n",
       "      <td>1.0</td>\n",
       "      <td>0.4</td>\n",
       "      <td>0.40</td>\n",
       "      <td>0.65</td>\n",
       "      <td>0.2</td>\n",
       "      <td>0.3</td>\n",
       "      <td>-44.835300</td>\n",
       "      <td>2.0</td>\n",
       "    </tr>\n",
       "    <tr>\n",
       "      <th>610386</th>\n",
       "      <td>0.2</td>\n",
       "      <td>0.8</td>\n",
       "      <td>1.0</td>\n",
       "      <td>0.4</td>\n",
       "      <td>1.0</td>\n",
       "      <td>0.6</td>\n",
       "      <td>0.50</td>\n",
       "      <td>0.50</td>\n",
       "      <td>0.5</td>\n",
       "      <td>0.3</td>\n",
       "      <td>-38.362929</td>\n",
       "      <td>3.0</td>\n",
       "    </tr>\n",
       "    <tr>\n",
       "      <th>1102312</th>\n",
       "      <td>1.0</td>\n",
       "      <td>0.1</td>\n",
       "      <td>0.6</td>\n",
       "      <td>0.4</td>\n",
       "      <td>0.1</td>\n",
       "      <td>0.4</td>\n",
       "      <td>0.50</td>\n",
       "      <td>0.65</td>\n",
       "      <td>0.5</td>\n",
       "      <td>0.5</td>\n",
       "      <td>-27.392592</td>\n",
       "      <td>4.0</td>\n",
       "    </tr>\n",
       "  </tbody>\n",
       "</table>\n",
       "</div>"
      ],
      "text/plain": [
       "         Age  Dependents  Annual_income  Monthly_loans  Income_stability  \\\n",
       "1237022  1.0         0.1            1.0            0.4               1.0   \n",
       "23782    1.0         1.0            0.2            0.8               1.0   \n",
       "499066   0.2         0.8            0.6            0.2               1.0   \n",
       "610386   0.2         0.8            1.0            0.4               1.0   \n",
       "1102312  1.0         0.1            0.6            0.4               0.1   \n",
       "\n",
       "         Portfolio_status  Investment_obj  Duration_inv  Comfort  Behaviour  \\\n",
       "1237022               0.8            0.60          0.50      0.1        0.5   \n",
       "23782                 0.4            0.65          0.80      0.9        0.5   \n",
       "499066                0.4            0.40          0.65      0.2        0.3   \n",
       "610386                0.6            0.50          0.50      0.5        0.3   \n",
       "1102312               0.4            0.50          0.65      0.5        0.5   \n",
       "\n",
       "            output  categories  \n",
       "1237022 -13.586577         5.0  \n",
       "23782    -7.268737         5.0  \n",
       "499066  -44.835300         2.0  \n",
       "610386  -38.362929         3.0  \n",
       "1102312 -27.392592         4.0  "
      ]
     },
     "execution_count": 26,
     "metadata": {},
     "output_type": "execute_result"
    }
   ],
   "source": [
    "strat_test_set.head()"
   ]
  },
  {
   "cell_type": "markdown",
   "metadata": {},
   "source": [
    "##### Variations of the division are similar"
   ]
  },
  {
   "cell_type": "markdown",
   "metadata": {},
   "source": [
    "Bigger Set"
   ]
  },
  {
   "cell_type": "code",
   "execution_count": 27,
   "metadata": {},
   "outputs": [
    {
     "data": {
      "text/plain": [
       "Age                   0.108898\n",
       "Dependents            0.111849\n",
       "Annual_income         0.080014\n",
       "Monthly_loans         0.079954\n",
       "Income_stability      0.114931\n",
       "Portfolio_status      0.022398\n",
       "Investment_obj        0.041610\n",
       "Duration_inv          0.009997\n",
       "Comfort               0.130353\n",
       "Behaviour             0.101620\n",
       "output              219.202698\n",
       "categories            1.706222\n",
       "dtype: float64"
      ]
     },
     "execution_count": 27,
     "metadata": {},
     "output_type": "execute_result"
    }
   ],
   "source": [
    "strat_train_set.var()"
   ]
  },
  {
   "cell_type": "markdown",
   "metadata": {},
   "source": [
    "Smaller Set"
   ]
  },
  {
   "cell_type": "code",
   "execution_count": 28,
   "metadata": {},
   "outputs": [
    {
     "data": {
      "text/plain": [
       "Age                   0.108868\n",
       "Dependents            0.111936\n",
       "Annual_income         0.079966\n",
       "Monthly_loans         0.080107\n",
       "Income_stability      0.115162\n",
       "Portfolio_status      0.022404\n",
       "Investment_obj        0.041577\n",
       "Duration_inv          0.010007\n",
       "Comfort               0.130509\n",
       "Behaviour             0.101553\n",
       "output              219.172513\n",
       "categories            1.706224\n",
       "dtype: float64"
      ]
     },
     "execution_count": 28,
     "metadata": {},
     "output_type": "execute_result"
    }
   ],
   "source": [
    "strat_test_set.var()"
   ]
  },
  {
   "cell_type": "markdown",
   "metadata": {},
   "source": [
    "Shape of bigger and smaller set"
   ]
  },
  {
   "cell_type": "code",
   "execution_count": 30,
   "metadata": {},
   "outputs": [
    {
     "name": "stdout",
     "output_type": "stream",
     "text": [
      "(2625000, 12) (1125000, 12)\n"
     ]
    }
   ],
   "source": [
    "print( strat_train_set.shape,strat_test_set.shape)"
   ]
  },
  {
   "cell_type": "markdown",
   "metadata": {},
   "source": [
    "Correlations with the output in final set"
   ]
  },
  {
   "cell_type": "code",
   "execution_count": 31,
   "metadata": {},
   "outputs": [
    {
     "data": {
      "text/plain": [
       "output              1.000000\n",
       "categories          0.971413\n",
       "Age                 0.869074\n",
       "Income_stability    0.346537\n",
       "Dependents          0.143074\n",
       "Annual_income       0.134884\n",
       "Comfort             0.116803\n",
       "Monthly_loans       0.106682\n",
       "Investment_obj      0.070134\n",
       "Behaviour           0.019489\n",
       "Duration_inv        0.005241\n",
       "Portfolio_status    0.004668\n",
       "Name: output, dtype: float64"
      ]
     },
     "execution_count": 31,
     "metadata": {},
     "output_type": "execute_result"
    }
   ],
   "source": [
    "strat_test = strat_test_set.corr()\n",
    "strat_test['output'].sort_values(ascending=False)"
   ]
  },
  {
   "cell_type": "code",
   "execution_count": 32,
   "metadata": {},
   "outputs": [
    {
     "data": {
      "text/plain": [
       "<matplotlib.axes._subplots.AxesSubplot at 0x7fee8dcd1208>"
      ]
     },
     "execution_count": 32,
     "metadata": {},
     "output_type": "execute_result"
    },
    {
     "data": {
      "image/png": "[encoded data removed]",
      "text/plain": [
       "<Figure size 1080x1080 with 2 Axes>"
      ]
     },
     "metadata": {
      "needs_background": "light"
     },
     "output_type": "display_data"
    }
   ],
   "source": [
    "correlation_matrix_strat = strat_test.corr()   #creating a heatmap of the attributes in the dataset\n",
    "plt.subplots(figsize=(15,15))\n",
    "sns.heatmap(correlation_matrix_strat, center=0, annot=True, linewidths=.3)"
   ]
  },
  {
   "cell_type": "markdown",
   "metadata": {},
   "source": [
    "Output file"
   ]
  },
  {
   "cell_type": "code",
   "execution_count": 33,
   "metadata": {},
   "outputs": [],
   "source": [
    "#strat_test_set.to_csv(\"log_stratified_sample_2dec2019.csv\")"
   ]
  },
  {
   "cell_type": "markdown",
   "metadata": {},
   "source": [
    "Number of elements in each category"
   ]
  },
  {
   "cell_type": "code",
   "execution_count": 34,
   "metadata": {},
   "outputs": [
    {
     "data": {
      "text/plain": [
       "4.0    346977\n",
       "5.0    241385\n",
       "2.0    215251\n",
       "3.0    194529\n",
       "1.0    126858\n",
       "Name: categories, dtype: int64"
      ]
     },
     "execution_count": 34,
     "metadata": {},
     "output_type": "execute_result"
    }
   ],
   "source": [
    "strat_test_set.categories.value_counts()"
   ]
  },
  {
   "cell_type": "code",
   "execution_count": null,
   "metadata": {},
   "outputs": [],
   "source": []
  }
 ],
 "metadata": {
  "kernelspec": {
   "display_name": "Python 3",
   "language": "python",
   "name": "python3"
  },
  "language_info": {
   "codemirror_mode": {
    "name": "ipython",
    "version": 3
   },
   "file_extension": ".py",
   "mimetype": "text/x-python",
   "name": "python",
   "nbconvert_exporter": "python",
   "pygments_lexer": "ipython3",
   "version": "3.6.8"
  }
 },
 "nbformat": 4,
 "nbformat_minor": 2
}
