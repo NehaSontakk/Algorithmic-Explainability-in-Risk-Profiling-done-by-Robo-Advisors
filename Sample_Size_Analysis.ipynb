{
 "cells": [
  {
   "cell_type": "markdown",
   "metadata": {},
   "source": [
    "# Training data size vs Model Accuracy\n",
    "\n",
    "A stratified data sample is required for the study. This sample would be provided by the robo advisory firm. Here arises a question of size; what is the optimal size of data that can be provided without compromising results of this study? \n",
    "\n",
    "To find this out different sizes of data samples were taken and checked on how accurately these models can perform on those. "
   ]
  },
  {
   "cell_type": "code",
   "execution_count": 1,
   "metadata": {},
   "outputs": [],
   "source": [
    "import pandas as pd\n",
    "import numpy as np\n",
    "from sklearn.model_selection import train_test_split\n",
    "from sklearn import metrics"
   ]
  },
  {
   "cell_type": "markdown",
   "metadata": {},
   "source": [
    "##### Importing the balanced stratified dataset"
   ]
  },
  {
   "cell_type": "code",
   "execution_count": 2,
   "metadata": {},
   "outputs": [
    {
     "data": {
      "text/html": [
       "<div>\n",
       "<style scoped>\n",
       "    .dataframe tbody tr th:only-of-type {\n",
       "        vertical-align: middle;\n",
       "    }\n",
       "\n",
       "    .dataframe tbody tr th {\n",
       "        vertical-align: top;\n",
       "    }\n",
       "\n",
       "    .dataframe thead th {\n",
       "        text-align: right;\n",
       "    }\n",
       "</style>\n",
       "<table border=\"1\" class=\"dataframe\">\n",
       "  <thead>\n",
       "    <tr style=\"text-align: right;\">\n",
       "      <th></th>\n",
       "      <th>Age</th>\n",
       "      <th>Dependents</th>\n",
       "      <th>Annual_income</th>\n",
       "      <th>Monthly_loans</th>\n",
       "      <th>Income_stability</th>\n",
       "      <th>Portfolio_status</th>\n",
       "      <th>Investment_obj</th>\n",
       "      <th>Duration_inv</th>\n",
       "      <th>Comfort</th>\n",
       "      <th>Behaviour</th>\n",
       "      <th>output</th>\n",
       "      <th>categories</th>\n",
       "    </tr>\n",
       "  </thead>\n",
       "  <tbody>\n",
       "    <tr>\n",
       "      <th>0</th>\n",
       "      <td>0.2</td>\n",
       "      <td>0.6</td>\n",
       "      <td>0.4</td>\n",
       "      <td>0.4</td>\n",
       "      <td>0.3</td>\n",
       "      <td>0.4</td>\n",
       "      <td>1.0</td>\n",
       "      <td>0.50</td>\n",
       "      <td>0.2</td>\n",
       "      <td>0.2</td>\n",
       "      <td>1.122540</td>\n",
       "      <td>1.0</td>\n",
       "    </tr>\n",
       "    <tr>\n",
       "      <th>1</th>\n",
       "      <td>1.0</td>\n",
       "      <td>0.8</td>\n",
       "      <td>1.0</td>\n",
       "      <td>1.0</td>\n",
       "      <td>0.3</td>\n",
       "      <td>0.4</td>\n",
       "      <td>0.4</td>\n",
       "      <td>0.60</td>\n",
       "      <td>0.1</td>\n",
       "      <td>0.3</td>\n",
       "      <td>3.704280</td>\n",
       "      <td>4.0</td>\n",
       "    </tr>\n",
       "    <tr>\n",
       "      <th>2</th>\n",
       "      <td>1.0</td>\n",
       "      <td>0.6</td>\n",
       "      <td>1.0</td>\n",
       "      <td>0.2</td>\n",
       "      <td>0.1</td>\n",
       "      <td>0.6</td>\n",
       "      <td>0.4</td>\n",
       "      <td>0.65</td>\n",
       "      <td>0.9</td>\n",
       "      <td>0.2</td>\n",
       "      <td>3.220670</td>\n",
       "      <td>3.0</td>\n",
       "    </tr>\n",
       "    <tr>\n",
       "      <th>3</th>\n",
       "      <td>0.5</td>\n",
       "      <td>0.1</td>\n",
       "      <td>0.2</td>\n",
       "      <td>0.6</td>\n",
       "      <td>0.6</td>\n",
       "      <td>0.4</td>\n",
       "      <td>0.5</td>\n",
       "      <td>0.65</td>\n",
       "      <td>0.2</td>\n",
       "      <td>0.2</td>\n",
       "      <td>1.117035</td>\n",
       "      <td>1.0</td>\n",
       "    </tr>\n",
       "    <tr>\n",
       "      <th>4</th>\n",
       "      <td>1.0</td>\n",
       "      <td>0.6</td>\n",
       "      <td>0.4</td>\n",
       "      <td>0.6</td>\n",
       "      <td>0.1</td>\n",
       "      <td>0.4</td>\n",
       "      <td>0.5</td>\n",
       "      <td>0.80</td>\n",
       "      <td>1.0</td>\n",
       "      <td>0.9</td>\n",
       "      <td>3.033080</td>\n",
       "      <td>3.0</td>\n",
       "    </tr>\n",
       "  </tbody>\n",
       "</table>\n",
       "</div>"
      ],
      "text/plain": [
       "   Age  Dependents  Annual_income  Monthly_loans  Income_stability  \\\n",
       "0  0.2         0.6            0.4            0.4               0.3   \n",
       "1  1.0         0.8            1.0            1.0               0.3   \n",
       "2  1.0         0.6            1.0            0.2               0.1   \n",
       "3  0.5         0.1            0.2            0.6               0.6   \n",
       "4  1.0         0.6            0.4            0.6               0.1   \n",
       "\n",
       "   Portfolio_status  Investment_obj  Duration_inv  Comfort  Behaviour  \\\n",
       "0               0.4             1.0          0.50      0.2        0.2   \n",
       "1               0.4             0.4          0.60      0.1        0.3   \n",
       "2               0.6             0.4          0.65      0.9        0.2   \n",
       "3               0.4             0.5          0.65      0.2        0.2   \n",
       "4               0.4             0.5          0.80      1.0        0.9   \n",
       "\n",
       "     output  categories  \n",
       "0  1.122540         1.0  \n",
       "1  3.704280         4.0  \n",
       "2  3.220670         3.0  \n",
       "3  1.117035         1.0  \n",
       "4  3.033080         3.0  "
      ]
     },
     "execution_count": 2,
     "metadata": {},
     "output_type": "execute_result"
    }
   ],
   "source": [
    "df_stratified = pd.read_csv(\"poly_stratified_sample_27nov2019.csv\")\n",
    "df_stratified.drop(df_stratified.columns[df_stratified.columns.str.contains('unnamed',case=False)],axis=1,inplace=True)\n",
    "df_stratified.head()"
   ]
  },
  {
   "cell_type": "code",
   "execution_count": 3,
   "metadata": {},
   "outputs": [],
   "source": [
    "df_stratified.drop(columns=['output'],inplace=True)\n",
    "X = df_stratified.drop(columns=['categories'])\n",
    "Y = df_stratified['categories']"
   ]
  },
  {
   "cell_type": "markdown",
   "metadata": {},
   "source": [
    "##### importing models"
   ]
  },
  {
   "cell_type": "code",
   "execution_count": 4,
   "metadata": {},
   "outputs": [],
   "source": [
    "from sklearn.linear_model import LogisticRegression\n",
    "from sklearn.naive_bayes import GaussianNB\n",
    "from sklearn.tree import DecisionTreeClassifier\n",
    "from sklearn.neighbors import KNeighborsClassifier \n",
    "from sklearn.svm import SVC "
   ]
  },
  {
   "cell_type": "code",
   "execution_count": 5,
   "metadata": {},
   "outputs": [],
   "source": [
    "models = []\n",
    "models.append((\"LR\",LogisticRegression(penalty='l2',solver = 'lbfgs')))\n",
    "models.append((\"GNB\",GaussianNB()))\n",
    "models.append((\"DTREE\",DecisionTreeClassifier(max_depth = 18)))\n",
    "models.append((\"KNN\",KNeighborsClassifier(n_neighbors = 10)))\n",
    "models.append((\"SVM\",SVC(kernel = 'poly', C = 1,probability=True)))"
   ]
  },
  {
   "cell_type": "markdown",
   "metadata": {},
   "source": [
    "##### Our test sizes for division of data"
   ]
  },
  {
   "cell_type": "code",
   "execution_count": 6,
   "metadata": {},
   "outputs": [],
   "source": [
    "test_size_n = [0.98,0.95,0.90,0.80,0.75,0.66,0.60]\n",
    "X_train = {}\n",
    "X_test ={}\n",
    "Y_train ={}\n",
    "Y_test = {}\n",
    "model_fits= {}"
   ]
  },
  {
   "cell_type": "markdown",
   "metadata": {},
   "source": [
    "##### Storing the different data sets"
   ]
  },
  {
   "cell_type": "code",
   "execution_count": 7,
   "metadata": {},
   "outputs": [],
   "source": [
    "for i in range(len(test_size_n)):\n",
    "    X_train[i] , X_test[i], Y_train[i], Y_test[i] = train_test_split(X,Y,test_size = test_size_n[i],random_state=42,stratify=Y)"
   ]
  },
  {
   "cell_type": "markdown",
   "metadata": {},
   "source": [
    "##### Steps shown seperately for ease of understanding"
   ]
  },
  {
   "cell_type": "markdown",
   "metadata": {},
   "source": [
    "## Trained on 2% of data"
   ]
  },
  {
   "cell_type": "code",
   "execution_count": 8,
   "metadata": {},
   "outputs": [
    {
     "name": "stdout",
     "output_type": "stream",
     "text": [
      "Training Size:  22500 ,Test Size:  1102500\n"
     ]
    }
   ],
   "source": [
    "print(\"Training Size: \",len(X_train[0]),\",Test Size: \",len(X_test[0]))"
   ]
  },
  {
   "cell_type": "code",
   "execution_count": 9,
   "metadata": {},
   "outputs": [
    {
     "name": "stderr",
     "output_type": "stream",
     "text": [
      "/usr/local/lib/python3.6/dist-packages/sklearn/linear_model/_logistic.py:939: ConvergenceWarning: lbfgs failed to converge (status=1):\n",
      "STOP: TOTAL NO. of ITERATIONS REACHED LIMIT.\n",
      "\n",
      "Increase the number of iterations (max_iter) or scale the data as shown in:\n",
      "    https://scikit-learn.org/stable/modules/preprocessing.html.\n",
      "Please also refer to the documentation for alternative solver options:\n",
      "    https://scikit-learn.org/stable/modules/linear_model.html#logistic-regression\n",
      "  extra_warning_msg=_LOGISTIC_SOLVER_CONVERGENCE_MSG)\n"
     ]
    }
   ],
   "source": [
    "model_fit=[]\n",
    "model_preds={}\n",
    "model_preds[0]=[]\n",
    "for name,model in models:\n",
    "    model_fit.append(model.fit(X_train[0],Y_train[0]))\n",
    "    model_preds[0].append(model.predict(X_test[0]))"
   ]
  },
  {
   "cell_type": "markdown",
   "metadata": {},
   "source": [
    "## Trained on 5% of data"
   ]
  },
  {
   "cell_type": "code",
   "execution_count": 10,
   "metadata": {},
   "outputs": [
    {
     "name": "stdout",
     "output_type": "stream",
     "text": [
      "Training Size:  56250 ,Test Size:  1068750\n"
     ]
    }
   ],
   "source": [
    "print(\"Training Size: \",len(X_train[1]),\",Test Size: \",len(X_test[1]))"
   ]
  },
  {
   "cell_type": "code",
   "execution_count": 11,
   "metadata": {},
   "outputs": [
    {
     "name": "stderr",
     "output_type": "stream",
     "text": [
      "/usr/local/lib/python3.6/dist-packages/sklearn/linear_model/_logistic.py:939: ConvergenceWarning: lbfgs failed to converge (status=1):\n",
      "STOP: TOTAL NO. of ITERATIONS REACHED LIMIT.\n",
      "\n",
      "Increase the number of iterations (max_iter) or scale the data as shown in:\n",
      "    https://scikit-learn.org/stable/modules/preprocessing.html.\n",
      "Please also refer to the documentation for alternative solver options:\n",
      "    https://scikit-learn.org/stable/modules/linear_model.html#logistic-regression\n",
      "  extra_warning_msg=_LOGISTIC_SOLVER_CONVERGENCE_MSG)\n"
     ]
    }
   ],
   "source": [
    "model_preds[1] = []\n",
    "for name,model in models:\n",
    "    model_fit.append(model.fit(X_train[1],Y_train[1]))\n",
    "    model_preds[1].append(model.predict(X_test[1]))"
   ]
  },
  {
   "cell_type": "markdown",
   "metadata": {},
   "source": [
    "## Trained on 10% of the data"
   ]
  },
  {
   "cell_type": "code",
   "execution_count": 12,
   "metadata": {},
   "outputs": [
    {
     "name": "stdout",
     "output_type": "stream",
     "text": [
      "Training Size:  112500 ,Test Size:  1012500\n"
     ]
    }
   ],
   "source": [
    "print(\"Training Size: \",len(X_train[2]),\",Test Size: \",len(X_test[2]))"
   ]
  },
  {
   "cell_type": "code",
   "execution_count": 13,
   "metadata": {},
   "outputs": [
    {
     "name": "stderr",
     "output_type": "stream",
     "text": [
      "/usr/local/lib/python3.6/dist-packages/sklearn/linear_model/_logistic.py:939: ConvergenceWarning: lbfgs failed to converge (status=1):\n",
      "STOP: TOTAL NO. of ITERATIONS REACHED LIMIT.\n",
      "\n",
      "Increase the number of iterations (max_iter) or scale the data as shown in:\n",
      "    https://scikit-learn.org/stable/modules/preprocessing.html.\n",
      "Please also refer to the documentation for alternative solver options:\n",
      "    https://scikit-learn.org/stable/modules/linear_model.html#logistic-regression\n",
      "  extra_warning_msg=_LOGISTIC_SOLVER_CONVERGENCE_MSG)\n"
     ]
    }
   ],
   "source": [
    "model_preds[2]=[]\n",
    "for name,model in models:\n",
    "    model_fit.append(model.fit(X_train[2],Y_train[2]))\n",
    "    model_preds[2].append(model.predict(X_test[2]))"
   ]
  },
  {
   "cell_type": "markdown",
   "metadata": {},
   "source": [
    "## Trained on 20% of the data"
   ]
  },
  {
   "cell_type": "code",
   "execution_count": 14,
   "metadata": {},
   "outputs": [
    {
     "name": "stdout",
     "output_type": "stream",
     "text": [
      "Training Size:  225000 ,Test Size:  900000\n"
     ]
    }
   ],
   "source": [
    "print(\"Training Size: \",len(X_train[3]),\",Test Size: \",len(X_test[3]))"
   ]
  },
  {
   "cell_type": "code",
   "execution_count": 15,
   "metadata": {},
   "outputs": [
    {
     "name": "stderr",
     "output_type": "stream",
     "text": [
      "/usr/local/lib/python3.6/dist-packages/sklearn/linear_model/_logistic.py:939: ConvergenceWarning: lbfgs failed to converge (status=1):\n",
      "STOP: TOTAL NO. of ITERATIONS REACHED LIMIT.\n",
      "\n",
      "Increase the number of iterations (max_iter) or scale the data as shown in:\n",
      "    https://scikit-learn.org/stable/modules/preprocessing.html.\n",
      "Please also refer to the documentation for alternative solver options:\n",
      "    https://scikit-learn.org/stable/modules/linear_model.html#logistic-regression\n",
      "  extra_warning_msg=_LOGISTIC_SOLVER_CONVERGENCE_MSG)\n"
     ]
    }
   ],
   "source": [
    "model_preds[3]=[]\n",
    "for name,model in models:\n",
    "    model_fit.append(model.fit(X_train[3],Y_train[3]))\n",
    "    model_preds[3].append(model.predict(X_test[3]))"
   ]
  },
  {
   "cell_type": "markdown",
   "metadata": {},
   "source": [
    "## Trained on 25% of data"
   ]
  },
  {
   "cell_type": "code",
   "execution_count": 16,
   "metadata": {},
   "outputs": [
    {
     "name": "stdout",
     "output_type": "stream",
     "text": [
      "Training Size:  281250 ,Test Size:  843750\n"
     ]
    }
   ],
   "source": [
    "print(\"Training Size: \",len(X_train[4]),\",Test Size: \",len(X_test[4]))"
   ]
  },
  {
   "cell_type": "code",
   "execution_count": 17,
   "metadata": {},
   "outputs": [
    {
     "name": "stderr",
     "output_type": "stream",
     "text": [
      "/usr/local/lib/python3.6/dist-packages/sklearn/linear_model/_logistic.py:939: ConvergenceWarning: lbfgs failed to converge (status=1):\n",
      "STOP: TOTAL NO. of ITERATIONS REACHED LIMIT.\n",
      "\n",
      "Increase the number of iterations (max_iter) or scale the data as shown in:\n",
      "    https://scikit-learn.org/stable/modules/preprocessing.html.\n",
      "Please also refer to the documentation for alternative solver options:\n",
      "    https://scikit-learn.org/stable/modules/linear_model.html#logistic-regression\n",
      "  extra_warning_msg=_LOGISTIC_SOLVER_CONVERGENCE_MSG)\n"
     ]
    }
   ],
   "source": [
    "model_preds[4]=[]\n",
    "for name,model in models:\n",
    "    model_fit.append(model.fit(X_train[4],Y_train[4]))\n",
    "    model_preds[4].append(model.predict(X_test[4]))"
   ]
  },
  {
   "cell_type": "markdown",
   "metadata": {},
   "source": [
    "## Trained on 33% of data"
   ]
  },
  {
   "cell_type": "code",
   "execution_count": 18,
   "metadata": {},
   "outputs": [
    {
     "name": "stdout",
     "output_type": "stream",
     "text": [
      "Training Size:  382500 ,Test Size:  742500\n"
     ]
    }
   ],
   "source": [
    "print(\"Training Size: \",len(X_train[5]),\",Test Size: \",len(X_test[5]))"
   ]
  },
  {
   "cell_type": "code",
   "execution_count": 19,
   "metadata": {},
   "outputs": [
    {
     "name": "stderr",
     "output_type": "stream",
     "text": [
      "/usr/local/lib/python3.6/dist-packages/sklearn/linear_model/_logistic.py:939: ConvergenceWarning: lbfgs failed to converge (status=1):\n",
      "STOP: TOTAL NO. of ITERATIONS REACHED LIMIT.\n",
      "\n",
      "Increase the number of iterations (max_iter) or scale the data as shown in:\n",
      "    https://scikit-learn.org/stable/modules/preprocessing.html.\n",
      "Please also refer to the documentation for alternative solver options:\n",
      "    https://scikit-learn.org/stable/modules/linear_model.html#logistic-regression\n",
      "  extra_warning_msg=_LOGISTIC_SOLVER_CONVERGENCE_MSG)\n"
     ]
    }
   ],
   "source": [
    "model_preds[5]=[]\n",
    "for name,model in models:\n",
    "    model_fit.append(model.fit(X_train[5],Y_train[5]))\n",
    "    model_preds[5].append(model.predict(X_test[5]))"
   ]
  },
  {
   "cell_type": "markdown",
   "metadata": {},
   "source": [
    "## Trained on 40% of the data"
   ]
  },
  {
   "cell_type": "code",
   "execution_count": 20,
   "metadata": {},
   "outputs": [
    {
     "name": "stdout",
     "output_type": "stream",
     "text": [
      "Training Size:  382500 ,Test Size:  742500\n"
     ]
    }
   ],
   "source": [
    "print(\"Training Size: \",len(X_train[5]),\",Test Size: \",len(X_test[5]))"
   ]
  },
  {
   "cell_type": "code",
   "execution_count": 21,
   "metadata": {},
   "outputs": [
    {
     "name": "stderr",
     "output_type": "stream",
     "text": [
      "/usr/local/lib/python3.6/dist-packages/sklearn/linear_model/_logistic.py:939: ConvergenceWarning: lbfgs failed to converge (status=1):\n",
      "STOP: TOTAL NO. of ITERATIONS REACHED LIMIT.\n",
      "\n",
      "Increase the number of iterations (max_iter) or scale the data as shown in:\n",
      "    https://scikit-learn.org/stable/modules/preprocessing.html.\n",
      "Please also refer to the documentation for alternative solver options:\n",
      "    https://scikit-learn.org/stable/modules/linear_model.html#logistic-regression\n",
      "  extra_warning_msg=_LOGISTIC_SOLVER_CONVERGENCE_MSG)\n"
     ]
    }
   ],
   "source": [
    "model_preds[6]=[]\n",
    "for name,model in models:\n",
    "    model_fit.append(model.fit(X_train[6],Y_train[6]))\n",
    "    model_preds[6].append(model.predict(X_test[6]))"
   ]
  },
  {
   "cell_type": "code",
   "execution_count": 22,
   "metadata": {},
   "outputs": [
    {
     "data": {
      "text/plain": [
       "[array([3., 3., 1., ..., 2., 1., 2.]),\n",
       " array([2., 2., 1., ..., 2., 1., 2.]),\n",
       " array([3., 3., 1., ..., 3., 1., 2.]),\n",
       " array([3., 3., 1., ..., 2., 1., 2.]),\n",
       " array([3., 3., 1., ..., 2., 1., 2.])]"
      ]
     },
     "execution_count": 22,
     "metadata": {},
     "output_type": "execute_result"
    }
   ],
   "source": [
    "model_preds[0]"
   ]
  },
  {
   "cell_type": "markdown",
   "metadata": {},
   "source": [
    "## Plotting Accuracy vs Training Size"
   ]
  },
  {
   "cell_type": "markdown",
   "metadata": {},
   "source": [
    "##### Calculating accuracy and F1-Score"
   ]
  },
  {
   "cell_type": "code",
   "execution_count": 23,
   "metadata": {},
   "outputs": [],
   "source": [
    "LR_f1=[]\n",
    "LR_acc=[]\n",
    "GNB_f1=[]\n",
    "GNB_acc=[]\n",
    "DTREE_f1=[]\n",
    "DTREE_acc=[]\n",
    "KNN_f1=[]\n",
    "KNN_acc=[]\n",
    "SVM_f1=[]\n",
    "SVM_acc=[]\n",
    "#LR.append(metrics.f1_score(Y_test[1],model_preds[1][0],average=\"macro\"))\n",
    "for i in range(len(model_preds)):\n",
    "    LR_f1.append(metrics.f1_score(Y_test[i],model_preds[i][0],average=\"macro\"))\n",
    "    LR_acc.append(metrics.accuracy_score(Y_test[i],model_preds[i][0]))\n",
    "for i in range(len(model_preds)):\n",
    "    GNB_f1.append(metrics.f1_score(Y_test[i],model_preds[i][1],average=\"macro\"))\n",
    "    GNB_acc.append(metrics.accuracy_score(Y_test[i],model_preds[i][1]))\n",
    "for i in range(len(model_preds)):\n",
    "    DTREE_f1.append(metrics.f1_score(Y_test[i],model_preds[i][2],average=\"macro\"))\n",
    "    DTREE_acc.append(metrics.accuracy_score(Y_test[i],model_preds[i][2]))\n",
    "for i in range(len(model_preds)):\n",
    "    KNN_f1.append(metrics.f1_score(Y_test[i],model_preds[i][3],average=\"macro\"))\n",
    "    KNN_acc.append(metrics.accuracy_score(Y_test[i],model_preds[i][3]))\n",
    "for i in range(len(model_preds)):\n",
    "    SVM_f1.append(metrics.f1_score(Y_test[i],model_preds[i][4],average=\"macro\"))\n",
    "    SVM_acc.append(metrics.accuracy_score(Y_test[i],model_preds[i][4]))"
   ]
  },
  {
   "cell_type": "markdown",
   "metadata": {},
   "source": [
    "### F1 Score "
   ]
  },
  {
   "cell_type": "code",
   "execution_count": 47,
   "metadata": {},
   "outputs": [
    {
     "data": {
      "text/plain": [
       "<matplotlib.legend.Legend at 0x7f375b794710>"
      ]
     },
     "execution_count": 47,
     "metadata": {},
     "output_type": "execute_result"
    },
    {
     "data": {
      "image/png": "[encoded data removed]",
      "text/plain": [
       "<Figure size 432x288 with 1 Axes>"
      ]
     },
     "metadata": {},
     "output_type": "display_data"
    }
   ],
   "source": [
    "import matplotlib.pyplot as plt\n",
    "%matplotlib inline\n",
    "plt.style.use('ggplot')\n",
    "plt.plot([0.02,0.05,0.10,0.20,0.25,0.33,0.4],LR_f1,color=\"#3CAEA3\",label=\"LR\",linewidth=2)\n",
    "plt.plot([0.02,0.05,0.10,0.20,0.25,0.33,0.4],GNB_f1,color=\"mediumpurple\",label=\"GNB\",linewidth=2)\n",
    "plt.plot([0.02,0.05,0.10,0.20,0.25,0.33,0.4],KNN_f1,color=\"orange\",label=\"KNN\",linewidth=2)\n",
    "plt.plot([0.02,0.05,0.10,0.20,0.25,0.33,0.4],SVM_f1,color=\"#ED553B\",label=\"SVM\",linewidth=2)\n",
    "plt.plot([0.02,0.05,0.10,0.20,0.25,0.33,0.4],DTREE_f1,color=\"olivedrab\",label=\"DTREE\",linewidth=2)\n",
    "plt.title(\"F1 Score vs Training data size\")\n",
    "plt.xlabel(\"Proportion of Data\")\n",
    "plt.ylabel(\"F1 Score\")\n",
    "plt.legend()"
   ]
  },
  {
   "cell_type": "markdown",
   "metadata": {},
   "source": [
    "### Accuracy"
   ]
  },
  {
   "cell_type": "code",
   "execution_count": 49,
   "metadata": {},
   "outputs": [
    {
     "data": {
      "text/plain": [
       "Text(0.5, 1.0, 'Accuracy vs Training data size')"
      ]
     },
     "execution_count": 49,
     "metadata": {},
     "output_type": "execute_result"
    },
    {
     "data": {
      "image/png": "[encoded data removed]",
      "text/plain": [
       "<Figure size 432x288 with 1 Axes>"
      ]
     },
     "metadata": {},
     "output_type": "display_data"
    }
   ],
   "source": [
    "plt.plot([0.02,0.05,0.10,0.20,0.25,0.33,0.4],LR_acc,color=\"#3CAEA3\",label=\"LR\",linewidth=2)\n",
    "plt.plot([0.02,0.05,0.10,0.20,0.25,0.33,0.4],GNB_acc,color=\"mediumpurple\",label=\"GNB\",linewidth=2)\n",
    "plt.plot([0.02,0.05,0.10,0.20,0.25,0.33,0.4],KNN_acc,color=\"orange\",label=\"KNN\",linewidth=2)\n",
    "plt.plot([0.02,0.05,0.10,0.20,0.25,0.33,0.4],SVM_acc,color=\"#ED553B\",label=\"SVM\",linewidth=2)\n",
    "plt.plot([0.02,0.05,0.10,0.20,0.25,0.33,0.4],DTREE_acc,color=\"olivedrab\",label=\"DTREE\",linewidth=2)\n",
    "plt.xlabel(\"Proportion of Data\")\n",
    "plt.ylabel(\"Accuracy Score\")\n",
    "plt.legend()\n",
    "plt.title(\"Accuracy vs Training data size\")"
   ]
  },
  {
   "cell_type": "code",
   "execution_count": null,
   "metadata": {},
   "outputs": [],
   "source": []
  }
 ],
 "metadata": {
  "kernelspec": {
   "display_name": "Python 3",
   "language": "python",
   "name": "python3"
  },
  "language_info": {
   "codemirror_mode": {
    "name": "ipython",
    "version": 3
   },
   "file_extension": ".py",
   "mimetype": "text/x-python",
   "name": "python",
   "nbconvert_exporter": "python",
   "pygments_lexer": "ipython3",
   "version": "3.6.8"
  }
 },
 "nbformat": 4,
 "nbformat_minor": 2
}
